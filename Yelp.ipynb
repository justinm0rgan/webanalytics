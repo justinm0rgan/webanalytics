{
 "cells": [
  {
   "cell_type": "markdown",
   "id": "71d2dc60",
   "metadata": {},
   "source": [
    "# **Project 3: Network and Sentiment Analysis of Yelp Restaurant Reviews?**    \n",
    "**Group members: Jacob Silver, Justin Williams, Gregg Maloy**\n",
    "\n",
    "Blah"
   ]
  },
  {
   "cell_type": "markdown",
   "id": "a813c631",
   "metadata": {},
   "source": [
    "**Part 1: Load Packages & Exploratory Analysis**   \n",
    "Blah  "
   ]
  },
  {
   "cell_type": "code",
   "execution_count": 1,
   "id": "5ec3f078",
   "metadata": {},
   "outputs": [],
   "source": [
    "import pandas as pd\n",
    "import matplotlib.pyplot as plt\n",
    "import networkx as nx\n",
    "from networkx.algorithms import bipartite\n",
    "import json\n",
    "\n",
    "###file size is 4 gigs so i had to download to my machine and reference.  \n",
    "##there are other files with different attributes but these are the two files which contain the info we need i think\n",
    "user_json_path_business = 'C:/Users/maric/Documents/CUNYDataScience/620/final_project/yelp_academic_dataset_business.json'\n",
    "user_json_path_review   = 'C:/Users/maric/Documents/CUNYDataScience/620/final_project/yelp_academic_dataset_review.json'\n",
    "\n",
    "df_r = pd.read_json(user_json_path_review, lines=True)\n",
    "df_b = pd.read_json(user_json_path_business, lines=True)"
   ]
  },
  {
   "cell_type": "code",
   "execution_count": 2,
   "id": "fd059702",
   "metadata": {},
   "outputs": [
    {
     "name": "stdout",
     "output_type": "stream",
     "text": [
      "                review_id                 user_id             business_id  \\\n",
      "0  KU_O5udG6zpxOg-VcAEodg  mh_-eMZ6K5RLWhZyISBhwA  XQfwVwDr-v0ZS3_CbbE5Xw   \n",
      "1  BiTunyQ73aT9WBnpR9DZGw  OyoGAe7OKpv6SyGZT5g77Q  7ATYjTIgM3jUlt4UM3IypQ   \n",
      "2  saUsX_uimxRlCVr67Z4Jig  8g_iMtfSiwikVnbP2etR0A  YjUWPpI6HXG530lwP-fb2A   \n",
      "3  AqPFMleE6RsU23_auESxiA  _7bHUi9Uuf5__HHc_Q8guQ  kxX2SOes4o-D3ZQBkiMRfA   \n",
      "4  Sx8TMOWLNuJBWer-0pcmoA  bcjbaE6dDog4jkNY91ncLQ  e4Vwtrqf-wpJfwesgvdgxQ   \n",
      "5  JrIxlS1TzJ-iCu79ul40cQ  eUta8W_HdHMXPzLBBZhL1A  04UD14gamNjLY0IDYVhHJg   \n",
      "6  6AxgBCNX_PNTOxmbRSwcKQ  r3zeYsv1XFBRA4dJpL78cw  gmjsEdUsKpj9Xxu6pdjH0g   \n",
      "7  _ZeMknuYdlQcUqng_Im3yg  yfFzsLmaWF2d4Sr0UNbBgg  LHSTtnW3YHCeUkRDGyJOyw   \n",
      "8  ZKvDG2sBvHVdF5oBNUOpAQ  wSTuiTk-sKNdcFyprzZAjg  B5XSoSG3SfvQGtKEGQ1tSQ   \n",
      "9  pUycOfUwM8vqX7KjRRhUEA  59MxRhNVhU9MYndMkz0wtw  gebiRewfieSdtt17PTW6Zg   \n",
      "\n",
      "   stars  useful  funny  cool  \\\n",
      "0      3       0      0     0   \n",
      "1      5       1      0     1   \n",
      "2      3       0      0     0   \n",
      "3      5       1      0     1   \n",
      "4      4       1      0     1   \n",
      "5      1       1      2     1   \n",
      "6      5       0      2     0   \n",
      "7      5       2      0     0   \n",
      "8      3       1      1     0   \n",
      "9      3       0      0     0   \n",
      "\n",
      "                                                text                date  \n",
      "0  If you decide to eat here, just be aware it is... 2018-07-07 22:09:11  \n",
      "1  I've taken a lot of spin classes over the year... 2012-01-03 15:28:18  \n",
      "2  Family diner. Had the buffet. Eclectic assortm... 2014-02-05 20:30:30  \n",
      "3  Wow!  Yummy, different,  delicious.   Our favo... 2015-01-04 00:01:03  \n",
      "4  Cute interior and owner (?) gave us tour of up... 2017-01-14 20:54:15  \n",
      "5  I am a long term frequent customer of this est... 2015-09-23 23:10:31  \n",
      "6  Loved this tour! I grabbed a groupon and the p... 2015-01-03 23:21:18  \n",
      "7  Amazingly amazing wings and homemade bleu chee... 2015-08-07 02:29:16  \n",
      "8  This easter instead of going to Lopez Lake we ... 2016-03-30 22:46:33  \n",
      "9  Had a party of 6 here for hibachi. Our waitres... 2016-07-25 07:31:06  \n",
      "Number of unique review_ids: 6990280\n",
      "Number of unique business_id: 150346\n",
      "Number of unique user_id: 1987929\n"
     ]
    }
   ],
   "source": [
    "#this is the review file with user id, review id and business id \n",
    "\n",
    "print(df_r.head(10))\n",
    "\n",
    "unique_review_ids = df_r['review_id'].nunique()\n",
    "print(\"Number of unique review_ids:\", unique_review_ids)\n",
    "\n",
    "unique_business_id = df_r['business_id'].nunique()\n",
    "print(\"Number of unique business_id:\", unique_business_id)\n",
    "\n",
    "unique_user_id = df_r['user_id'].nunique()\n",
    "print(\"Number of unique user_id:\", unique_user_id)"
   ]
  },
  {
   "cell_type": "code",
   "execution_count": 3,
   "id": "ab795fb1",
   "metadata": {},
   "outputs": [
    {
     "name": "stdout",
     "output_type": "stream",
     "text": [
      "              business_id                      name  \\\n",
      "0  Pns2l4eNsfO8kk83dixA6A  Abby Rappoport, LAC, CMQ   \n",
      "1  mpf3x-BjTdTEA3yCZrAYPw             The UPS Store   \n",
      "2  tUFrWirKiKi_TAnsVWINQQ                    Target   \n",
      "3  MTSW4McQd7CbVtyjqoe9mw        St Honore Pastries   \n",
      "4  mWMc6_wTdE0EUBKIGXDVfA  Perkiomen Valley Brewery   \n",
      "5  CF33F8-E6oudUQ46HnavjQ            Sonic Drive-In   \n",
      "6  n_0UpQx1hsNbnPUSlodU8w           Famous Footwear   \n",
      "7  qkRM_2X51Yqxk3btlwAQIg            Temple Beth-El   \n",
      "8  k0hlBqXX-Bt0vf1op7Jr1w     Tsevi's Pub And Grill   \n",
      "9  bBDDEgkFA1Otx9Lfe7BZUQ            Sonic Drive-In   \n",
      "\n",
      "                                      address            city state  \\\n",
      "0                      1616 Chapala St, Ste 2   Santa Barbara    CA   \n",
      "1             87 Grasso Plaza Shopping Center          Affton    MO   \n",
      "2                        5255 E Broadway Blvd          Tucson    AZ   \n",
      "3                                 935 Race St    Philadelphia    PA   \n",
      "4                               101 Walnut St      Green Lane    PA   \n",
      "5                               615 S Main St    Ashland City    TN   \n",
      "6  8522 Eager Road, Dierbergs Brentwood Point       Brentwood    MO   \n",
      "7                          400 Pasadena Ave S  St. Petersburg    FL   \n",
      "8                           8025 Mackenzie Rd          Affton    MO   \n",
      "9                         2312 Dickerson Pike       Nashville    TN   \n",
      "\n",
      "  postal_code   latitude   longitude  stars  review_count  is_open  \\\n",
      "0       93101  34.426679 -119.711197    5.0             7        0   \n",
      "1       63123  38.551126  -90.335695    3.0            15        1   \n",
      "2       85711  32.223236 -110.880452    3.5            22        0   \n",
      "3       19107  39.955505  -75.155564    4.0            80        1   \n",
      "4       18054  40.338183  -75.471659    4.5            13        1   \n",
      "5       37015  36.269593  -87.058943    2.0             6        1   \n",
      "6       63144  38.627695  -90.340465    2.5            13        1   \n",
      "7       33707  27.766590  -82.732983    3.5             5        1   \n",
      "8       63123  38.565165  -90.321087    3.0            19        0   \n",
      "9       37207  36.208102  -86.768170    1.5            10        1   \n",
      "\n",
      "                                          attributes  \\\n",
      "0                      {'ByAppointmentOnly': 'True'}   \n",
      "1             {'BusinessAcceptsCreditCards': 'True'}   \n",
      "2  {'BikeParking': 'True', 'BusinessAcceptsCredit...   \n",
      "3  {'RestaurantsDelivery': 'False', 'OutdoorSeati...   \n",
      "4  {'BusinessAcceptsCreditCards': 'True', 'Wheelc...   \n",
      "5  {'BusinessParking': 'None', 'BusinessAcceptsCr...   \n",
      "6  {'BusinessAcceptsCreditCards': 'True', 'Restau...   \n",
      "7                                               None   \n",
      "8  {'Caters': 'True', 'Alcohol': 'u'full_bar'', '...   \n",
      "9  {'RestaurantsAttire': ''casual'', 'Restaurants...   \n",
      "\n",
      "                                          categories  \\\n",
      "0  Doctors, Traditional Chinese Medicine, Naturop...   \n",
      "1  Shipping Centers, Local Services, Notaries, Ma...   \n",
      "2  Department Stores, Shopping, Fashion, Home & G...   \n",
      "3  Restaurants, Food, Bubble Tea, Coffee & Tea, B...   \n",
      "4                          Brewpubs, Breweries, Food   \n",
      "5  Burgers, Fast Food, Sandwiches, Food, Ice Crea...   \n",
      "6  Sporting Goods, Fashion, Shoe Stores, Shopping...   \n",
      "7                Synagogues, Religious Organizations   \n",
      "8  Pubs, Restaurants, Italian, Bars, American (Tr...   \n",
      "9  Ice Cream & Frozen Yogurt, Fast Food, Burgers,...   \n",
      "\n",
      "                                               hours  \n",
      "0                                               None  \n",
      "1  {'Monday': '0:0-0:0', 'Tuesday': '8:0-18:30', ...  \n",
      "2  {'Monday': '8:0-22:0', 'Tuesday': '8:0-22:0', ...  \n",
      "3  {'Monday': '7:0-20:0', 'Tuesday': '7:0-20:0', ...  \n",
      "4  {'Wednesday': '14:0-22:0', 'Thursday': '16:0-2...  \n",
      "5  {'Monday': '0:0-0:0', 'Tuesday': '6:0-22:0', '...  \n",
      "6  {'Monday': '0:0-0:0', 'Tuesday': '10:0-18:0', ...  \n",
      "7  {'Monday': '9:0-17:0', 'Tuesday': '9:0-17:0', ...  \n",
      "8                                               None  \n",
      "9  {'Monday': '0:0-0:0', 'Tuesday': '6:0-21:0', '...  \n",
      "Number of unique business_id: 150346\n"
     ]
    }
   ],
   "source": [
    "##this is the business file which would allow us to filter by city or state if we want, as well if business is open or closed\n",
    "\n",
    "\n",
    "\n",
    "print(df_b.head(10))\n",
    "\n",
    "#unique_review_ids = df_b['review_id'].nunique()\n",
    "#print(\"Number of unique review_ids:\", unique_review_ids)\n",
    "\n",
    "unique_business_id = df_b['business_id'].nunique()\n",
    "print(\"Number of unique business_id:\", unique_business_id)\n",
    "\n",
    "#unique_user_id = df_b['user_id'].nunique()\n",
    "#print(\"Number of unique user_id:\", unique_user_id)"
   ]
  },
  {
   "cell_type": "code",
   "execution_count": 4,
   "id": "e719a245",
   "metadata": {},
   "outputs": [],
   "source": [
    "#left joining reviewer file with business file in case we want to limit reviews to geographical area\n",
    "\n",
    "merged_df = df_r.merge(df_b, how='left', on='business_id')"
   ]
  },
  {
   "cell_type": "code",
   "execution_count": 5,
   "id": "afa17914",
   "metadata": {},
   "outputs": [
    {
     "name": "stdout",
     "output_type": "stream",
     "text": [
      "                review_id                 user_id             business_id  \\\n",
      "0  KU_O5udG6zpxOg-VcAEodg  mh_-eMZ6K5RLWhZyISBhwA  XQfwVwDr-v0ZS3_CbbE5Xw   \n",
      "1  BiTunyQ73aT9WBnpR9DZGw  OyoGAe7OKpv6SyGZT5g77Q  7ATYjTIgM3jUlt4UM3IypQ   \n",
      "2  saUsX_uimxRlCVr67Z4Jig  8g_iMtfSiwikVnbP2etR0A  YjUWPpI6HXG530lwP-fb2A   \n",
      "3  AqPFMleE6RsU23_auESxiA  _7bHUi9Uuf5__HHc_Q8guQ  kxX2SOes4o-D3ZQBkiMRfA   \n",
      "4  Sx8TMOWLNuJBWer-0pcmoA  bcjbaE6dDog4jkNY91ncLQ  e4Vwtrqf-wpJfwesgvdgxQ   \n",
      "5  JrIxlS1TzJ-iCu79ul40cQ  eUta8W_HdHMXPzLBBZhL1A  04UD14gamNjLY0IDYVhHJg   \n",
      "6  6AxgBCNX_PNTOxmbRSwcKQ  r3zeYsv1XFBRA4dJpL78cw  gmjsEdUsKpj9Xxu6pdjH0g   \n",
      "7  _ZeMknuYdlQcUqng_Im3yg  yfFzsLmaWF2d4Sr0UNbBgg  LHSTtnW3YHCeUkRDGyJOyw   \n",
      "8  ZKvDG2sBvHVdF5oBNUOpAQ  wSTuiTk-sKNdcFyprzZAjg  B5XSoSG3SfvQGtKEGQ1tSQ   \n",
      "9  pUycOfUwM8vqX7KjRRhUEA  59MxRhNVhU9MYndMkz0wtw  gebiRewfieSdtt17PTW6Zg   \n",
      "\n",
      "   stars_x  useful  funny  cool  \\\n",
      "0        3       0      0     0   \n",
      "1        5       1      0     1   \n",
      "2        3       0      0     0   \n",
      "3        5       1      0     1   \n",
      "4        4       1      0     1   \n",
      "5        1       1      2     1   \n",
      "6        5       0      2     0   \n",
      "7        5       2      0     0   \n",
      "8        3       1      1     0   \n",
      "9        3       0      0     0   \n",
      "\n",
      "                                                text                date  \\\n",
      "0  If you decide to eat here, just be aware it is... 2018-07-07 22:09:11   \n",
      "1  I've taken a lot of spin classes over the year... 2012-01-03 15:28:18   \n",
      "2  Family diner. Had the buffet. Eclectic assortm... 2014-02-05 20:30:30   \n",
      "3  Wow!  Yummy, different,  delicious.   Our favo... 2015-01-04 00:01:03   \n",
      "4  Cute interior and owner (?) gave us tour of up... 2017-01-14 20:54:15   \n",
      "5  I am a long term frequent customer of this est... 2015-09-23 23:10:31   \n",
      "6  Loved this tour! I grabbed a groupon and the p... 2015-01-03 23:21:18   \n",
      "7  Amazingly amazing wings and homemade bleu chee... 2015-08-07 02:29:16   \n",
      "8  This easter instead of going to Lopez Lake we ... 2016-03-30 22:46:33   \n",
      "9  Had a party of 6 here for hibachi. Our waitres... 2016-07-25 07:31:06   \n",
      "\n",
      "                              name  ... state postal_code   latitude  \\\n",
      "0     Turning Point of North Wales  ...    PA       19454  40.210196   \n",
      "1       Body Cycle Spinning Studio  ...    PA       19119  39.952103   \n",
      "2                Kettle Restaurant  ...    AZ       85713  32.207233   \n",
      "3                            Zaika  ...    PA       19114  40.079848   \n",
      "4                             Melt  ...    LA       70119  29.962102   \n",
      "5                         Dmitri's  ...    PA       19147  39.938013   \n",
      "6       The Voodoo Bone Lady Tours  ...    LA       70170  29.952030   \n",
      "7                  Fries Rebellion  ...    PA       18951  40.407537   \n",
      "8       Los Padres National Forest  ...    CA       93105  34.597239   \n",
      "9  Hibachi Steak House & Sushi Bar  ...    CA       93101  34.416984   \n",
      "\n",
      "    longitude  stars_y  review_count  is_open  \\\n",
      "0  -75.223639      3.0           169        1   \n",
      "1  -75.172753      5.0           144        0   \n",
      "2 -110.980864      3.5            47        1   \n",
      "3  -75.025080      4.0           181        1   \n",
      "4  -90.087958      4.0            32        0   \n",
      "5  -75.148131      4.0           273        0   \n",
      "6  -90.070334      4.5           359        1   \n",
      "7  -75.338825      3.5           103        0   \n",
      "8 -119.510772      4.5            13        1   \n",
      "9 -119.695556      3.5           488        1   \n",
      "\n",
      "                                          attributes  \\\n",
      "0  {'NoiseLevel': 'u'average'', 'HasTV': 'False',...   \n",
      "1  {'BusinessAcceptsCreditCards': 'True', 'GoodFo...   \n",
      "2  {'RestaurantsReservations': 'True', 'BusinessP...   \n",
      "3  {'Caters': 'True', 'Ambience': '{'romantic': F...   \n",
      "4  {'BusinessParking': '{'garage': False, 'street...   \n",
      "5  {'BusinessParking': '{'garage': False, 'street...   \n",
      "6                            {'GoodForKids': 'True'}   \n",
      "7  {'RestaurantsAttire': ''casual'', 'Ambience': ...   \n",
      "8  {'GoodForKids': 'True', 'BikeParking': 'True',...   \n",
      "9  {'Corkage': 'False', 'RestaurantsTakeOut': 'Tr...   \n",
      "\n",
      "                                          categories  \\\n",
      "0  Restaurants, Breakfast & Brunch, Food, Juice B...   \n",
      "1  Active Life, Cycling Classes, Trainers, Gyms, ...   \n",
      "2                    Restaurants, Breakfast & Brunch   \n",
      "3              Halal, Pakistani, Restaurants, Indian   \n",
      "4  Sandwiches, Beer, Wine & Spirits, Bars, Food, ...   \n",
      "5         Mediterranean, Restaurants, Seafood, Greek   \n",
      "6  Supernatural Readings, Tours, Hotels & Travel,...   \n",
      "7  Beer Bar, Bars, American (New), Gastropubs, Re...   \n",
      "8                                 Parks, Active Life   \n",
      "9     Steakhouses, Sushi Bars, Restaurants, Japanese   \n",
      "\n",
      "                                               hours  \n",
      "0  {'Monday': '7:30-15:0', 'Tuesday': '7:30-15:0'...  \n",
      "1  {'Monday': '6:30-20:30', 'Tuesday': '6:30-20:3...  \n",
      "2                                               None  \n",
      "3  {'Tuesday': '11:0-21:0', 'Wednesday': '11:0-21...  \n",
      "4  {'Monday': '0:0-0:0', 'Friday': '11:0-17:0', '...  \n",
      "5  {'Wednesday': '17:30-21:0', 'Thursday': '17:30...  \n",
      "6  {'Monday': '10:0-22:0', 'Tuesday': '10:0-22:0'...  \n",
      "7  {'Wednesday': '11:0-23:0', 'Thursday': '11:0-2...  \n",
      "8                                               None  \n",
      "9                              {'Monday': '0:0-0:0'}  \n",
      "\n",
      "[10 rows x 22 columns]\n",
      "Number of unique review_ids: 6990280\n",
      "Number of unique business_id: 150346\n",
      "Number of unique user_id: 1987929\n"
     ]
    }
   ],
   "source": [
    "#descriptive stats of the new merged df\n",
    "\n",
    "print(merged_df.head(10))\n",
    "\n",
    "unique_review_ids = merged_df['review_id'].nunique()\n",
    "print(\"Number of unique review_ids:\", unique_review_ids)\n",
    "\n",
    "unique_business_id = merged_df['business_id'].nunique()\n",
    "print(\"Number of unique business_id:\", unique_business_id)\n",
    "\n",
    "unique_user_id = merged_df['user_id'].nunique()\n",
    "print(\"Number of unique user_id:\", unique_user_id)"
   ]
  },
  {
   "cell_type": "code",
   "execution_count": 6,
   "id": "a9ca6694",
   "metadata": {},
   "outputs": [],
   "source": [
    "#limit to those open restaurants only???? i dunno\n",
    "# 1 = open, 0 = closed\n",
    "merged_df = merged_df[merged_df['is_open']==1]"
   ]
  },
  {
   "cell_type": "code",
   "execution_count": 7,
   "id": "c2314b3f",
   "metadata": {},
   "outputs": [
    {
     "name": "stdout",
     "output_type": "stream",
     "text": [
      "Total number of restaurant categories: 2\n",
      "Top 10 Restaurant Categories:\n"
     ]
    }
   ],
   "source": [
    "df_explode = merged_df.assign(categories=merged_df.categories.str.split(', ')).explode('categories')\n",
    "\n",
    "# Count all categories\n",
    "category_counts = df_explode['categories'].value_counts()\n",
    "\n",
    "# Filter for restaurants only\n",
    "restaurant_df = df_explode[df_explode['categories'].str.contains('Restaurants', case=True, na=False)]\n",
    "restaurant_categories = restaurant_df['categories'].value_counts()\n",
    "\n",
    "print('Total number of restaurant categories:', len(restaurant_categories))\n",
    "print('Top 10 Restaurant Categories:')\n",
    "#print(restaurant_categories[:10])\n",
    "#print(restaurant_df[:10])"
   ]
  },
  {
   "cell_type": "code",
   "execution_count": 32,
   "id": "639b2221",
   "metadata": {},
   "outputs": [
    {
     "name": "stdout",
     "output_type": "stream",
     "text": [
      "Number of rows: 3777208\n"
     ]
    }
   ],
   "source": [
    "##number of rows/reviews in df that where category coluymn is filtered to 'Restaurants'\n",
    "\n",
    "num_rows = len(restaurant_df)\n",
    "print(\"Number of rows:\", num_rows)"
   ]
  },
  {
   "cell_type": "code",
   "execution_count": 8,
   "id": "e350d0f8",
   "metadata": {},
   "outputs": [
    {
     "name": "stdout",
     "output_type": "stream",
     "text": [
      "city\n",
      "Philadelphia        511384\n",
      "New Orleans         396258\n",
      "Nashville           267392\n",
      "Tampa               244494\n",
      "Tucson              201342\n",
      "                     ...  \n",
      "Rural Hill               5\n",
      "Oldmans Township         5\n",
      "St Petersurg             5\n",
      "Liverpool                5\n",
      "Valencia West            5\n",
      "Length: 846, dtype: int64\n"
     ]
    }
   ],
   "source": [
    "### here are the # of reviews by city. do we want to limit to one city to make more manageable?\n",
    "\n",
    "grouped_restaurant = restaurant_df.groupby('city')\n",
    "restaurant_count_by_city = grouped_restaurant.size().sort_values(ascending=False)\n",
    "print(restaurant_count_by_city)"
   ]
  },
  {
   "cell_type": "code",
   "execution_count": null,
   "id": "3e0d0114",
   "metadata": {},
   "outputs": [],
   "source": [
    "##############i tried graphing the entire network and let it run for 30 min.\n",
    "##############3 million rows is too much so we should probably limit to a city or something else"
   ]
  },
  {
   "cell_type": "markdown",
   "id": "d3aeff06",
   "metadata": {},
   "source": [
    " \n"
   ]
  },
  {
   "cell_type": "code",
   "execution_count": null,
   "id": "0ae08708",
   "metadata": {},
   "outputs": [],
   "source": []
  },
  {
   "cell_type": "code",
   "execution_count": null,
   "id": "71079887",
   "metadata": {},
   "outputs": [],
   "source": [
    "######################BELOW IS A DIFFERENT ASSIGNMENT. I AM USING A THIS FILE AS A TEMPLATE "
   ]
  },
  {
   "cell_type": "code",
   "execution_count": null,
   "id": "e3894f59",
   "metadata": {},
   "outputs": [],
   "source": [
    "####STTTTTTTTTTTTTTTTTOOOOOOOOOPPPPPP"
   ]
  },
  {
   "cell_type": "code",
   "execution_count": null,
   "id": "4218e099",
   "metadata": {},
   "outputs": [],
   "source": [
    "####STOP"
   ]
  },
  {
   "cell_type": "code",
   "execution_count": null,
   "id": "14ddaf19",
   "metadata": {},
   "outputs": [],
   "source": []
  },
  {
   "cell_type": "code",
   "execution_count": null,
   "id": "60e10dd0",
   "metadata": {},
   "outputs": [],
   "source": [
    "#Create the bipartite graph\n",
    "#graph = nx.Graph()\n",
    "\n",
    "\n",
    "    \n",
    "#plt.show()\n",
    "#graph.add_nodes_from(restaurant_df['user_id']      ,bipartite=1, with_labels=False)\n",
    "#graph.add_nodes_from(restaurant_df['business_id'],bipartite=0, with_labels=False)\n",
    "##tesing data- for each node there is at least one edge\n",
    "#print(nx.is_connected(graph))\n",
    "\n",
    "##Returns True if graph G is bipartite, False if not.\n",
    "#print(nx.is_bipartite(graph)) \n",
    "#node_colors = ['blue' if node_type == 1 else 'red' for node_type in nx.get_node_attributes(graph, 'bipartite').values()]\n",
    "\n",
    "#for i in range(len(restaurant_df)):\n",
    "#  graph.add_edges_from([(restaurant_df.iloc[i,1],restaurant_df.iloc[i,0])])\n",
    "\n",
    "#plt.figure(figsize=(25,25))\n",
    "#plt.text(0.5, 1.05, \"reviewers (red) and restaurants (blue)\", fontsize=24, ha='center', transform=plt.gca().transAxes)\n",
    "#nx.draw_networkx(graph, with_labels=False, node_size=25,node_color=node_colors)\n",
    "#plt.show()\n",
    "\n",
    "\n",
    "   "
   ]
  },
  {
   "cell_type": "markdown",
   "id": "1f223774",
   "metadata": {},
   "source": [
    "\n"
   ]
  },
  {
   "cell_type": "code",
   "execution_count": null,
   "id": "02e9c7ac",
   "metadata": {},
   "outputs": [],
   "source": []
  }
 ],
 "metadata": {
  "kernelspec": {
   "display_name": "Python 3 (ipykernel)",
   "language": "python",
   "name": "python3"
  },
  "language_info": {
   "codemirror_mode": {
    "name": "ipython",
    "version": 3
   },
   "file_extension": ".py",
   "mimetype": "text/x-python",
   "name": "python",
   "nbconvert_exporter": "python",
   "pygments_lexer": "ipython3",
   "version": "3.10.9"
  }
 },
 "nbformat": 4,
 "nbformat_minor": 5
}
