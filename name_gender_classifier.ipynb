{
 "cells": [
  {
   "attachments": {},
   "cell_type": "markdown",
   "metadata": {},
   "source": [
    "# Name Gender Classifer\n",
    "**Group:** *Justin Williams / Jacob Silver / Gregg Maloy*<br>\n",
    "\n",
    "We will create a bunch of features, than use the `NavieBayesClassifier` from the **nltk** package to create the best name gender classifier we can.\n",
    "\n",
    "**Stipulations are as follows:**<br>\n",
    "Begin by splitting the Names Corpus into three subsets:\n",
    "- 500 words for the test set\n",
    "- 500 words for the devtest set\n",
    "- remaining 6900 words for the training set.\n",
    "\n",
    "Then, starting with the example name gender classifier, make incremental improvements. Use the dev-test set to check your progress. Once you are satisfied with your classifier, check its final performance on the test set.\n",
    "\n",
    "*How does the performance on the test set compare to the performance on the dev-test set?*<br>\n",
    "*Is this what you'd expect?*"
   ]
  },
  {
   "cell_type": "code",
   "execution_count": 2,
   "metadata": {},
   "outputs": [],
   "source": [
    "# import packages\n",
    "import pandas as pd\n",
    "import numpy as np\n",
    "import nltk\n",
    "import re\n",
    "from nltk.corpus import names\n",
    "from collections import defaultdict\n",
    "from sklearn.model_selection import train_test_split\n",
    "from sklearn.utils import resample\n",
    "import matplotlib.pyplot as plt\n",
    "import seaborn as sns"
   ]
  },
  {
   "attachments": {},
   "cell_type": "markdown",
   "metadata": {},
   "source": [
    "## Import data\n",
    "First step is to import the built in data from the **nltk** package."
   ]
  },
  {
   "cell_type": "code",
   "execution_count": 3,
   "metadata": {},
   "outputs": [
    {
     "data": {
      "text/plain": [
       "[('Aamir', 'male'),\n",
       " ('Aaron', 'male'),\n",
       " ('Abbey', 'male'),\n",
       " ('Abbie', 'male'),\n",
       " ('Abbot', 'male'),\n",
       " ('Abbott', 'male'),\n",
       " ('Abby', 'male'),\n",
       " ('Abdel', 'male'),\n",
       " ('Abdul', 'male'),\n",
       " ('Abdulkarim', 'male')]"
      ]
     },
     "execution_count": 3,
     "metadata": {},
     "output_type": "execute_result"
    }
   ],
   "source": [
    "# get words from corpus\n",
    "male_words = nltk.corpus.names.words('male.txt')\n",
    "female_words = nltk.corpus.names.words('female.txt')\n",
    "\n",
    "# create list of tuples\n",
    "names = [(name, 'male') for name in male_words] + [(name, 'female') for name in female_words]\n",
    "\n",
    "names[:10]"
   ]
  },
  {
   "attachments": {},
   "cell_type": "markdown",
   "metadata": {},
   "source": [
    "We can see this is a list made of tuples with a `name` and `gender`.\n"
   ]
  },
  {
   "cell_type": "code",
   "execution_count": 4,
   "metadata": {},
   "outputs": [
    {
     "name": "stdout",
     "output_type": "stream",
     "text": [
      "There are 7944 names in the list.\n"
     ]
    }
   ],
   "source": [
    "records=len(names)\n",
    "print(f\"There are {records} names in the list.\")"
   ]
  },
  {
   "attachments": {},
   "cell_type": "markdown",
   "metadata": {},
   "source": [
    "## Create dataframe\n",
    "We want to create a dataframe for easier feature creation and data exploration."
   ]
  },
  {
   "cell_type": "code",
   "execution_count": 5,
   "metadata": {},
   "outputs": [
    {
     "data": {
      "text/html": [
       "<div>\n",
       "<style scoped>\n",
       "    .dataframe tbody tr th:only-of-type {\n",
       "        vertical-align: middle;\n",
       "    }\n",
       "\n",
       "    .dataframe tbody tr th {\n",
       "        vertical-align: top;\n",
       "    }\n",
       "\n",
       "    .dataframe thead th {\n",
       "        text-align: right;\n",
       "    }\n",
       "</style>\n",
       "<table border=\"1\" class=\"dataframe\">\n",
       "  <thead>\n",
       "    <tr style=\"text-align: right;\">\n",
       "      <th></th>\n",
       "      <th>name</th>\n",
       "      <th>gender</th>\n",
       "    </tr>\n",
       "  </thead>\n",
       "  <tbody>\n",
       "    <tr>\n",
       "      <th>0</th>\n",
       "      <td>Aamir</td>\n",
       "      <td>male</td>\n",
       "    </tr>\n",
       "    <tr>\n",
       "      <th>1</th>\n",
       "      <td>Aaron</td>\n",
       "      <td>male</td>\n",
       "    </tr>\n",
       "    <tr>\n",
       "      <th>2</th>\n",
       "      <td>Abbey</td>\n",
       "      <td>male</td>\n",
       "    </tr>\n",
       "    <tr>\n",
       "      <th>3</th>\n",
       "      <td>Abbie</td>\n",
       "      <td>male</td>\n",
       "    </tr>\n",
       "    <tr>\n",
       "      <th>4</th>\n",
       "      <td>Abbot</td>\n",
       "      <td>male</td>\n",
       "    </tr>\n",
       "  </tbody>\n",
       "</table>\n",
       "</div>"
      ],
      "text/plain": [
       "    name gender\n",
       "0  Aamir   male\n",
       "1  Aaron   male\n",
       "2  Abbey   male\n",
       "3  Abbie   male\n",
       "4  Abbot   male"
      ]
     },
     "execution_count": 5,
     "metadata": {},
     "output_type": "execute_result"
    }
   ],
   "source": [
    "# create df\n",
    "df = pd.DataFrame(list(names), columns=['name','gender'])\n",
    "\n",
    "# preview\n",
    "df.head()"
   ]
  },
  {
   "attachments": {},
   "cell_type": "markdown",
   "metadata": {},
   "source": [
    "Let's verify df information."
   ]
  },
  {
   "cell_type": "code",
   "execution_count": 6,
   "metadata": {},
   "outputs": [
    {
     "name": "stdout",
     "output_type": "stream",
     "text": [
      "<class 'pandas.core.frame.DataFrame'>\n",
      "RangeIndex: 7944 entries, 0 to 7943\n",
      "Data columns (total 2 columns):\n",
      " #   Column  Non-Null Count  Dtype \n",
      "---  ------  --------------  ----- \n",
      " 0   name    7944 non-null   object\n",
      " 1   gender  7944 non-null   object\n",
      "dtypes: object(2)\n",
      "memory usage: 124.3+ KB\n"
     ]
    }
   ],
   "source": [
    "df.info()"
   ]
  },
  {
   "attachments": {},
   "cell_type": "markdown",
   "metadata": {},
   "source": [
    "We have **7944** rows, both columms are objects. <br>\n",
    "Let's see if the dataset is balanced, by viewing the **male**/**female** counts in the target or `gender` column."
   ]
  },
  {
   "cell_type": "code",
   "execution_count": 7,
   "metadata": {},
   "outputs": [
    {
     "data": {
      "text/plain": [
       "gender\n",
       "female    5001\n",
       "male      2943\n",
       "dtype: int64"
      ]
     },
     "execution_count": 7,
     "metadata": {},
     "output_type": "execute_result"
    }
   ],
   "source": [
    "df.groupby('gender').size()"
   ]
  },
  {
   "attachments": {},
   "cell_type": "markdown",
   "metadata": {},
   "source": [
    "Here we can see that the dataset is primarily female.<br>\n",
    "Let's look at this as a percentage."
   ]
  },
  {
   "cell_type": "code",
   "execution_count": 8,
   "metadata": {},
   "outputs": [],
   "source": [
    "# create groupby df\n",
    "df_groupby = pd.DataFrame(df.groupby('gender').size()).reset_index().\\\n",
    "  rename(columns={0:'count'})\n",
    "\n",
    "# create percentage col\n",
    "df_groupby['perc'] = df_groupby['count'] / sum(df_groupby['count'])"
   ]
  },
  {
   "cell_type": "code",
   "execution_count": 9,
   "metadata": {},
   "outputs": [
    {
     "data": {
      "text/html": [
       "<div>\n",
       "<style scoped>\n",
       "    .dataframe tbody tr th:only-of-type {\n",
       "        vertical-align: middle;\n",
       "    }\n",
       "\n",
       "    .dataframe tbody tr th {\n",
       "        vertical-align: top;\n",
       "    }\n",
       "\n",
       "    .dataframe thead th {\n",
       "        text-align: right;\n",
       "    }\n",
       "</style>\n",
       "<table border=\"1\" class=\"dataframe\">\n",
       "  <thead>\n",
       "    <tr style=\"text-align: right;\">\n",
       "      <th></th>\n",
       "      <th>gender</th>\n",
       "      <th>count</th>\n",
       "      <th>perc</th>\n",
       "    </tr>\n",
       "  </thead>\n",
       "  <tbody>\n",
       "    <tr>\n",
       "      <th>0</th>\n",
       "      <td>female</td>\n",
       "      <td>5001</td>\n",
       "      <td>0.629532</td>\n",
       "    </tr>\n",
       "    <tr>\n",
       "      <th>1</th>\n",
       "      <td>male</td>\n",
       "      <td>2943</td>\n",
       "      <td>0.370468</td>\n",
       "    </tr>\n",
       "  </tbody>\n",
       "</table>\n",
       "</div>"
      ],
      "text/plain": [
       "   gender  count      perc\n",
       "0  female   5001  0.629532\n",
       "1    male   2943  0.370468"
      ]
     },
     "execution_count": 9,
     "metadata": {},
     "output_type": "execute_result"
    }
   ],
   "source": [
    "df_groupby"
   ]
  },
  {
   "attachments": {},
   "cell_type": "markdown",
   "metadata": {},
   "source": [
    "So almost 60/40 **female** to **male**.<br>\n",
    "Let's visualize this."
   ]
  },
  {
   "cell_type": "code",
   "execution_count": 10,
   "metadata": {},
   "outputs": [
    {
     "data": {
      "image/png": "[encoded data removed]",
      "text/plain": [
       "<Figure size 800x500 with 1 Axes>"
      ]
     },
     "metadata": {},
     "output_type": "display_data"
    }
   ],
   "source": [
    "plt.figure(figsize=(8,5))\n",
    "sns.set_theme(\"notebook\")\n",
    "sns.barplot(data=df_groupby,\n",
    "            x='perc',\n",
    "            y='gender')\n",
    "plt.gca().xaxis.set_major_formatter('{:.0%}'.format)\n",
    "plt.xlabel('')\n",
    "plt.ylabel('')\n",
    "plt.title('Gender Split of Names Dataset', fontdict={'size':20})\n",
    "plt.show()"
   ]
  },
  {
   "attachments": {},
   "cell_type": "markdown",
   "metadata": {},
   "source": [
    "Ideally prior to building a classifier we would want to deal with balancing the dataset. Let's oversample the minority class."
   ]
  },
  {
   "attachments": {},
   "cell_type": "markdown",
   "metadata": {},
   "source": [
    "### Oversample minority class\n"
   ]
  },
  {
   "cell_type": "code",
   "execution_count": 11,
   "metadata": {},
   "outputs": [],
   "source": [
    "# split on gender\n",
    "male_df = df[df['gender'] == 'male']\n",
    "female_df = df[df['gender'] == 'female']\n",
    "\n",
    "# over sample male\n",
    "upsampled_male_df = resample(male_df, replace=True, \n",
    "                             n_samples=len(female_df), \n",
    "                             random_state=42)\n",
    "\n",
    "# combine the upsampled male samples with the original female samples\n",
    "df = pd.concat([upsampled_male_df, female_df])"
   ]
  },
  {
   "cell_type": "code",
   "execution_count": 12,
   "metadata": {},
   "outputs": [
    {
     "data": {
      "text/plain": [
       "gender\n",
       "female    5001\n",
       "male      5001\n",
       "dtype: int64"
      ]
     },
     "execution_count": 12,
     "metadata": {},
     "output_type": "execute_result"
    }
   ],
   "source": [
    "df.groupby('gender').size()"
   ]
  },
  {
   "attachments": {},
   "cell_type": "markdown",
   "metadata": {},
   "source": [
    "Now we have a balanced dataset."
   ]
  },
  {
   "attachments": {},
   "cell_type": "markdown",
   "metadata": {},
   "source": [
    "## Feature creation\n",
    "Let's create some features that could be relevant to classifying names.\n",
    "\n",
    "We will try the following:\n",
    "- Name length\n",
    "- Suffix\n",
    "  - 1, 2 and 3 \n",
    "- Prefix\n",
    "  - 1, 2 and 3\n",
    "- Vowels\n",
    "  - Count\n",
    "  - Ratio\n",
    "  - Consecutive\n",
    "- Consonant\n",
    "  - Count\n",
    "  - Ratio\n",
    "  - Consecutive\n"
   ]
  },
  {
   "cell_type": "code",
   "execution_count": 13,
   "metadata": {},
   "outputs": [],
   "source": [
    "# function to create name length\n",
    "def name_length_col(df, col):\n",
    "    \"\"\"\n",
    "    Takes in df and col, creates new col with length of value\n",
    "    \"\"\"\n",
    "    df['name_length'] = [len(col) for col in df[col]]\n",
    "\n",
    "# function to create columns with suffix\n",
    "def suffix_col(df, col):\n",
    "    \"\"\"\n",
    "    Takes in df and col, creates columns for suffix\n",
    "    \"\"\"\n",
    "    suffix_name_list = ['suffix_one','suffix_two','suffix_three']\n",
    "    index_list = [-1,-2,-3]\n",
    "    for name, idx in zip(suffix_name_list, index_list):\n",
    "        df[name] = [val[idx:] if len(val) >= abs(idx) else '' for val in df[col]]\n",
    "\n",
    "# function to create columns with prefix\n",
    "def prefix_col(df, col):\n",
    "    \"\"\"\n",
    "    Takes in df and col, creates prefix columns\n",
    "    \"\"\"\n",
    "    prefix_name_list = ['prefix_one','prefix_two','prefix_three']\n",
    "    index_list = [1,2,3]\n",
    "    for name, idx in zip(prefix_name_list, index_list):\n",
    "        df[name] = [val[:idx].lower() if len(val) >= abs(idx) else '' for val in df[col]]\n",
    "\n",
    "# function for vowels\n",
    "def vowels_col(df, col):\n",
    "    \"\"\"\n",
    "    Takes in df and col, creates features based on vowels\n",
    "    \"\"\"\n",
    "    df['vowel_count'] = [sum(char.lower() in 'aeiou' for char in name) for name in df[col]]\n",
    "    df['vowel_ratio'] = df['vowel_count'] / len(df[col])\n",
    "    df['vowel_consecutive'] = [max([len(match) for match in re.findall \\\n",
    "                                   (r'[aeiou]+', name.lower())] or [0]) for name in df[col]]\n",
    "    \n",
    "# function for consonants\n",
    "def consonants_col(df, col):\n",
    "    \"\"\"\n",
    "    Takes in df and col, creates features based on consonants\n",
    "    \"\"\"\n",
    "    df['consonant_count'] = [sum(char.lower() in 'bcdfghjklmnpqrstvwxyz' \\\n",
    "                                 for char in name) for name in df[col]]\n",
    "    df['consonant_ratio'] = df['consonant_count'] / len(df[col])\n",
    "    df['consonant_consecutive'] = [max([len(match) for match in re.findall \\\n",
    "                                       (r'[bcdfghjklmnpqrstvwxyz]+', name.lower())] or [0]) \\\n",
    "                                        for name in df[col]]\n",
    "\n",
    "    "
   ]
  },
  {
   "attachments": {},
   "cell_type": "markdown",
   "metadata": {},
   "source": [
    "Ok, now let's apply these feature creation functions to the dataframe."
   ]
  },
  {
   "cell_type": "code",
   "execution_count": 14,
   "metadata": {},
   "outputs": [],
   "source": [
    "# apply to df\n",
    "name_length_col(df,'name')\n",
    "suffix_col(df,'name')\n",
    "prefix_col(df, 'name')\n",
    "vowels_col(df,'name')\n",
    "consonants_col(df,'name')"
   ]
  },
  {
   "cell_type": "code",
   "execution_count": 15,
   "metadata": {},
   "outputs": [
    {
     "data": {
      "text/html": [
       "<div>\n",
       "<style scoped>\n",
       "    .dataframe tbody tr th:only-of-type {\n",
       "        vertical-align: middle;\n",
       "    }\n",
       "\n",
       "    .dataframe tbody tr th {\n",
       "        vertical-align: top;\n",
       "    }\n",
       "\n",
       "    .dataframe thead th {\n",
       "        text-align: right;\n",
       "    }\n",
       "</style>\n",
       "<table border=\"1\" class=\"dataframe\">\n",
       "  <thead>\n",
       "    <tr style=\"text-align: right;\">\n",
       "      <th></th>\n",
       "      <th>name</th>\n",
       "      <th>gender</th>\n",
       "      <th>name_length</th>\n",
       "      <th>suffix_one</th>\n",
       "      <th>suffix_two</th>\n",
       "      <th>suffix_three</th>\n",
       "      <th>prefix_one</th>\n",
       "      <th>prefix_two</th>\n",
       "      <th>prefix_three</th>\n",
       "      <th>vowel_count</th>\n",
       "      <th>vowel_ratio</th>\n",
       "      <th>vowel_consecutive</th>\n",
       "      <th>consonant_count</th>\n",
       "      <th>consonant_ratio</th>\n",
       "      <th>consonant_consecutive</th>\n",
       "    </tr>\n",
       "  </thead>\n",
       "  <tbody>\n",
       "    <tr>\n",
       "      <th>860</th>\n",
       "      <td>Forbes</td>\n",
       "      <td>male</td>\n",
       "      <td>6</td>\n",
       "      <td>s</td>\n",
       "      <td>es</td>\n",
       "      <td>bes</td>\n",
       "      <td>f</td>\n",
       "      <td>fo</td>\n",
       "      <td>for</td>\n",
       "      <td>2</td>\n",
       "      <td>0.0002</td>\n",
       "      <td>1</td>\n",
       "      <td>4</td>\n",
       "      <td>0.0004</td>\n",
       "      <td>2</td>\n",
       "    </tr>\n",
       "    <tr>\n",
       "      <th>1294</th>\n",
       "      <td>Jean-Francois</td>\n",
       "      <td>male</td>\n",
       "      <td>13</td>\n",
       "      <td>s</td>\n",
       "      <td>is</td>\n",
       "      <td>ois</td>\n",
       "      <td>j</td>\n",
       "      <td>je</td>\n",
       "      <td>jea</td>\n",
       "      <td>5</td>\n",
       "      <td>0.0005</td>\n",
       "      <td>2</td>\n",
       "      <td>7</td>\n",
       "      <td>0.0007</td>\n",
       "      <td>2</td>\n",
       "    </tr>\n",
       "    <tr>\n",
       "      <th>1130</th>\n",
       "      <td>Hazel</td>\n",
       "      <td>male</td>\n",
       "      <td>5</td>\n",
       "      <td>l</td>\n",
       "      <td>el</td>\n",
       "      <td>zel</td>\n",
       "      <td>h</td>\n",
       "      <td>ha</td>\n",
       "      <td>haz</td>\n",
       "      <td>2</td>\n",
       "      <td>0.0002</td>\n",
       "      <td>1</td>\n",
       "      <td>3</td>\n",
       "      <td>0.0003</td>\n",
       "      <td>1</td>\n",
       "    </tr>\n",
       "    <tr>\n",
       "      <th>1095</th>\n",
       "      <td>Harald</td>\n",
       "      <td>male</td>\n",
       "      <td>6</td>\n",
       "      <td>d</td>\n",
       "      <td>ld</td>\n",
       "      <td>ald</td>\n",
       "      <td>h</td>\n",
       "      <td>ha</td>\n",
       "      <td>har</td>\n",
       "      <td>2</td>\n",
       "      <td>0.0002</td>\n",
       "      <td>1</td>\n",
       "      <td>4</td>\n",
       "      <td>0.0004</td>\n",
       "      <td>2</td>\n",
       "    </tr>\n",
       "    <tr>\n",
       "      <th>1638</th>\n",
       "      <td>Marmaduke</td>\n",
       "      <td>male</td>\n",
       "      <td>9</td>\n",
       "      <td>e</td>\n",
       "      <td>ke</td>\n",
       "      <td>uke</td>\n",
       "      <td>m</td>\n",
       "      <td>ma</td>\n",
       "      <td>mar</td>\n",
       "      <td>4</td>\n",
       "      <td>0.0004</td>\n",
       "      <td>1</td>\n",
       "      <td>5</td>\n",
       "      <td>0.0005</td>\n",
       "      <td>2</td>\n",
       "    </tr>\n",
       "  </tbody>\n",
       "</table>\n",
       "</div>"
      ],
      "text/plain": [
       "               name gender  name_length suffix_one suffix_two suffix_three  \\\n",
       "860          Forbes   male            6          s         es          bes   \n",
       "1294  Jean-Francois   male           13          s         is          ois   \n",
       "1130          Hazel   male            5          l         el          zel   \n",
       "1095         Harald   male            6          d         ld          ald   \n",
       "1638      Marmaduke   male            9          e         ke          uke   \n",
       "\n",
       "     prefix_one prefix_two prefix_three  vowel_count  vowel_ratio  \\\n",
       "860           f         fo          for            2       0.0002   \n",
       "1294          j         je          jea            5       0.0005   \n",
       "1130          h         ha          haz            2       0.0002   \n",
       "1095          h         ha          har            2       0.0002   \n",
       "1638          m         ma          mar            4       0.0004   \n",
       "\n",
       "      vowel_consecutive  consonant_count  consonant_ratio  \\\n",
       "860                   1                4           0.0004   \n",
       "1294                  2                7           0.0007   \n",
       "1130                  1                3           0.0003   \n",
       "1095                  1                4           0.0004   \n",
       "1638                  1                5           0.0005   \n",
       "\n",
       "      consonant_consecutive  \n",
       "860                       2  \n",
       "1294                      2  \n",
       "1130                      1  \n",
       "1095                      2  \n",
       "1638                      2  "
      ]
     },
     "execution_count": 15,
     "metadata": {},
     "output_type": "execute_result"
    }
   ],
   "source": [
    "# preview\n",
    "df.head()"
   ]
  },
  {
   "attachments": {},
   "cell_type": "markdown",
   "metadata": {},
   "source": [
    "## Modeling\n",
    "### Split dataset\n",
    "Next we need to split the dataset into `train`, `test`, and `devtest`.\n",
    "However since we over sampled we will do approximately the following:\n",
    "- 1000 words for the test set\n",
    "- 1000 words for the devtest set\n",
    "- remaining ~8000 words for the training set.\n"
   ]
  },
  {
   "cell_type": "code",
   "execution_count": 16,
   "metadata": {},
   "outputs": [],
   "source": [
    "# split dataset into train and remaining 0.1258\n",
    "train_df, remaining_df = train_test_split(df, test_size=0.2, random_state=42)\n",
    "# further split the remaing data into devtest and test sets\n",
    "devtest_df, test_df = train_test_split(remaining_df, test_size=0.5, random_state=42)\n"
   ]
  },
  {
   "attachments": {},
   "cell_type": "markdown",
   "metadata": {},
   "source": [
    "Next I would like to check if there are any overlap between sets."
   ]
  },
  {
   "cell_type": "code",
   "execution_count": 19,
   "metadata": {},
   "outputs": [
    {
     "name": "stdout",
     "output_type": "stream",
     "text": [
      "There is overlap between the sets.\n"
     ]
    }
   ],
   "source": [
    "\n",
    "# check if there is any overlap between the sets\n",
    "overlap_train_devtest = set(train_df['name']).intersection(devtest_df['name'])\n",
    "overlap_train_test = set(train_df['name']).intersection(test_df['name'])\n",
    "overlap_devtest_test = set(devtest_df['name']).intersection(test_df['name'])\n",
    "\n",
    "if overlap_train_devtest or overlap_train_test or overlap_devtest_test:\n",
    "    print(\"There is overlap between the sets.\")\n",
    "else:\n",
    "    print(\"There is no overlap between the sets.\")"
   ]
  },
  {
   "attachments": {},
   "cell_type": "markdown",
   "metadata": {},
   "source": [
    "It looks like there are, this is because we oversampled the minority class. However it is also because some names are considered gender neutral appear both defined as `male` and `female` within the datset.<br>\n",
    "Would perhaps make sense to have a 3rd classification with `neutral` as the gender. But we we will be working with the `NaiveBayesClassifier` which only deals with a binary target, so I will not alter the original dataset."
   ]
  },
  {
   "cell_type": "code",
   "execution_count": 391,
   "metadata": {},
   "outputs": [
    {
     "data": {
      "text/html": [
       "<div>\n",
       "<style scoped>\n",
       "    .dataframe tbody tr th:only-of-type {\n",
       "        vertical-align: middle;\n",
       "    }\n",
       "\n",
       "    .dataframe tbody tr th {\n",
       "        vertical-align: top;\n",
       "    }\n",
       "\n",
       "    .dataframe thead th {\n",
       "        text-align: right;\n",
       "    }\n",
       "</style>\n",
       "<table border=\"1\" class=\"dataframe\">\n",
       "  <thead>\n",
       "    <tr style=\"text-align: right;\">\n",
       "      <th></th>\n",
       "      <th>name</th>\n",
       "      <th>gender</th>\n",
       "      <th>name_length</th>\n",
       "      <th>suffix_one</th>\n",
       "      <th>suffix_two</th>\n",
       "      <th>suffix_three</th>\n",
       "      <th>prefix_one</th>\n",
       "      <th>prefix_two</th>\n",
       "      <th>prefix_three</th>\n",
       "      <th>vowel_count</th>\n",
       "      <th>vowel_ratio</th>\n",
       "      <th>vowel_consecutive</th>\n",
       "      <th>consonant_count</th>\n",
       "      <th>consonant_ratio</th>\n",
       "      <th>consonant_consecutive</th>\n",
       "    </tr>\n",
       "  </thead>\n",
       "  <tbody>\n",
       "    <tr>\n",
       "      <th>2424</th>\n",
       "      <td>Stacy</td>\n",
       "      <td>male</td>\n",
       "      <td>5</td>\n",
       "      <td>y</td>\n",
       "      <td>cy</td>\n",
       "      <td>acy</td>\n",
       "      <td>s</td>\n",
       "      <td>st</td>\n",
       "      <td>sta</td>\n",
       "      <td>1</td>\n",
       "      <td>0.0001</td>\n",
       "      <td>1</td>\n",
       "      <td>4</td>\n",
       "      <td>0.0004</td>\n",
       "      <td>2</td>\n",
       "    </tr>\n",
       "    <tr>\n",
       "      <th>2424</th>\n",
       "      <td>Stacy</td>\n",
       "      <td>male</td>\n",
       "      <td>5</td>\n",
       "      <td>y</td>\n",
       "      <td>cy</td>\n",
       "      <td>acy</td>\n",
       "      <td>s</td>\n",
       "      <td>st</td>\n",
       "      <td>sta</td>\n",
       "      <td>1</td>\n",
       "      <td>0.0001</td>\n",
       "      <td>1</td>\n",
       "      <td>4</td>\n",
       "      <td>0.0004</td>\n",
       "      <td>2</td>\n",
       "    </tr>\n",
       "    <tr>\n",
       "      <th>7447</th>\n",
       "      <td>Stacy</td>\n",
       "      <td>female</td>\n",
       "      <td>5</td>\n",
       "      <td>y</td>\n",
       "      <td>cy</td>\n",
       "      <td>acy</td>\n",
       "      <td>s</td>\n",
       "      <td>st</td>\n",
       "      <td>sta</td>\n",
       "      <td>1</td>\n",
       "      <td>0.0001</td>\n",
       "      <td>1</td>\n",
       "      <td>4</td>\n",
       "      <td>0.0004</td>\n",
       "      <td>2</td>\n",
       "    </tr>\n",
       "  </tbody>\n",
       "</table>\n",
       "</div>"
      ],
      "text/plain": [
       "       name  gender  name_length suffix_one suffix_two suffix_three  \\\n",
       "2424  Stacy    male            5          y         cy          acy   \n",
       "2424  Stacy    male            5          y         cy          acy   \n",
       "7447  Stacy  female            5          y         cy          acy   \n",
       "\n",
       "     prefix_one prefix_two prefix_three  vowel_count  vowel_ratio  \\\n",
       "2424          s         st          sta            1       0.0001   \n",
       "2424          s         st          sta            1       0.0001   \n",
       "7447          s         st          sta            1       0.0001   \n",
       "\n",
       "      vowel_consecutive  consonant_count  consonant_ratio  \\\n",
       "2424                  1                4           0.0004   \n",
       "2424                  1                4           0.0004   \n",
       "7447                  1                4           0.0004   \n",
       "\n",
       "      consonant_consecutive  \n",
       "2424                      2  \n",
       "2424                      2  \n",
       "7447                      2  "
      ]
     },
     "execution_count": 391,
     "metadata": {},
     "output_type": "execute_result"
    }
   ],
   "source": [
    "df[df['name'] == 'Stacy']"
   ]
  },
  {
   "attachments": {},
   "cell_type": "markdown",
   "metadata": {},
   "source": [
    "### Feature extraction\n",
    "Since we are using **nltk** built-in classifer, we need to extract the features from the dataframe as a list of tuples."
   ]
  },
  {
   "cell_type": "code",
   "execution_count": 422,
   "metadata": {},
   "outputs": [],
   "source": [
    "# feature extraction function\n",
    "def extract_features(row):\n",
    "    columns = ['name','name_length', 'suffix_one', 'suffix_two','suffix_three', 'prefix_one', \n",
    "               'prefix_two', 'prefix_three','vowel_count', 'vowel_ratio', 'vowel_consecutive', \n",
    "               'consonant_count','consonant_ratio', 'consonant_consecutive']\n",
    "    features = {}\n",
    "    for col in columns:\n",
    "        features[col] = row[col]\n",
    "    return features, row['gender']"
   ]
  },
  {
   "cell_type": "code",
   "execution_count": 423,
   "metadata": {},
   "outputs": [],
   "source": [
    "# apply function to each df\n",
    "train_features = train_df.apply(extract_features, axis=1).to_list()\n",
    "devtest_features = devtest_df.apply(extract_features, axis=1).to_list()\n",
    "test_features = test_df.apply(extract_features, axis=1).to_list()"
   ]
  },
  {
   "attachments": {},
   "cell_type": "markdown",
   "metadata": {},
   "source": [
    "### Train model \n",
    "Next we can train the model on on training set, and run it on devtest set."
   ]
  },
  {
   "cell_type": "code",
   "execution_count": 424,
   "metadata": {},
   "outputs": [],
   "source": [
    "# train model on training set\n",
    "nb_classifier = nltk.NaiveBayesClassifier.train(train_features)"
   ]
  },
  {
   "cell_type": "code",
   "execution_count": 431,
   "metadata": {},
   "outputs": [
    {
     "name": "stdout",
     "output_type": "stream",
     "text": [
      "0.858\n"
     ]
    }
   ],
   "source": [
    "# check accuracy\n",
    "print(nltk.classify.accuracy(nb_classifier, devtest_features))"
   ]
  },
  {
   "attachments": {},
   "cell_type": "markdown",
   "metadata": {},
   "source": [
    "Accuracy of 85% is pretty high, much higher than the accuracy level in the book.<br>\n",
    "Let's see if we can pinpoint what some of the errors were."
   ]
  },
  {
   "attachments": {},
   "cell_type": "markdown",
   "metadata": {},
   "source": [
    "### Error Analysis\n",
    "Look at some of the errors in devtest set."
   ]
  },
  {
   "cell_type": "code",
   "execution_count": 433,
   "metadata": {},
   "outputs": [
    {
     "name": "stdout",
     "output_type": "stream",
     "text": [
      "Expected: female, Predicted: male, Name: Star\n",
      "Expected: male, Predicted: female, Name: Nate\n",
      "Expected: male, Predicted: female, Name: Samuele\n",
      "Expected: female, Predicted: male, Name: Margaret\n",
      "Expected: male, Predicted: female, Name: Darryl\n",
      "Expected: female, Predicted: male, Name: Ninon\n",
      "Expected: male, Predicted: female, Name: Isidore\n",
      "Expected: female, Predicted: male, Name: Dian\n",
      "Expected: male, Predicted: female, Name: Jaime\n",
      "Expected: female, Predicted: male, Name: Sinead\n",
      "Expected: male, Predicted: female, Name: Lonnie\n",
      "Expected: female, Predicted: male, Name: Angel\n",
      "Expected: female, Predicted: male, Name: Consuelo\n",
      "Expected: female, Predicted: male, Name: Freddie\n",
      "Expected: female, Predicted: male, Name: Kerrill\n",
      "Expected: female, Predicted: male, Name: Clarey\n",
      "Expected: female, Predicted: male, Name: Easter\n",
      "Expected: male, Predicted: female, Name: Maxie\n",
      "Expected: female, Predicted: male, Name: Chris\n",
      "Expected: male, Predicted: female, Name: Ali\n",
      "Expected: female, Predicted: male, Name: Haleigh\n",
      "Expected: female, Predicted: male, Name: Brenn\n",
      "Expected: male, Predicted: female, Name: Pete\n",
      "Expected: female, Predicted: male, Name: Tiffy\n"
     ]
    }
   ],
   "source": [
    "errors = []\n",
    "for featureset, tag in devtest_features[:150]:\n",
    "    guess = nb_classifier.classify(featureset)\n",
    "    if guess != tag:\n",
    "        name = featureset['name']\n",
    "        errors.append((tag, guess, name))\n",
    "\n",
    "# Print the errors\n",
    "for tag, guess, name in errors:\n",
    "    print(f\"Expected: {tag}, Predicted: {guess}, Name: {name}\")"
   ]
  },
  {
   "attachments": {},
   "cell_type": "markdown",
   "metadata": {},
   "source": [
    "Some of these are obvious mistakes i.e. Pete would typically be male, whereas Margaret would be female. <br>\n",
    "Some of these should be in the `gender netural` category such as Angel and Chris.\n",
    "So we can see there is room for improvement in this model.<br>\n",
    "\n",
    "Some of the features here that jump out to me to be added could be:\n",
    "- creating a `bool` column for:\n",
    "  - ending in `eigh` for female (reaction to Haleigh being predicted as male)\n",
    "  - ending in `fy` for female (reaction to Tiffy being predicted as male)\n",
    "\n",
    "However, if we are were to adjust features, then each time the error analysis procedure is repeated, we should select a different devtest/training split, otherwise the the classifier could start to reflect idiosyncrasies in the devtest set. \n",
    "\n",
    "Let's see how it performs on the test set."
   ]
  },
  {
   "cell_type": "code",
   "execution_count": 435,
   "metadata": {},
   "outputs": [
    {
     "name": "stdout",
     "output_type": "stream",
     "text": [
      "0.8581418581418582\n"
     ]
    }
   ],
   "source": [
    "# run on test set\n",
    "print(nltk.classify.accuracy(nb_classifier, test_features))"
   ]
  },
  {
   "attachments": {},
   "cell_type": "markdown",
   "metadata": {},
   "source": [
    "Pretty much the same score as the devtest set. I am not surprised, because I think oversampling the minority class creates a less volitle model. "
   ]
  },
  {
   "attachments": {},
   "cell_type": "markdown",
   "metadata": {},
   "source": [
    "## Conclusion\n",
    "This is just the tip of the iceberg with name classification, however we have a few important takeaways. \n",
    "- Some names are gender neutral, therefore are repeated in the dataset with different target outcomes.\n",
    "- Perhaps make sense to have a 3rd classification for `gender netural` names, however this would require utilizing a classifier that can work with a non-binary target.\n",
    "- Some names alternate spelling increase ambiguity i.e. Samuele which is male, but was identified by the classifier as female.\n",
    "- Additional features added after error analysis need to be coupled with re-splitting of dataset, otherwise model will overfit to devtest set.\n",
    "- Balancing the dataset creates a more consistently reliable model."
   ]
  }
 ],
 "metadata": {
  "kernelspec": {
   "display_name": "cuny620",
   "language": "python",
   "name": "python3"
  },
  "language_info": {
   "codemirror_mode": {
    "name": "ipython",
    "version": 3
   },
   "file_extension": ".py",
   "mimetype": "text/x-python",
   "name": "python",
   "nbconvert_exporter": "python",
   "pygments_lexer": "ipython3",
   "version": "3.11.3"
  },
  "orig_nbformat": 4
 },
 "nbformat": 4,
 "nbformat_minor": 2
}
