{
 "cells": [
  {
   "cell_type": "code",
   "execution_count": 1,
   "id": "ccf8e923",
   "metadata": {},
   "outputs": [],
   "source": [
    "import ast #for literal interpretation of string \"lists\"\n",
    "import matplotlib.pyplot as plt #for visualization\n",
    "import networkx as nx #for network analysis\n",
    "import numpy as np #for associated mathematical analysis, filtering and indexing\n",
    "import pandas as pd #for working with DataFrames"
   ]
  },
  {
   "cell_type": "markdown",
   "id": "40674193",
   "metadata": {},
   "source": [
    "**Pulling In and Cleaning Data**"
   ]
  },
  {
   "cell_type": "markdown",
   "id": "c88aa90d",
   "metadata": {},
   "source": [
    "Our data for this project comes from the popualar data science hub Kaggle, and contains about 34,000 LinkedIn posts from 69 popular users (or \"influencers\") on the platform (scraped in February of 2021). While the data does not come readily formatted for network analysis, we believe that the practice of tagging other professionals on LinkedIn will make it ripe for mapping after a bit of tweaking and cleaning. Once we identify every instance of one influencer mentioning another in the text of their posts, we will have a series of edges and nodes we can plot using networkx."
   ]
  },
  {
   "cell_type": "code",
   "execution_count": 2,
   "id": "68627126",
   "metadata": {},
   "outputs": [
    {
     "name": "stderr",
     "output_type": "stream",
     "text": [
      "/var/folders/sk/5p5s43w94rlf_9j_h77yytpc0000gn/T/ipykernel_14911/1818368662.py:1: DtypeWarning: Columns (18) have mixed types. Specify dtype option on import or set low_memory=False.\n",
      "  df_LI = pd.read_csv('../data/influencers_data.csv')\n"
     ]
    }
   ],
   "source": [
    "df_LI = pd.read_csv('../data/influencers_data.csv')"
   ]
  },
  {
   "cell_type": "code",
   "execution_count": 3,
   "id": "e32f9cb5",
   "metadata": {},
   "outputs": [],
   "source": [
    "#df_LI"
   ]
  },
  {
   "cell_type": "code",
   "execution_count": 4,
   "id": "c0dedf39",
   "metadata": {},
   "outputs": [],
   "source": [
    "#clean extra index column\n",
    "df_LI.drop(columns = 'Unnamed: 0',\n",
    "           inplace = True)"
   ]
  },
  {
   "cell_type": "code",
   "execution_count": 5,
   "id": "4d37c69c",
   "metadata": {},
   "outputs": [],
   "source": [
    "#see list of LinkedIn influencers\n",
    "#list(set(df_LI['name']))"
   ]
  },
  {
   "cell_type": "code",
   "execution_count": 6,
   "id": "6fd3b77d",
   "metadata": {},
   "outputs": [],
   "source": [
    "#eliminate emoji in Pascal Bouvier's name for sake of consistency\n",
    "df_LI['name'] = df_LI['name'].apply(lambda x: x.replace('🏉 ', ''))"
   ]
  },
  {
   "cell_type": "markdown",
   "id": "0385e3d4",
   "metadata": {},
   "source": [
    "**Building Edge and Node DataFrames**"
   ]
  },
  {
   "cell_type": "markdown",
   "id": "58d9c0fc",
   "metadata": {},
   "source": [
    "The most foundational requirement for building our network is the list of edges, which are defined by LinkedIn influencers mentioning one another in the text of their posts. That means we need to build a system for running through each of those texts and extracting substrings matching our list of influencers (but excluding when influencers may mention themselves. For that, we built a function called *pull_other_influencers*, defined below:"
   ]
  },
  {
   "cell_type": "code",
   "execution_count": 7,
   "id": "1e7f28d2",
   "metadata": {},
   "outputs": [],
   "source": [
    "def pull_other_influencers(post_text, inf_self, inf_all):\n",
    "    '''Create a list of influencers mentioned in post text. Dis-includes\n",
    "    Influencer who made post on application.'''\n",
    "\n",
    "    #ensure text is string (can't search it otherwise)\n",
    "    post_text = str(post_text)\n",
    "    \n",
    "    #make copy of inf_all    \n",
    "    inf_others = inf_all[:]\n",
    "    #remove self from all to create others list\n",
    "    inf_others.remove(inf_self)\n",
    "    \n",
    "    #create list of influencers_other mentioned in post text\n",
    "    mentioned_infs = [inf for inf in inf_others if inf in post_text]\n",
    "    \n",
    "    return mentioned_infs"
   ]
  },
  {
   "cell_type": "code",
   "execution_count": 8,
   "id": "37651bd4",
   "metadata": {},
   "outputs": [],
   "source": [
    "#Build a list of the influencers appearing in the dataset.\n",
    "inf_list = list(set(df_LI['name']))"
   ]
  },
  {
   "cell_type": "markdown",
   "id": "48555f30",
   "metadata": {},
   "source": [
    "Now, we can make a new column in our data, with each cell containing a list of influencers mentioned in the post text associated with that row."
   ]
  },
  {
   "cell_type": "code",
   "execution_count": 9,
   "id": "f8d193e1",
   "metadata": {},
   "outputs": [],
   "source": [
    "#apply influencer pulling function\n",
    "df_LI['mentioned_influencers'] = df_LI.apply(lambda x: pull_other_influencers(x['content'],\n",
    "                                                                              x['name'],\n",
    "                                                                              inf_list),\n",
    "                                            axis = 1)"
   ]
  },
  {
   "cell_type": "markdown",
   "id": "ff4890e4",
   "metadata": {},
   "source": [
    "Finally, we can create a clean edge dataframe, containing only two columns: *name*,  which captures the speaker or \"from\" side of the edge, and *mentioned_influencers*, which compiles the \"to\" sides of the equation. Here, we also limit rows to those in which there are mentioned influencers (denoted by have a list length greater than zero), since an edge requires two sides.\n",
    "\n",
    "Note that we then need to \"explode\" the *mentioned_influencers* column, which breaks up the list in each cell. If the list has only one element, this essentially extracts that element. However, when there are multiple elements in the list (in this case, multiple mentioned influencers in the post), the explode method breaks each into a separate row, creating the distinct edges needed for network analysis."
   ]
  },
  {
   "cell_type": "code",
   "execution_count": 10,
   "id": "c9996dab",
   "metadata": {},
   "outputs": [],
   "source": [
    "#limit columns to name and mentioned_influencers, and\n",
    "#limit rows to those with at least one mentioned influencer\n",
    "df_edges = df_LI.loc[df_LI['mentioned_influencers'].apply(len) > 0][['name', 'mentioned_influencers']]\n",
    "#explode mentioned_influencers so there is only one edge per row\n",
    "df_edges = df_edges.explode('mentioned_influencers')"
   ]
  },
  {
   "cell_type": "code",
   "execution_count": 11,
   "id": "5d147edb",
   "metadata": {},
   "outputs": [],
   "source": [
    "#rename columns to standard practice\n",
    "df_edges.columns = ['source', 'target']"
   ]
  },
  {
   "cell_type": "code",
   "execution_count": 12,
   "id": "3f75951d",
   "metadata": {},
   "outputs": [],
   "source": [
    "#reset index\n",
    "df_edges.reset_index(inplace = True,\n",
    "                     drop = True)"
   ]
  },
  {
   "cell_type": "markdown",
   "id": "d75a078a",
   "metadata": {},
   "source": [
    "Now, we can set about creating a dataframe for nodes. At its core, a node dataset can simply be a de-duplicated list of elements appearing in our edge dataset. However, nodes are often associated with metadata that may lend itself to compelling analysis as we dig deeper into our network.\n",
    "\n",
    "Perhaps the most compelling data in our data is each influencer's listed location. By comparing analysis results across location categories, we may learn something about the relative importance of where someone lives and conducts business to their ease of online connection.\n",
    "\n",
    "Before we deduplicate our influencers to create a DataFrame of nodes, we first want to ensure that each is associated with at most one locations. If not, we may have to make a quantitative or qualitative judgment in cases of multiples."
   ]
  },
  {
   "cell_type": "code",
   "execution_count": 13,
   "id": "9af1c35f",
   "metadata": {},
   "outputs": [],
   "source": [
    "#Run a quick test to confirm each influencer has only 1 location in the data\n",
    "for inf in inf_list:\n",
    "    df_loc_test = df_LI.loc[df_LI['name'] == inf, ['name', 'location']].drop_duplicates(subset = 'location')\n",
    "    if len(df_loc_test) != 1:\n",
    "        print('{0} has {1} unique locations.'.format([inf, str(len(df_loc_test))]))"
   ]
  },
  {
   "cell_type": "markdown",
   "id": "fca8d58c",
   "metadata": {},
   "source": [
    "Because our loop returned no text, we know each person is associated with a maximum of one location. Now, we need to clean the location column, because it appears to have been read in as a series of list-like strings."
   ]
  },
  {
   "cell_type": "code",
   "execution_count": 14,
   "id": "874904fb",
   "metadata": {},
   "outputs": [],
   "source": [
    "#Make null values consistent with non-nulls (string-like lists)\n",
    "df_LI.loc[df_LI['location'].isnull(), 'location'] = \"['Unknown']\""
   ]
  },
  {
   "cell_type": "code",
   "execution_count": 15,
   "id": "b8962121",
   "metadata": {},
   "outputs": [],
   "source": [
    "#interpret lists literally, then combine disparate strings for comprehensibility\n",
    "df_LI['location'] = df_LI['location'].apply(ast.literal_eval)\n",
    "df_LI['location'] = df_LI['location'].apply(lambda x: ' '.join(x))"
   ]
  },
  {
   "cell_type": "code",
   "execution_count": 16,
   "id": "13e74ffe",
   "metadata": {},
   "outputs": [
    {
     "data": {
      "text/plain": [
       "45"
      ]
     },
     "execution_count": 16,
     "metadata": {},
     "output_type": "execute_result"
    }
   ],
   "source": [
    "len(df_LI['location'].value_counts())"
   ]
  },
  {
   "cell_type": "markdown",
   "id": "0a837925",
   "metadata": {},
   "source": [
    "Now we have a readable location column. Unfortunately, there are far too many distinct locations (45) to meaningfully break up our number of influencers (69) for categorical analysis; in many cases, it would simply be a comparison between individual nodes.\n",
    "\n",
    "However, we can do our own grouping to reduce the number of categories and increase the amount of nodes belonging to each group. Because international businesses tend to operate on the basis of timezones, countries and regions, we qualitatively developed **10** grouped location categories adhering to some of these standards, and bucketed them according to these new categorizations."
   ]
  },
  {
   "cell_type": "code",
   "execution_count": 17,
   "id": "906cd46d",
   "metadata": {},
   "outputs": [],
   "source": [
    "#build location dataframe for grouping\n",
    "df_loc = df_LI[['location']].drop_duplicates()"
   ]
  },
  {
   "cell_type": "markdown",
   "id": "935f7193",
   "metadata": {},
   "source": [
    "Here, we can use a nesting structure with numPy's *where* method to create a new array based on string matching conditions. When a location contains substrings associated with certain cities, countries, states or continents, np.where will return a defined value, which we set as our desired grouped locations. Our chosen substrings together accounted for all reported locations in the data--for users who did not report a location, we marked it as \"unknown\"."
   ]
  },
  {
   "cell_type": "code",
   "execution_count": 18,
   "id": "b3fc8560",
   "metadata": {},
   "outputs": [],
   "source": [
    "df_loc['location_grouped'] = np.where(df_loc['location'].str.contains(\\\n",
    "    'Massachusetts|New York|Philadelphia|Atlanta|Charlotte|Miami|Boston|Washington DC',\n",
    "    case=False,regex=True),\"us_east\",\n",
    "    np.where(df_loc['location'].str.contains(\\\n",
    "        'Colorado|Los Angeles|California|Washington|San Francisco|New Mexico|Salt Lake City',\n",
    "        case=False,regex=True),\"us_west\",\n",
    "        np.where(df_loc['location'].str.contains(\\\n",
    "            'British|United Kingdom', case=False,regex=True),\"uk\",\n",
    "            np.where(df_loc['location'].str.contains(\\\n",
    "                'Brisbane|Taipei|India|Singapore|Melbourne'),\"APAC\",\n",
    "                np.where(df_loc['location'].str.contains(\\\n",
    "                    'Illinois|Chicago|Wisconsin'),\"us_midwest\",\n",
    "                    np.where(df_loc['location'].str.contains(\\\n",
    "                        'Hungary|Luxembourg'),\"europe\",\n",
    "                        np.where(df_loc['location'].str.contains(\\\n",
    "                            'Tel'),'MENA',\n",
    "                            np.where(df_loc['location'].str.contains(\\\n",
    "                                'Africa'),'africa',\n",
    "                                np.where(df_loc['location'].str.contains(\\\n",
    "                                    'Canada'),'canada','unknown')))))))))"
   ]
  },
  {
   "cell_type": "markdown",
   "id": "789f048d",
   "metadata": {},
   "source": [
    "Next, we can merge are newly created location DataFrame into our original data. We will deduplicate that data on the \"name\" column so that we only have one row for each node, and limit the columns to those that are specific at the level of the user rather than the post.\n",
    "\n",
    "Lastly, because we are only seeking to analyze users with at least one connection in the data (as in, one mentioned of or by another influencer), we can remove names from the nodes data if they do not appear in the edges data."
   ]
  },
  {
   "cell_type": "code",
   "execution_count": 19,
   "id": "0083a762",
   "metadata": {},
   "outputs": [],
   "source": [
    "#merge in new categories\n",
    "df_LI = df_LI.merge(df_loc, how = 'left')"
   ]
  },
  {
   "cell_type": "code",
   "execution_count": 20,
   "id": "ab86ffed",
   "metadata": {},
   "outputs": [],
   "source": [
    "#create nodes df with new location categories, removing duplicates\n",
    "df_nodes = df_LI.drop_duplicates(subset = 'name')"
   ]
  },
  {
   "cell_type": "code",
   "execution_count": 21,
   "id": "7cea3884",
   "metadata": {},
   "outputs": [],
   "source": [
    "#keep only the columns that are specific to the person, not post\n",
    "df_nodes = df_nodes[['name', 'location_grouped', 'location', 'followers', \n",
    "          'connections', 'about','time_spent', ]].reset_index(drop = True)"
   ]
  },
  {
   "cell_type": "code",
   "execution_count": 22,
   "id": "cf88a300",
   "metadata": {},
   "outputs": [],
   "source": [
    "#only retain nodes that have at least one edge are actually nodes\n",
    "appears_in_edges = list(set(list(df_edges['source']) + list(df_edges['target'])))\n",
    "df_nodes = df_nodes[df_nodes['name'].isin(appears_in_edges)]"
   ]
  },
  {
   "cell_type": "markdown",
   "id": "1b9e73bc",
   "metadata": {},
   "source": [
    "**Build Network Map**"
   ]
  },
  {
   "cell_type": "markdown",
   "id": "982d0233",
   "metadata": {},
   "source": [
    "Now that we have our edges and nodes how we want them, we can build a network map and calculate centrality metrics. "
   ]
  },
  {
   "cell_type": "code",
   "execution_count": 23,
   "id": "58de4447",
   "metadata": {},
   "outputs": [],
   "source": [
    "G = nx.from_pandas_edgelist(df_edges)"
   ]
  },
  {
   "cell_type": "markdown",
   "id": "286209f6",
   "metadata": {},
   "source": [
    "Here, we can add the node attributes into the graph, including a new one mapping each grouped location to a particular color."
   ]
  },
  {
   "cell_type": "code",
   "execution_count": 77,
   "id": "ec634285",
   "metadata": {},
   "outputs": [],
   "source": [
    "category_colors = {\n",
    "    'us_east': 'blue',\n",
    "    'us_west': 'yellow',\n",
    "    'uk': 'purple',\n",
    "    'canada': 'red',\n",
    "    'APAC': 'green',\n",
    "    'us_midwest': 'pink',\n",
    "    'unknown': 'gray',\n",
    "    'africa': 'orange'\n",
    "}"
   ]
  },
  {
   "cell_type": "code",
   "execution_count": 78,
   "id": "9a2d6983",
   "metadata": {},
   "outputs": [],
   "source": [
    "#add node attributes\n",
    "df_nodes2 = df_nodes.set_index('name')\n",
    "df_nodes2['loc_color'] = df_nodes2['location_grouped'].map(category_colors)\n",
    "node_attributes = df_nodes2.to_dict(orient = 'index')"
   ]
  },
  {
   "cell_type": "code",
   "execution_count": 79,
   "id": "505bfd68",
   "metadata": {},
   "outputs": [],
   "source": [
    "nx.set_node_attributes(G, node_attributes)"
   ]
  },
  {
   "cell_type": "code",
   "execution_count": 80,
   "id": "3a61bada",
   "metadata": {},
   "outputs": [],
   "source": [
    "node_colors = nx.get_node_attributes(G, 'loc_color').values()"
   ]
  },
  {
   "cell_type": "code",
   "execution_count": 86,
   "id": "baa0c181",
   "metadata": {},
   "outputs": [
    {
     "data": {
      "image/png": "[encoded data removed]",
      "text/plain": [
       "<Figure size 2000x1200 with 1 Axes>"
      ]
     },
     "metadata": {},
     "output_type": "display_data"
    }
   ],
   "source": [
    "fig, ax = plt.subplots(figsize=(20, 12))\n",
    "nx.draw(G, with_labels=True, ax=ax, node_color=list(node_colors))"
   ]
  },
  {
   "cell_type": "markdown",
   "id": "a0f48092",
   "metadata": {},
   "source": [
    "We can observe that our network almost entirely consists of one cluster, save for one dyad between Mohamed El-Erian and Geoffrey Garrett. Given that the vast majority of nodes are connected by some degree, this should make for some interesting centrality analyses. Who is most \"popular\" in the network? The most connective? The most apparently influential? And do users associated with certain geographies have more \"pull\" by these measures?"
   ]
  },
  {
   "cell_type": "markdown",
   "id": "e15c9a73",
   "metadata": {},
   "source": [
    "**Calculate Centrality Metrics**"
   ]
  },
  {
   "cell_type": "markdown",
   "id": "62178c96",
   "metadata": {},
   "source": [
    "Before we can attempt to answer those questions, we need to calculate centrality metrics. We can do this by looping through networkx's sweet of centrality calculation functions, creating a dictionary for each (associating a node to its value by that metric) and adding that dict as a column to our nodes dataframe."
   ]
  },
  {
   "cell_type": "code",
   "execution_count": 25,
   "id": "61fa293f",
   "metadata": {},
   "outputs": [],
   "source": [
    "func_list = [nx.degree_centrality,nx.closeness_centrality,nx.betweenness_centrality,\\\n",
    "             nx.eigenvector_centrality]\n",
    "\n",
    "# loop through lists\n",
    "for func in func_list:\n",
    "    col_name = func.__name__\n",
    "    result_dict = func(G)\n",
    "    result = df_nodes['name'].map(result_dict)\n",
    "    df_nodes[col_name] = result"
   ]
  },
  {
   "cell_type": "markdown",
   "id": "82d28730",
   "metadata": {},
   "source": [
    "Now, let's create some top-line rankings for each metric, to see which individuals score the highest in each."
   ]
  },
  {
   "cell_type": "code",
   "execution_count": 26,
   "id": "175fb377",
   "metadata": {},
   "outputs": [
    {
     "name": "stdout",
     "output_type": "stream",
     "text": [
      "               name  degree_centrality\n",
      "16  Richard Branson           0.382353\n",
      "68      Simon Sinek           0.264706\n",
      "23    Justin Bariso           0.264706\n",
      "67     Amy Blaschka           0.176471\n",
      "63    String Nguyen           0.176471\n",
      "               name  closeness_centrality\n",
      "16  Richard Branson              0.557734\n",
      "68      Simon Sinek              0.449517\n",
      "23    Justin Bariso              0.449517\n",
      "67     Amy Blaschka              0.442907\n",
      "27           Tai T.              0.424192\n",
      "               name  betweenness_centrality\n",
      "16  Richard Branson                0.399465\n",
      "23    Justin Bariso                0.206318\n",
      "18   James Altucher                0.150120\n",
      "27           Tai T.                0.133162\n",
      "68      Simon Sinek                0.128763\n",
      "               name  eigenvector_centrality\n",
      "16  Richard Branson                0.471183\n",
      "68      Simon Sinek                0.364597\n",
      "67     Amy Blaschka                0.338023\n",
      "62   Chantel Soumis                0.317363\n",
      "63    String Nguyen                0.299910\n"
     ]
    }
   ],
   "source": [
    "for func in func_list:\n",
    "    col_name = func.__name__\n",
    "    df_top5 = df_nodes.sort_values(by = col_name,\n",
    "                         ascending = False)[['name', col_name]].iloc[:5,:]\n",
    "    print(df_top5)"
   ]
  },
  {
   "cell_type": "markdown",
   "id": "edb0f581",
   "metadata": {},
   "source": [
    "These topline individual rankings tell a few interesting stories about our data.\n",
    "\n",
    "First of all, there are a number of influencers who rank highly across all four metrics. Immediately, we can see that Richard Branson has a commanding lead in degree, closeness, betweenness and eigenvector centralities. Not only is he incredibly famous--he is arguably biggest \"household name\" among our nodes--but that popularity seems to extend to LinkedIn mentions, both by and of him. We can confirm that he both mentions and is mentioned by other influencers using the function below."
   ]
  },
  {
   "cell_type": "code",
   "execution_count": 27,
   "id": "78095ebb",
   "metadata": {},
   "outputs": [],
   "source": [
    "def count_mentions(name, df_edges):\n",
    "    '''Report mentions by and mentions of a particular influencer,\n",
    "    based on a DataFrame of edges'''\n",
    "    mentions_by = len(df_edges[df_edges['source'] == name])\n",
    "    mentions_of = len(df_edges[df_edges['target'] == name])\n",
    "    \n",
    "    print('mentions by: ' + str(mentions_by))\n",
    "    print('mentions of: ' + str(mentions_of))"
   ]
  },
  {
   "cell_type": "code",
   "execution_count": 28,
   "id": "0eabcc9b",
   "metadata": {},
   "outputs": [
    {
     "name": "stdout",
     "output_type": "stream",
     "text": [
      "mentions by: 7\n",
      "mentions of: 24\n"
     ]
    }
   ],
   "source": [
    "count_mentions('Richard Branson', df_edges)"
   ]
  },
  {
   "cell_type": "markdown",
   "id": "c6fa96b5",
   "metadata": {},
   "source": [
    "Other influencers, such as Simon Sinek and Justin Bariso, are also clearly important in the network across all four metrics, ranking highly in each.\n",
    "\n",
    "However, perhaps even more interesting are the influencers who rank highly in some metrics but not others. Take James Altucher, for example, who appears in the top 5 only for betweenness centrality. We can see on our network map that he has nowhere near the number of connections as Richard Branson. However, he appears to be incredibly important as a \"bridge\" node. For example, he is the only connection in the network to Gillian Zoe Segal. He is one of only two connections to Andrew Yang and, via his connection to Rachel Jones, sits closer to certain parts of the map than even users who scored highly in other centrality metrics, like Simon Sinek.\n",
    "\n",
    "Now observe Chantel Soumis, who has the fourth highest eigenvector centrality, but does not rank in the top 5 in any other metric. Our map shows that compared to some hotly-mentioned and -mentioning influencers, she is a bit on the \"outside.\" But look who she has direct connections to:"
   ]
  },
  {
   "cell_type": "code",
   "execution_count": 29,
   "id": "f7c8dcc0",
   "metadata": {},
   "outputs": [
    {
     "data": {
      "text/plain": [
       "['Amy Blaschka',\n",
       " 'String Nguyen',\n",
       " 'AJ Wilcox',\n",
       " 'Simon Sinek',\n",
       " \"Kevin O'Leary\",\n",
       " 'Richard Branson']"
      ]
     },
     "execution_count": 29,
     "metadata": {},
     "output_type": "execute_result"
    }
   ],
   "source": [
    "list(G.adj['Chantel Soumis'])"
   ]
  },
  {
   "cell_type": "markdown",
   "id": "05cbc45b",
   "metadata": {},
   "source": [
    "Wow! 4 of Chantel's 6 connections are in the top 5 in degree centrality. It's no wonder her eigenvector centrality was so high--her connections have connections. Looking at a breadth of centrality metrics shows how we can not always judge importance at a glance."
   ]
  },
  {
   "cell_type": "markdown",
   "id": "3384118c",
   "metadata": {},
   "source": [
    "**Compare Centrality Metrics Across Geographies**"
   ]
  },
  {
   "cell_type": "markdown",
   "id": "eff57e78",
   "metadata": {},
   "source": [
    "While it is no doubt interesting to see the centrality scores for individuals, it is by no means the only way to cut the data. How we analyze our network reflects our use case. If we were a marketing team for a brand wanting to recruit an individual for an activation, perhaps we would use these values to determine who to pitch.\n",
    "\n",
    "But what if we wanted to know which *region* we should be engaging in more generally? Where is some of the best networking happening on LinkedIn?\n",
    "\n",
    "For this, we can group our centrality metrics by our newly created location groups and compare across categories."
   ]
  },
  {
   "cell_type": "code",
   "execution_count": 30,
   "id": "8b187f85",
   "metadata": {},
   "outputs": [],
   "source": [
    "df_centrality_loc = df_nodes.groupby('location_grouped').mean([['degree_centrality',\n",
    "                                                  'closeness_centrality',\n",
    "                                                  'betweenness_centrality',\n",
    "                                                  'eigenvector_centrality']]).drop(columns = 'followers')"
   ]
  },
  {
   "cell_type": "markdown",
   "id": "02cbdc9d",
   "metadata": {},
   "source": [
    "Let's make a couple functions to make repeating our analyses a bit easier as we go."
   ]
  },
  {
   "cell_type": "code",
   "execution_count": 31,
   "id": "05363333",
   "metadata": {},
   "outputs": [],
   "source": [
    "def sort_and_limit(df_centrality_loc, metric):\n",
    "    '''Sort a grouped centrality DataFrame by a particular metric,\n",
    "    and limit to only that metric's column.'''\n",
    "    return df_centrality_loc.sort_values(by = metric, ascending = False)[[metric]]"
   ]
  },
  {
   "cell_type": "code",
   "execution_count": 32,
   "id": "693d6add",
   "metadata": {},
   "outputs": [],
   "source": [
    "def see_individual_metrics(df_nodes, metric):\n",
    "    '''Sort nodes by particular metric, present names,\n",
    "    grouped location, and that metric only.'''\n",
    "    return df_nodes.sort_values(by = metric, ascending = False)[['name', 'location_grouped', metric]]"
   ]
  },
  {
   "cell_type": "markdown",
   "id": "5f604c32",
   "metadata": {},
   "source": [
    "Degree Centrality"
   ]
  },
  {
   "cell_type": "code",
   "execution_count": 33,
   "id": "4aeae07c",
   "metadata": {},
   "outputs": [],
   "source": [
    "metric = 'degree_centrality'"
   ]
  },
  {
   "cell_type": "markdown",
   "id": "19756196",
   "metadata": {},
   "source": [
    "While the midwest US only has two nodes in the dataset (Chantel Soumis and Marianne Griebler), they are clearly punching above their weight, so to speak. Both are in the top-third by degree centrality. Meanwhile, even though Richard Branson dominates the list of individuals in terms of degree centrality, the other influencers from his geographic cohort weigh down the average for the UK--the next highest Brit is Danielle Newnham, ranked 17th."
   ]
  },
  {
   "cell_type": "code",
   "execution_count": 34,
   "id": "f4d50b08",
   "metadata": {},
   "outputs": [
    {
     "data": {
      "text/html": [
       "<div>\n",
       "<style scoped>\n",
       "    .dataframe tbody tr th:only-of-type {\n",
       "        vertical-align: middle;\n",
       "    }\n",
       "\n",
       "    .dataframe tbody tr th {\n",
       "        vertical-align: top;\n",
       "    }\n",
       "\n",
       "    .dataframe thead th {\n",
       "        text-align: right;\n",
       "    }\n",
       "</style>\n",
       "<table border=\"1\" class=\"dataframe\">\n",
       "  <thead>\n",
       "    <tr style=\"text-align: right;\">\n",
       "      <th></th>\n",
       "      <th>degree_centrality</th>\n",
       "    </tr>\n",
       "    <tr>\n",
       "      <th>location_grouped</th>\n",
       "      <th></th>\n",
       "    </tr>\n",
       "  </thead>\n",
       "  <tbody>\n",
       "    <tr>\n",
       "      <th>us_midwest</th>\n",
       "      <td>0.147059</td>\n",
       "    </tr>\n",
       "    <tr>\n",
       "      <th>unknown</th>\n",
       "      <td>0.132353</td>\n",
       "    </tr>\n",
       "    <tr>\n",
       "      <th>uk</th>\n",
       "      <td>0.123529</td>\n",
       "    </tr>\n",
       "    <tr>\n",
       "      <th>canada</th>\n",
       "      <td>0.117647</td>\n",
       "    </tr>\n",
       "    <tr>\n",
       "      <th>us_east</th>\n",
       "      <td>0.090686</td>\n",
       "    </tr>\n",
       "    <tr>\n",
       "      <th>africa</th>\n",
       "      <td>0.088235</td>\n",
       "    </tr>\n",
       "    <tr>\n",
       "      <th>APAC</th>\n",
       "      <td>0.088235</td>\n",
       "    </tr>\n",
       "    <tr>\n",
       "      <th>us_west</th>\n",
       "      <td>0.084034</td>\n",
       "    </tr>\n",
       "  </tbody>\n",
       "</table>\n",
       "</div>"
      ],
      "text/plain": [
       "                  degree_centrality\n",
       "location_grouped                   \n",
       "us_midwest                 0.147059\n",
       "unknown                    0.132353\n",
       "uk                         0.123529\n",
       "canada                     0.117647\n",
       "us_east                    0.090686\n",
       "africa                     0.088235\n",
       "APAC                       0.088235\n",
       "us_west                    0.084034"
      ]
     },
     "execution_count": 34,
     "metadata": {},
     "output_type": "execute_result"
    }
   ],
   "source": [
    "sort_and_limit(df_centrality_loc, metric)"
   ]
  },
  {
   "cell_type": "code",
   "execution_count": 35,
   "id": "ed55558e",
   "metadata": {
    "scrolled": true
   },
   "outputs": [
    {
     "data": {
      "text/html": [
       "<div>\n",
       "<style scoped>\n",
       "    .dataframe tbody tr th:only-of-type {\n",
       "        vertical-align: middle;\n",
       "    }\n",
       "\n",
       "    .dataframe tbody tr th {\n",
       "        vertical-align: top;\n",
       "    }\n",
       "\n",
       "    .dataframe thead th {\n",
       "        text-align: right;\n",
       "    }\n",
       "</style>\n",
       "<table border=\"1\" class=\"dataframe\">\n",
       "  <thead>\n",
       "    <tr style=\"text-align: right;\">\n",
       "      <th></th>\n",
       "      <th>name</th>\n",
       "      <th>location_grouped</th>\n",
       "      <th>degree_centrality</th>\n",
       "    </tr>\n",
       "  </thead>\n",
       "  <tbody>\n",
       "    <tr>\n",
       "      <th>16</th>\n",
       "      <td>Richard Branson</td>\n",
       "      <td>uk</td>\n",
       "      <td>0.382353</td>\n",
       "    </tr>\n",
       "    <tr>\n",
       "      <th>68</th>\n",
       "      <td>Simon Sinek</td>\n",
       "      <td>unknown</td>\n",
       "      <td>0.264706</td>\n",
       "    </tr>\n",
       "    <tr>\n",
       "      <th>23</th>\n",
       "      <td>Justin Bariso</td>\n",
       "      <td>us_east</td>\n",
       "      <td>0.264706</td>\n",
       "    </tr>\n",
       "    <tr>\n",
       "      <th>67</th>\n",
       "      <td>Amy Blaschka</td>\n",
       "      <td>us_west</td>\n",
       "      <td>0.176471</td>\n",
       "    </tr>\n",
       "    <tr>\n",
       "      <th>63</th>\n",
       "      <td>String Nguyen</td>\n",
       "      <td>APAC</td>\n",
       "      <td>0.176471</td>\n",
       "    </tr>\n",
       "    <tr>\n",
       "      <th>62</th>\n",
       "      <td>Chantel Soumis</td>\n",
       "      <td>us_midwest</td>\n",
       "      <td>0.176471</td>\n",
       "    </tr>\n",
       "    <tr>\n",
       "      <th>66</th>\n",
       "      <td>Kevin O'Leary</td>\n",
       "      <td>unknown</td>\n",
       "      <td>0.147059</td>\n",
       "    </tr>\n",
       "    <tr>\n",
       "      <th>18</th>\n",
       "      <td>James Altucher</td>\n",
       "      <td>us_east</td>\n",
       "      <td>0.147059</td>\n",
       "    </tr>\n",
       "    <tr>\n",
       "      <th>27</th>\n",
       "      <td>Tai T.</td>\n",
       "      <td>us_west</td>\n",
       "      <td>0.147059</td>\n",
       "    </tr>\n",
       "    <tr>\n",
       "      <th>22</th>\n",
       "      <td>Lynne Everatt</td>\n",
       "      <td>canada</td>\n",
       "      <td>0.117647</td>\n",
       "    </tr>\n",
       "  </tbody>\n",
       "</table>\n",
       "</div>"
      ],
      "text/plain": [
       "               name location_grouped  degree_centrality\n",
       "16  Richard Branson               uk           0.382353\n",
       "68      Simon Sinek          unknown           0.264706\n",
       "23    Justin Bariso          us_east           0.264706\n",
       "67     Amy Blaschka          us_west           0.176471\n",
       "63    String Nguyen             APAC           0.176471\n",
       "62   Chantel Soumis       us_midwest           0.176471\n",
       "66    Kevin O'Leary          unknown           0.147059\n",
       "18   James Altucher          us_east           0.147059\n",
       "27           Tai T.          us_west           0.147059\n",
       "22    Lynne Everatt           canada           0.117647"
      ]
     },
     "execution_count": 35,
     "metadata": {},
     "output_type": "execute_result"
    }
   ],
   "source": [
    "see_individual_metrics(df_nodes, metric).iloc[:10, :]"
   ]
  },
  {
   "cell_type": "markdown",
   "id": "2668557d",
   "metadata": {},
   "source": [
    "Closeness Centrality"
   ]
  },
  {
   "cell_type": "code",
   "execution_count": 36,
   "id": "a35af78f",
   "metadata": {},
   "outputs": [],
   "source": [
    "metric = 'closeness_centrality'"
   ]
  },
  {
   "cell_type": "markdown",
   "id": "5e1552dd",
   "metadata": {},
   "source": [
    "Canada and Africa had the highest closeness centrality on average, but each region has only one member, meaning individual metrics are equivalent to group metrics. The Western United States also ranked highly here, do largely to high closeness centrality values for Amy Blaschka and Tai T., with strong to moderate performance in the metric by others in the region. On average, this suggests that influencers in the Western US would very efficiently pass information across to and from other influencers (and not necessarily just others in the Western US)."
   ]
  },
  {
   "cell_type": "code",
   "execution_count": 37,
   "id": "6d4c734b",
   "metadata": {},
   "outputs": [
    {
     "data": {
      "text/html": [
       "<div>\n",
       "<style scoped>\n",
       "    .dataframe tbody tr th:only-of-type {\n",
       "        vertical-align: middle;\n",
       "    }\n",
       "\n",
       "    .dataframe tbody tr th {\n",
       "        vertical-align: top;\n",
       "    }\n",
       "\n",
       "    .dataframe thead th {\n",
       "        text-align: right;\n",
       "    }\n",
       "</style>\n",
       "<table border=\"1\" class=\"dataframe\">\n",
       "  <thead>\n",
       "    <tr style=\"text-align: right;\">\n",
       "      <th></th>\n",
       "      <th>closeness_centrality</th>\n",
       "    </tr>\n",
       "    <tr>\n",
       "      <th>location_grouped</th>\n",
       "      <th></th>\n",
       "    </tr>\n",
       "  </thead>\n",
       "  <tbody>\n",
       "    <tr>\n",
       "      <th>canada</th>\n",
       "      <td>0.406995</td>\n",
       "    </tr>\n",
       "    <tr>\n",
       "      <th>africa</th>\n",
       "      <td>0.401569</td>\n",
       "    </tr>\n",
       "    <tr>\n",
       "      <th>us_midwest</th>\n",
       "      <td>0.372833</td>\n",
       "    </tr>\n",
       "    <tr>\n",
       "      <th>us_west</th>\n",
       "      <td>0.356163</td>\n",
       "    </tr>\n",
       "    <tr>\n",
       "      <th>APAC</th>\n",
       "      <td>0.347228</td>\n",
       "    </tr>\n",
       "    <tr>\n",
       "      <th>us_east</th>\n",
       "      <td>0.332910</td>\n",
       "    </tr>\n",
       "    <tr>\n",
       "      <th>uk</th>\n",
       "      <td>0.326160</td>\n",
       "    </tr>\n",
       "    <tr>\n",
       "      <th>unknown</th>\n",
       "      <td>0.318012</td>\n",
       "    </tr>\n",
       "  </tbody>\n",
       "</table>\n",
       "</div>"
      ],
      "text/plain": [
       "                  closeness_centrality\n",
       "location_grouped                      \n",
       "canada                        0.406995\n",
       "africa                        0.401569\n",
       "us_midwest                    0.372833\n",
       "us_west                       0.356163\n",
       "APAC                          0.347228\n",
       "us_east                       0.332910\n",
       "uk                            0.326160\n",
       "unknown                       0.318012"
      ]
     },
     "execution_count": 37,
     "metadata": {},
     "output_type": "execute_result"
    }
   ],
   "source": [
    "sort_and_limit(df_centrality_loc, metric)"
   ]
  },
  {
   "cell_type": "code",
   "execution_count": 38,
   "id": "a62e41a4",
   "metadata": {
    "scrolled": true
   },
   "outputs": [
    {
     "data": {
      "text/html": [
       "<div>\n",
       "<style scoped>\n",
       "    .dataframe tbody tr th:only-of-type {\n",
       "        vertical-align: middle;\n",
       "    }\n",
       "\n",
       "    .dataframe tbody tr th {\n",
       "        vertical-align: top;\n",
       "    }\n",
       "\n",
       "    .dataframe thead th {\n",
       "        text-align: right;\n",
       "    }\n",
       "</style>\n",
       "<table border=\"1\" class=\"dataframe\">\n",
       "  <thead>\n",
       "    <tr style=\"text-align: right;\">\n",
       "      <th></th>\n",
       "      <th>name</th>\n",
       "      <th>location_grouped</th>\n",
       "      <th>closeness_centrality</th>\n",
       "    </tr>\n",
       "  </thead>\n",
       "  <tbody>\n",
       "    <tr>\n",
       "      <th>16</th>\n",
       "      <td>Richard Branson</td>\n",
       "      <td>uk</td>\n",
       "      <td>0.557734</td>\n",
       "    </tr>\n",
       "    <tr>\n",
       "      <th>68</th>\n",
       "      <td>Simon Sinek</td>\n",
       "      <td>unknown</td>\n",
       "      <td>0.449517</td>\n",
       "    </tr>\n",
       "    <tr>\n",
       "      <th>23</th>\n",
       "      <td>Justin Bariso</td>\n",
       "      <td>us_east</td>\n",
       "      <td>0.449517</td>\n",
       "    </tr>\n",
       "    <tr>\n",
       "      <th>67</th>\n",
       "      <td>Amy Blaschka</td>\n",
       "      <td>us_west</td>\n",
       "      <td>0.442907</td>\n",
       "    </tr>\n",
       "    <tr>\n",
       "      <th>27</th>\n",
       "      <td>Tai T.</td>\n",
       "      <td>us_west</td>\n",
       "      <td>0.424192</td>\n",
       "    </tr>\n",
       "    <tr>\n",
       "      <th>18</th>\n",
       "      <td>James Altucher</td>\n",
       "      <td>us_east</td>\n",
       "      <td>0.418301</td>\n",
       "    </tr>\n",
       "    <tr>\n",
       "      <th>62</th>\n",
       "      <td>Chantel Soumis</td>\n",
       "      <td>us_midwest</td>\n",
       "      <td>0.418301</td>\n",
       "    </tr>\n",
       "    <tr>\n",
       "      <th>66</th>\n",
       "      <td>Kevin O'Leary</td>\n",
       "      <td>unknown</td>\n",
       "      <td>0.406995</td>\n",
       "    </tr>\n",
       "    <tr>\n",
       "      <th>22</th>\n",
       "      <td>Lynne Everatt</td>\n",
       "      <td>canada</td>\n",
       "      <td>0.406995</td>\n",
       "    </tr>\n",
       "    <tr>\n",
       "      <th>63</th>\n",
       "      <td>String Nguyen</td>\n",
       "      <td>APAC</td>\n",
       "      <td>0.406995</td>\n",
       "    </tr>\n",
       "  </tbody>\n",
       "</table>\n",
       "</div>"
      ],
      "text/plain": [
       "               name location_grouped  closeness_centrality\n",
       "16  Richard Branson               uk              0.557734\n",
       "68      Simon Sinek          unknown              0.449517\n",
       "23    Justin Bariso          us_east              0.449517\n",
       "67     Amy Blaschka          us_west              0.442907\n",
       "27           Tai T.          us_west              0.424192\n",
       "18   James Altucher          us_east              0.418301\n",
       "62   Chantel Soumis       us_midwest              0.418301\n",
       "66    Kevin O'Leary          unknown              0.406995\n",
       "22    Lynne Everatt           canada              0.406995\n",
       "63    String Nguyen             APAC              0.406995"
      ]
     },
     "execution_count": 38,
     "metadata": {},
     "output_type": "execute_result"
    }
   ],
   "source": [
    "see_individual_metrics(df_nodes, metric).iloc[:10, :]"
   ]
  },
  {
   "cell_type": "markdown",
   "id": "48149d41",
   "metadata": {},
   "source": [
    "Betweenness Centrality"
   ]
  },
  {
   "cell_type": "code",
   "execution_count": 39,
   "id": "1a63a3f8",
   "metadata": {},
   "outputs": [],
   "source": [
    "metric = 'betweenness_centrality'"
   ]
  },
  {
   "cell_type": "markdown",
   "id": "4d145443",
   "metadata": {},
   "source": [
    "For betweenness centrality (relative to other metrics), higher scores for Brits across the board buoy Richard Branson's already very high marks to give the UK an overall lead. This suggests that the UK-based influencers in the network often find themselves in bridging positions from one section of the map to another."
   ]
  },
  {
   "cell_type": "code",
   "execution_count": 40,
   "id": "524f30e5",
   "metadata": {},
   "outputs": [
    {
     "data": {
      "text/html": [
       "<div>\n",
       "<style scoped>\n",
       "    .dataframe tbody tr th:only-of-type {\n",
       "        vertical-align: middle;\n",
       "    }\n",
       "\n",
       "    .dataframe tbody tr th {\n",
       "        vertical-align: top;\n",
       "    }\n",
       "\n",
       "    .dataframe thead th {\n",
       "        text-align: right;\n",
       "    }\n",
       "</style>\n",
       "<table border=\"1\" class=\"dataframe\">\n",
       "  <thead>\n",
       "    <tr style=\"text-align: right;\">\n",
       "      <th></th>\n",
       "      <th>betweenness_centrality</th>\n",
       "    </tr>\n",
       "    <tr>\n",
       "      <th>location_grouped</th>\n",
       "      <th></th>\n",
       "    </tr>\n",
       "  </thead>\n",
       "  <tbody>\n",
       "    <tr>\n",
       "      <th>uk</th>\n",
       "      <td>0.085094</td>\n",
       "    </tr>\n",
       "    <tr>\n",
       "      <th>canada</th>\n",
       "      <td>0.080927</td>\n",
       "    </tr>\n",
       "    <tr>\n",
       "      <th>africa</th>\n",
       "      <td>0.055258</td>\n",
       "    </tr>\n",
       "    <tr>\n",
       "      <th>unknown</th>\n",
       "      <td>0.046149</td>\n",
       "    </tr>\n",
       "    <tr>\n",
       "      <th>us_east</th>\n",
       "      <td>0.045606</td>\n",
       "    </tr>\n",
       "    <tr>\n",
       "      <th>us_west</th>\n",
       "      <td>0.028101</td>\n",
       "    </tr>\n",
       "    <tr>\n",
       "      <th>us_midwest</th>\n",
       "      <td>0.024370</td>\n",
       "    </tr>\n",
       "    <tr>\n",
       "      <th>APAC</th>\n",
       "      <td>0.015233</td>\n",
       "    </tr>\n",
       "  </tbody>\n",
       "</table>\n",
       "</div>"
      ],
      "text/plain": [
       "                  betweenness_centrality\n",
       "location_grouped                        \n",
       "uk                              0.085094\n",
       "canada                          0.080927\n",
       "africa                          0.055258\n",
       "unknown                         0.046149\n",
       "us_east                         0.045606\n",
       "us_west                         0.028101\n",
       "us_midwest                      0.024370\n",
       "APAC                            0.015233"
      ]
     },
     "execution_count": 40,
     "metadata": {},
     "output_type": "execute_result"
    }
   ],
   "source": [
    "sort_and_limit(df_centrality_loc, metric)"
   ]
  },
  {
   "cell_type": "code",
   "execution_count": 41,
   "id": "6e5f65ba",
   "metadata": {
    "scrolled": true
   },
   "outputs": [
    {
     "data": {
      "text/html": [
       "<div>\n",
       "<style scoped>\n",
       "    .dataframe tbody tr th:only-of-type {\n",
       "        vertical-align: middle;\n",
       "    }\n",
       "\n",
       "    .dataframe tbody tr th {\n",
       "        vertical-align: top;\n",
       "    }\n",
       "\n",
       "    .dataframe thead th {\n",
       "        text-align: right;\n",
       "    }\n",
       "</style>\n",
       "<table border=\"1\" class=\"dataframe\">\n",
       "  <thead>\n",
       "    <tr style=\"text-align: right;\">\n",
       "      <th></th>\n",
       "      <th>name</th>\n",
       "      <th>location_grouped</th>\n",
       "      <th>betweenness_centrality</th>\n",
       "    </tr>\n",
       "  </thead>\n",
       "  <tbody>\n",
       "    <tr>\n",
       "      <th>16</th>\n",
       "      <td>Richard Branson</td>\n",
       "      <td>uk</td>\n",
       "      <td>0.399465</td>\n",
       "    </tr>\n",
       "    <tr>\n",
       "      <th>23</th>\n",
       "      <td>Justin Bariso</td>\n",
       "      <td>us_east</td>\n",
       "      <td>0.206318</td>\n",
       "    </tr>\n",
       "    <tr>\n",
       "      <th>18</th>\n",
       "      <td>James Altucher</td>\n",
       "      <td>us_east</td>\n",
       "      <td>0.150120</td>\n",
       "    </tr>\n",
       "    <tr>\n",
       "      <th>27</th>\n",
       "      <td>Tai T.</td>\n",
       "      <td>us_west</td>\n",
       "      <td>0.133162</td>\n",
       "    </tr>\n",
       "    <tr>\n",
       "      <th>68</th>\n",
       "      <td>Simon Sinek</td>\n",
       "      <td>unknown</td>\n",
       "      <td>0.128763</td>\n",
       "    </tr>\n",
       "    <tr>\n",
       "      <th>22</th>\n",
       "      <td>Lynne Everatt</td>\n",
       "      <td>canada</td>\n",
       "      <td>0.080927</td>\n",
       "    </tr>\n",
       "    <tr>\n",
       "      <th>32</th>\n",
       "      <td>Shama Hyder</td>\n",
       "      <td>us_east</td>\n",
       "      <td>0.074230</td>\n",
       "    </tr>\n",
       "    <tr>\n",
       "      <th>53</th>\n",
       "      <td>Lee Naik</td>\n",
       "      <td>africa</td>\n",
       "      <td>0.055258</td>\n",
       "    </tr>\n",
       "    <tr>\n",
       "      <th>66</th>\n",
       "      <td>Kevin O'Leary</td>\n",
       "      <td>unknown</td>\n",
       "      <td>0.042320</td>\n",
       "    </tr>\n",
       "    <tr>\n",
       "      <th>57</th>\n",
       "      <td>Andrew Yang</td>\n",
       "      <td>us_east</td>\n",
       "      <td>0.042038</td>\n",
       "    </tr>\n",
       "  </tbody>\n",
       "</table>\n",
       "</div>"
      ],
      "text/plain": [
       "               name location_grouped  betweenness_centrality\n",
       "16  Richard Branson               uk                0.399465\n",
       "23    Justin Bariso          us_east                0.206318\n",
       "18   James Altucher          us_east                0.150120\n",
       "27           Tai T.          us_west                0.133162\n",
       "68      Simon Sinek          unknown                0.128763\n",
       "22    Lynne Everatt           canada                0.080927\n",
       "32      Shama Hyder          us_east                0.074230\n",
       "53         Lee Naik           africa                0.055258\n",
       "66    Kevin O'Leary          unknown                0.042320\n",
       "57      Andrew Yang          us_east                0.042038"
      ]
     },
     "execution_count": 41,
     "metadata": {},
     "output_type": "execute_result"
    }
   ],
   "source": [
    "see_individual_metrics(df_nodes, metric).iloc[:10, :]"
   ]
  },
  {
   "cell_type": "markdown",
   "id": "182d8fb3",
   "metadata": {},
   "source": [
    "Eigenvector Centrality"
   ]
  },
  {
   "cell_type": "code",
   "execution_count": 42,
   "id": "061189f3",
   "metadata": {},
   "outputs": [],
   "source": [
    "metric = 'eigenvector_centrality'"
   ]
  },
  {
   "cell_type": "markdown",
   "id": "5ad5506d",
   "metadata": {},
   "source": [
    "Unfortunately, there's little we can tell about the collective properties of nodes with unknown locations; their only known similarity is an unwillingness to report it on their profile. However, we do also see high marks in eigenvector centrality for the US Midwest, UK and APAC. This is APAC's highest-ranking metric, bolstered by String Nguyen and middle-of-the-pack values for Hansi Mehrotra and Glenn Leibowitz. Here, we can see that users with low degree centrality can nonetheless have high eigenvector centrality by virtue of one or several very important connections (such as Simon Sinek for Hansi Mehrotra or Justin Barosa for Glenn Leibowitz."
   ]
  },
  {
   "cell_type": "code",
   "execution_count": 43,
   "id": "a223ee92",
   "metadata": {},
   "outputs": [
    {
     "data": {
      "text/html": [
       "<div>\n",
       "<style scoped>\n",
       "    .dataframe tbody tr th:only-of-type {\n",
       "        vertical-align: middle;\n",
       "    }\n",
       "\n",
       "    .dataframe tbody tr th {\n",
       "        vertical-align: top;\n",
       "    }\n",
       "\n",
       "    .dataframe thead th {\n",
       "        text-align: right;\n",
       "    }\n",
       "</style>\n",
       "<table border=\"1\" class=\"dataframe\">\n",
       "  <thead>\n",
       "    <tr style=\"text-align: right;\">\n",
       "      <th></th>\n",
       "      <th>eigenvector_centrality</th>\n",
       "    </tr>\n",
       "    <tr>\n",
       "      <th>location_grouped</th>\n",
       "      <th></th>\n",
       "    </tr>\n",
       "  </thead>\n",
       "  <tbody>\n",
       "    <tr>\n",
       "      <th>unknown</th>\n",
       "      <td>0.191025</td>\n",
       "    </tr>\n",
       "    <tr>\n",
       "      <th>us_midwest</th>\n",
       "      <td>0.185075</td>\n",
       "    </tr>\n",
       "    <tr>\n",
       "      <th>uk</th>\n",
       "      <td>0.150252</td>\n",
       "    </tr>\n",
       "    <tr>\n",
       "      <th>APAC</th>\n",
       "      <td>0.138618</td>\n",
       "    </tr>\n",
       "    <tr>\n",
       "      <th>canada</th>\n",
       "      <td>0.134383</td>\n",
       "    </tr>\n",
       "    <tr>\n",
       "      <th>africa</th>\n",
       "      <td>0.129278</td>\n",
       "    </tr>\n",
       "    <tr>\n",
       "      <th>us_west</th>\n",
       "      <td>0.117227</td>\n",
       "    </tr>\n",
       "    <tr>\n",
       "      <th>us_east</th>\n",
       "      <td>0.079174</td>\n",
       "    </tr>\n",
       "  </tbody>\n",
       "</table>\n",
       "</div>"
      ],
      "text/plain": [
       "                  eigenvector_centrality\n",
       "location_grouped                        \n",
       "unknown                         0.191025\n",
       "us_midwest                      0.185075\n",
       "uk                              0.150252\n",
       "APAC                            0.138618\n",
       "canada                          0.134383\n",
       "africa                          0.129278\n",
       "us_west                         0.117227\n",
       "us_east                         0.079174"
      ]
     },
     "execution_count": 43,
     "metadata": {},
     "output_type": "execute_result"
    }
   ],
   "source": [
    "sort_and_limit(df_centrality_loc, metric)"
   ]
  },
  {
   "cell_type": "code",
   "execution_count": 44,
   "id": "61a56770",
   "metadata": {
    "scrolled": true
   },
   "outputs": [
    {
     "data": {
      "text/html": [
       "<div>\n",
       "<style scoped>\n",
       "    .dataframe tbody tr th:only-of-type {\n",
       "        vertical-align: middle;\n",
       "    }\n",
       "\n",
       "    .dataframe tbody tr th {\n",
       "        vertical-align: top;\n",
       "    }\n",
       "\n",
       "    .dataframe thead th {\n",
       "        text-align: right;\n",
       "    }\n",
       "</style>\n",
       "<table border=\"1\" class=\"dataframe\">\n",
       "  <thead>\n",
       "    <tr style=\"text-align: right;\">\n",
       "      <th></th>\n",
       "      <th>name</th>\n",
       "      <th>location_grouped</th>\n",
       "      <th>eigenvector_centrality</th>\n",
       "    </tr>\n",
       "  </thead>\n",
       "  <tbody>\n",
       "    <tr>\n",
       "      <th>16</th>\n",
       "      <td>Richard Branson</td>\n",
       "      <td>uk</td>\n",
       "      <td>0.471183</td>\n",
       "    </tr>\n",
       "    <tr>\n",
       "      <th>68</th>\n",
       "      <td>Simon Sinek</td>\n",
       "      <td>unknown</td>\n",
       "      <td>0.364597</td>\n",
       "    </tr>\n",
       "    <tr>\n",
       "      <th>67</th>\n",
       "      <td>Amy Blaschka</td>\n",
       "      <td>us_west</td>\n",
       "      <td>0.338023</td>\n",
       "    </tr>\n",
       "    <tr>\n",
       "      <th>62</th>\n",
       "      <td>Chantel Soumis</td>\n",
       "      <td>us_midwest</td>\n",
       "      <td>0.317363</td>\n",
       "    </tr>\n",
       "    <tr>\n",
       "      <th>63</th>\n",
       "      <td>String Nguyen</td>\n",
       "      <td>APAC</td>\n",
       "      <td>0.299910</td>\n",
       "    </tr>\n",
       "    <tr>\n",
       "      <th>23</th>\n",
       "      <td>Justin Bariso</td>\n",
       "      <td>us_east</td>\n",
       "      <td>0.246759</td>\n",
       "    </tr>\n",
       "    <tr>\n",
       "      <th>66</th>\n",
       "      <td>Kevin O'Leary</td>\n",
       "      <td>unknown</td>\n",
       "      <td>0.236425</td>\n",
       "    </tr>\n",
       "    <tr>\n",
       "      <th>54</th>\n",
       "      <td>Danielle Newnham</td>\n",
       "      <td>uk</td>\n",
       "      <td>0.163078</td>\n",
       "    </tr>\n",
       "    <tr>\n",
       "      <th>55</th>\n",
       "      <td>Vani Kola</td>\n",
       "      <td>unknown</td>\n",
       "      <td>0.163078</td>\n",
       "    </tr>\n",
       "    <tr>\n",
       "      <th>31</th>\n",
       "      <td>Katie Martell</td>\n",
       "      <td>us_east</td>\n",
       "      <td>0.137791</td>\n",
       "    </tr>\n",
       "  </tbody>\n",
       "</table>\n",
       "</div>"
      ],
      "text/plain": [
       "                name location_grouped  eigenvector_centrality\n",
       "16   Richard Branson               uk                0.471183\n",
       "68       Simon Sinek          unknown                0.364597\n",
       "67      Amy Blaschka          us_west                0.338023\n",
       "62    Chantel Soumis       us_midwest                0.317363\n",
       "63     String Nguyen             APAC                0.299910\n",
       "23     Justin Bariso          us_east                0.246759\n",
       "66     Kevin O'Leary          unknown                0.236425\n",
       "54  Danielle Newnham               uk                0.163078\n",
       "55         Vani Kola          unknown                0.163078\n",
       "31     Katie Martell          us_east                0.137791"
      ]
     },
     "execution_count": 44,
     "metadata": {},
     "output_type": "execute_result"
    }
   ],
   "source": [
    "see_individual_metrics(df_nodes, metric).iloc[:10, :]"
   ]
  },
  {
   "cell_type": "markdown",
   "id": "c9a7f9c6",
   "metadata": {},
   "source": [
    "**Conclusion**"
   ]
  },
  {
   "cell_type": "markdown",
   "id": "b1293019",
   "metadata": {},
   "source": [
    "Centrality metrics tell us a lot about an individual's place in a network, but when combined with categorical variables, they can be even more powerful and explanatory. Mean differences across categories in network metrics can help guide meaningful recommendations; in the case of our LinkedIn map, they could steer an aspiring influencer toward engaging in particular geographies, or guide a researcher toward new potential areas of study. Analyses like these are a reminder that when working with a network map, we should be constantly calibrating our scope between individual nodes, the entire map, and everything in between."
   ]
  }
 ],
 "metadata": {
  "kernelspec": {
   "display_name": "Python 3 (ipykernel)",
   "language": "python",
   "name": "python3"
  },
  "language_info": {
   "codemirror_mode": {
    "name": "ipython",
    "version": 3
   },
   "file_extension": ".py",
   "mimetype": "text/x-python",
   "name": "python",
   "nbconvert_exporter": "python",
   "pygments_lexer": "ipython3",
   "version": "3.10.9"
  }
 },
 "nbformat": 4,
 "nbformat_minor": 5
}
