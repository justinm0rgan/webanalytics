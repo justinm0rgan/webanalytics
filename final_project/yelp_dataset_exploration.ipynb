{
 "cells": [
  {
   "attachments": {},
   "cell_type": "markdown",
   "metadata": {},
   "source": [
    "# Yelp dataset Exploration\n",
    "This notebook will explore the previously downloaded **Yelp** dataset available [here](https://www.yelp.com/dataset).<br>\n",
    "The idea is to find a subset of the dataset that will work for analysis, than save that dataset as a separate set that is easily workable within the jupyter notebook environment."
   ]
  },
  {
   "cell_type": "code",
   "execution_count": 72,
   "metadata": {},
   "outputs": [],
   "source": [
    "# import packages\n",
    "import pandas as pd\n",
    "import numpy as np\n",
    "import os\n",
    "import re\n",
    "\n",
    "# surpress warnings\n",
    "import warnings\n",
    "warnings.filterwarnings('ignore')"
   ]
  },
  {
   "cell_type": "code",
   "execution_count": 3,
   "metadata": {},
   "outputs": [],
   "source": [
    "# set general data path\n",
    "data_path=\"/Users/justinwilliams/Dropbox/data620/yelp_dataset\""
   ]
  },
  {
   "cell_type": "code",
   "execution_count": 14,
   "metadata": {},
   "outputs": [],
   "source": [
    "# set data paths\n",
    "data_business_path=os.path.join(data_path,'yelp_academic_dataset_business.json')\n",
    "data_reviews_path=os.path.join(data_path,\"yelp_academic_dataset_review.json\")\n",
    "data_user_path=os.path.join(data_path,\"yelp_academic_dataset_user.json\")"
   ]
  },
  {
   "cell_type": "code",
   "execution_count": 19,
   "metadata": {},
   "outputs": [],
   "source": [
    "# import into pandas\n",
    "df_business=pd.read_json(data_business_path, lines=True)\n",
    "df_reviews=pd.read_json(data_reviews_path,lines=True)\n",
    "df_user=pd.read_json(data_user_path,lines=True)"
   ]
  },
  {
   "attachments": {},
   "cell_type": "markdown",
   "metadata": {},
   "source": [
    "## Businesses\n",
    "Let's first look at the `business` dataset to filter by `city`, `state` and `category`."
   ]
  },
  {
   "cell_type": "code",
   "execution_count": 21,
   "metadata": {},
   "outputs": [
    {
     "data": {
      "text/plain": [
       "Index(['business_id', 'name', 'address', 'city', 'state', 'postal_code',\n",
       "       'latitude', 'longitude', 'stars', 'review_count', 'is_open',\n",
       "       'attributes', 'categories', 'hours'],\n",
       "      dtype='object')"
      ]
     },
     "execution_count": 21,
     "metadata": {},
     "output_type": "execute_result"
    }
   ],
   "source": [
    "# column list\n",
    "df_business.columns"
   ]
  },
  {
   "cell_type": "code",
   "execution_count": 23,
   "metadata": {},
   "outputs": [
    {
     "data": {
      "text/plain": [
       "PA     34039\n",
       "FL     26330\n",
       "TN     12056\n",
       "IN     11247\n",
       "MO     10913\n",
       "LA      9924\n",
       "AZ      9912\n",
       "NJ      8536\n",
       "NV      7715\n",
       "AB      5573\n",
       "CA      5203\n",
       "ID      4467\n",
       "DE      2265\n",
       "IL      2145\n",
       "TX         4\n",
       "CO         3\n",
       "WA         2\n",
       "HI         2\n",
       "MA         2\n",
       "NC         1\n",
       "UT         1\n",
       "MT         1\n",
       "MI         1\n",
       "SD         1\n",
       "XMS        1\n",
       "VI         1\n",
       "VT         1\n",
       "Name: state, dtype: int64"
      ]
     },
     "execution_count": 23,
     "metadata": {},
     "output_type": "execute_result"
    }
   ],
   "source": [
    "# what states are in dataset\n",
    "df_business['state'].value_counts()"
   ]
  },
  {
   "attachments": {},
   "cell_type": "markdown",
   "metadata": {},
   "source": [
    "Let's look at `Philadelphia,PA`."
   ]
  },
  {
   "cell_type": "code",
   "execution_count": 67,
   "metadata": {},
   "outputs": [],
   "source": [
    "# filter for philly\n",
    "df_business_philly=df_business[(df_business['state'] == 'PA') & \\\n",
    "                               (df_business['city'] == 'Philadelphia')]"
   ]
  },
  {
   "attachments": {},
   "cell_type": "markdown",
   "metadata": {},
   "source": [
    "Let's look at categories within Philadelphia."
   ]
  },
  {
   "cell_type": "code",
   "execution_count": 69,
   "metadata": {},
   "outputs": [
    {
     "data": {
      "text/plain": [
       "Restaurants, Pizza                                                                                                          154\n",
       "Pizza, Restaurants                                                                                                          124\n",
       "Restaurants, Chinese                                                                                                         89\n",
       "Nail Salons, Beauty & Spas                                                                                                   86\n",
       "Chinese, Restaurants                                                                                                         84\n",
       "                                                                                                                           ... \n",
       "Food, Japanese, Bubble Tea, Poke, Sushi Bars, Ramen, Restaurants                                                              1\n",
       "Food, Sandwiches, Fast Food, Restaurants, Diners, Seafood, Street Vendors                                                     1\n",
       "Restaurants, Italian, Chicken Wings, Pizza                                                                                    1\n",
       "Hair Stylists, Hair Salons, Barbers, Beauty & Spas                                                                            1\n",
       "Health & Medical, Yoga, Shopping, Naturopathic/Holistic, Active Life, Meditation Centers, Doctors, Fitness & Instruction      1\n",
       "Name: categories, Length: 10233, dtype: int64"
      ]
     },
     "execution_count": 69,
     "metadata": {},
     "output_type": "execute_result"
    }
   ],
   "source": [
    "df_business_philly['categories'].value_counts()"
   ]
  },
  {
   "attachments": {},
   "cell_type": "markdown",
   "metadata": {},
   "source": [
    "Looks like `Restaurants, Pizza` is the highest, followed by `Pizza, Restaurant`.<br>\n",
    "Let's use some regex to get anything that has `Restaurants` in the `categories` column."
   ]
  },
  {
   "cell_type": "code",
   "execution_count": 60,
   "metadata": {},
   "outputs": [],
   "source": [
    "del df_business_philly"
   ]
  },
  {
   "cell_type": "code",
   "execution_count": 78,
   "metadata": {},
   "outputs": [],
   "source": [
    "# custom function\n",
    "def has_restaurant(string):\n",
    "    \"\"\"\n",
    "    Returns bool if match\n",
    "    \"\"\"\n",
    "    if string and re.match('.*Restaurants.*', string):\n",
    "        return True\n",
    "    else:\n",
    "        return False\n",
    "    \n",
    "# apply function to categories, create bool col\n",
    "df_business_philly['has_restaurant'] = df_business_philly['categories'].apply(has_restaurant)\n",
    "\n",
    "# filter\n",
    "df_business_philly_rest=df_business_philly.loc[df_business_philly['has_restaurant']]\\\n",
    "    .reset_index(drop=True)\n"
   ]
  },
  {
   "cell_type": "code",
   "execution_count": 80,
   "metadata": {},
   "outputs": [
    {
     "data": {
      "text/html": [
       "<div>\n",
       "<style scoped>\n",
       "    .dataframe tbody tr th:only-of-type {\n",
       "        vertical-align: middle;\n",
       "    }\n",
       "\n",
       "    .dataframe tbody tr th {\n",
       "        vertical-align: top;\n",
       "    }\n",
       "\n",
       "    .dataframe thead th {\n",
       "        text-align: right;\n",
       "    }\n",
       "</style>\n",
       "<table border=\"1\" class=\"dataframe\">\n",
       "  <thead>\n",
       "    <tr style=\"text-align: right;\">\n",
       "      <th></th>\n",
       "      <th>business_id</th>\n",
       "      <th>name</th>\n",
       "      <th>address</th>\n",
       "      <th>city</th>\n",
       "      <th>state</th>\n",
       "      <th>postal_code</th>\n",
       "      <th>latitude</th>\n",
       "      <th>longitude</th>\n",
       "      <th>stars</th>\n",
       "      <th>review_count</th>\n",
       "      <th>is_open</th>\n",
       "      <th>attributes</th>\n",
       "      <th>categories</th>\n",
       "      <th>hours</th>\n",
       "      <th>has_restaurant</th>\n",
       "    </tr>\n",
       "  </thead>\n",
       "  <tbody>\n",
       "    <tr>\n",
       "      <th>0</th>\n",
       "      <td>MTSW4McQd7CbVtyjqoe9mw</td>\n",
       "      <td>St Honore Pastries</td>\n",
       "      <td>935 Race St</td>\n",
       "      <td>Philadelphia</td>\n",
       "      <td>PA</td>\n",
       "      <td>19107</td>\n",
       "      <td>39.955505</td>\n",
       "      <td>-75.155564</td>\n",
       "      <td>4.0</td>\n",
       "      <td>80</td>\n",
       "      <td>1</td>\n",
       "      <td>{'RestaurantsDelivery': 'False', 'OutdoorSeati...</td>\n",
       "      <td>Restaurants, Food, Bubble Tea, Coffee &amp; Tea, B...</td>\n",
       "      <td>{'Monday': '7:0-20:0', 'Tuesday': '7:0-20:0', ...</td>\n",
       "      <td>True</td>\n",
       "    </tr>\n",
       "    <tr>\n",
       "      <th>1</th>\n",
       "      <td>MUTTqe8uqyMdBl186RmNeA</td>\n",
       "      <td>Tuna Bar</td>\n",
       "      <td>205 Race St</td>\n",
       "      <td>Philadelphia</td>\n",
       "      <td>PA</td>\n",
       "      <td>19106</td>\n",
       "      <td>39.953949</td>\n",
       "      <td>-75.143226</td>\n",
       "      <td>4.0</td>\n",
       "      <td>245</td>\n",
       "      <td>1</td>\n",
       "      <td>{'RestaurantsReservations': 'True', 'Restauran...</td>\n",
       "      <td>Sushi Bars, Restaurants, Japanese</td>\n",
       "      <td>{'Tuesday': '13:30-22:0', 'Wednesday': '13:30-...</td>\n",
       "      <td>True</td>\n",
       "    </tr>\n",
       "    <tr>\n",
       "      <th>2</th>\n",
       "      <td>ROeacJQwBeh05Rqg7F6TCg</td>\n",
       "      <td>BAP</td>\n",
       "      <td>1224 South St</td>\n",
       "      <td>Philadelphia</td>\n",
       "      <td>PA</td>\n",
       "      <td>19147</td>\n",
       "      <td>39.943223</td>\n",
       "      <td>-75.162568</td>\n",
       "      <td>4.5</td>\n",
       "      <td>205</td>\n",
       "      <td>1</td>\n",
       "      <td>{'NoiseLevel': 'u'quiet'', 'GoodForMeal': '{'d...</td>\n",
       "      <td>Korean, Restaurants</td>\n",
       "      <td>{'Monday': '11:30-20:30', 'Tuesday': '11:30-20...</td>\n",
       "      <td>True</td>\n",
       "    </tr>\n",
       "    <tr>\n",
       "      <th>3</th>\n",
       "      <td>QdN72BWoyFypdGJhhI5r7g</td>\n",
       "      <td>Bar One</td>\n",
       "      <td>767 S 9th St</td>\n",
       "      <td>Philadelphia</td>\n",
       "      <td>PA</td>\n",
       "      <td>19147</td>\n",
       "      <td>39.939825</td>\n",
       "      <td>-75.157447</td>\n",
       "      <td>4.0</td>\n",
       "      <td>65</td>\n",
       "      <td>0</td>\n",
       "      <td>{'Smoking': 'u'no'', 'NoiseLevel': 'u'average'...</td>\n",
       "      <td>Cocktail Bars, Bars, Italian, Nightlife, Resta...</td>\n",
       "      <td>{'Monday': '16:0-0:0', 'Tuesday': '16:0-0:0', ...</td>\n",
       "      <td>True</td>\n",
       "    </tr>\n",
       "    <tr>\n",
       "      <th>4</th>\n",
       "      <td>Mjboz24M9NlBeiOJKLEd_Q</td>\n",
       "      <td>DeSandro on Main</td>\n",
       "      <td>4105 Main St</td>\n",
       "      <td>Philadelphia</td>\n",
       "      <td>PA</td>\n",
       "      <td>19127</td>\n",
       "      <td>40.022466</td>\n",
       "      <td>-75.218314</td>\n",
       "      <td>3.0</td>\n",
       "      <td>41</td>\n",
       "      <td>0</td>\n",
       "      <td>{'RestaurantsReservations': 'False', 'Caters':...</td>\n",
       "      <td>Pizza, Restaurants, Salad, Soup</td>\n",
       "      <td>{'Tuesday': '17:0-21:30', 'Wednesday': '17:0-1...</td>\n",
       "      <td>True</td>\n",
       "    </tr>\n",
       "  </tbody>\n",
       "</table>\n",
       "</div>"
      ],
      "text/plain": [
       "              business_id                name        address          city  \\\n",
       "0  MTSW4McQd7CbVtyjqoe9mw  St Honore Pastries    935 Race St  Philadelphia   \n",
       "1  MUTTqe8uqyMdBl186RmNeA            Tuna Bar    205 Race St  Philadelphia   \n",
       "2  ROeacJQwBeh05Rqg7F6TCg                 BAP  1224 South St  Philadelphia   \n",
       "3  QdN72BWoyFypdGJhhI5r7g             Bar One   767 S 9th St  Philadelphia   \n",
       "4  Mjboz24M9NlBeiOJKLEd_Q    DeSandro on Main   4105 Main St  Philadelphia   \n",
       "\n",
       "  state postal_code   latitude  longitude  stars  review_count  is_open  \\\n",
       "0    PA       19107  39.955505 -75.155564    4.0            80        1   \n",
       "1    PA       19106  39.953949 -75.143226    4.0           245        1   \n",
       "2    PA       19147  39.943223 -75.162568    4.5           205        1   \n",
       "3    PA       19147  39.939825 -75.157447    4.0            65        0   \n",
       "4    PA       19127  40.022466 -75.218314    3.0            41        0   \n",
       "\n",
       "                                          attributes  \\\n",
       "0  {'RestaurantsDelivery': 'False', 'OutdoorSeati...   \n",
       "1  {'RestaurantsReservations': 'True', 'Restauran...   \n",
       "2  {'NoiseLevel': 'u'quiet'', 'GoodForMeal': '{'d...   \n",
       "3  {'Smoking': 'u'no'', 'NoiseLevel': 'u'average'...   \n",
       "4  {'RestaurantsReservations': 'False', 'Caters':...   \n",
       "\n",
       "                                          categories  \\\n",
       "0  Restaurants, Food, Bubble Tea, Coffee & Tea, B...   \n",
       "1                  Sushi Bars, Restaurants, Japanese   \n",
       "2                                Korean, Restaurants   \n",
       "3  Cocktail Bars, Bars, Italian, Nightlife, Resta...   \n",
       "4                    Pizza, Restaurants, Salad, Soup   \n",
       "\n",
       "                                               hours  has_restaurant  \n",
       "0  {'Monday': '7:0-20:0', 'Tuesday': '7:0-20:0', ...            True  \n",
       "1  {'Tuesday': '13:30-22:0', 'Wednesday': '13:30-...            True  \n",
       "2  {'Monday': '11:30-20:30', 'Tuesday': '11:30-20...            True  \n",
       "3  {'Monday': '16:0-0:0', 'Tuesday': '16:0-0:0', ...            True  \n",
       "4  {'Tuesday': '17:0-21:30', 'Wednesday': '17:0-1...            True  "
      ]
     },
     "execution_count": 80,
     "metadata": {},
     "output_type": "execute_result"
    }
   ],
   "source": [
    "# preview\n",
    "df_business_philly_rest.head()"
   ]
  },
  {
   "attachments": {},
   "cell_type": "markdown",
   "metadata": {},
   "source": [
    "Ok, now we have all the rows with that have `Restuarants` in the `categories` column.<br>\n",
    "Let's filter the other datasets by the `business_id` column."
   ]
  },
  {
   "attachments": {},
   "cell_type": "markdown",
   "metadata": {},
   "source": [
    "## Reviews\n",
    "Let's take a look at the reviews dataset."
   ]
  },
  {
   "cell_type": "code",
   "execution_count": 92,
   "metadata": {},
   "outputs": [
    {
     "name": "stdout",
     "output_type": "stream",
     "text": [
      "<class 'pandas.core.frame.DataFrame'>\n",
      "RangeIndex: 6990280 entries, 0 to 6990279\n",
      "Data columns (total 9 columns):\n",
      " #   Column       Dtype         \n",
      "---  ------       -----         \n",
      " 0   review_id    object        \n",
      " 1   user_id      object        \n",
      " 2   business_id  object        \n",
      " 3   stars        int64         \n",
      " 4   useful       int64         \n",
      " 5   funny        int64         \n",
      " 6   cool         int64         \n",
      " 7   text         object        \n",
      " 8   date         datetime64[ns]\n",
      "dtypes: datetime64[ns](1), int64(4), object(4)\n",
      "memory usage: 480.0+ MB\n"
     ]
    }
   ],
   "source": [
    "df_reviews.info()"
   ]
  },
  {
   "cell_type": "code",
   "execution_count": 82,
   "metadata": {},
   "outputs": [
    {
     "data": {
      "text/plain": [
       "Index(['review_id', 'user_id', 'business_id', 'stars', 'useful', 'funny',\n",
       "       'cool', 'text', 'date'],\n",
       "      dtype='object')"
      ]
     },
     "execution_count": 82,
     "metadata": {},
     "output_type": "execute_result"
    }
   ],
   "source": [
    "# columns\n",
    "df_reviews.columns"
   ]
  },
  {
   "attachments": {},
   "cell_type": "markdown",
   "metadata": {},
   "source": [
    "Ok, there is a `business_id` column, we need to filter all the rows in `df_reviews` by the business id from `df_business_philly_rest`"
   ]
  },
  {
   "cell_type": "code",
   "execution_count": 85,
   "metadata": {},
   "outputs": [],
   "source": [
    "# merge df and create indicator column\n",
    "merged_df = df_business_philly_rest.merge(df_reviews, on='business_id', \n",
    "                                          how='left', indicator=True)\n"
   ]
  },
  {
   "attachments": {},
   "cell_type": "markdown",
   "metadata": {},
   "source": [
    "Filter by columns in `df_review`."
   ]
  },
  {
   "cell_type": "code",
   "execution_count": 99,
   "metadata": {},
   "outputs": [],
   "source": [
    "df_reviews_philly_rest=merged_df[merged_df.columns[merged_df.columns.isin(df_reviews.columns)]]"
   ]
  },
  {
   "cell_type": "code",
   "execution_count": 107,
   "metadata": {},
   "outputs": [
    {
     "name": "stdout",
     "output_type": "stream",
     "text": [
      "<class 'pandas.core.frame.DataFrame'>\n",
      "Int64Index: 687289 entries, 0 to 687288\n",
      "Data columns (total 8 columns):\n",
      " #   Column       Non-Null Count   Dtype         \n",
      "---  ------       --------------   -----         \n",
      " 0   business_id  687289 non-null  object        \n",
      " 1   review_id    687289 non-null  object        \n",
      " 2   user_id      687289 non-null  object        \n",
      " 3   useful       687289 non-null  int64         \n",
      " 4   funny        687289 non-null  int64         \n",
      " 5   cool         687289 non-null  int64         \n",
      " 6   text         687289 non-null  object        \n",
      " 7   date         687289 non-null  datetime64[ns]\n",
      "dtypes: datetime64[ns](1), int64(3), object(4)\n",
      "memory usage: 47.2+ MB\n"
     ]
    }
   ],
   "source": [
    "df_reviews_philly_rest.info()"
   ]
  },
  {
   "cell_type": "code",
   "execution_count": 100,
   "metadata": {},
   "outputs": [
    {
     "data": {
      "text/html": [
       "<div>\n",
       "<style scoped>\n",
       "    .dataframe tbody tr th:only-of-type {\n",
       "        vertical-align: middle;\n",
       "    }\n",
       "\n",
       "    .dataframe tbody tr th {\n",
       "        vertical-align: top;\n",
       "    }\n",
       "\n",
       "    .dataframe thead th {\n",
       "        text-align: right;\n",
       "    }\n",
       "</style>\n",
       "<table border=\"1\" class=\"dataframe\">\n",
       "  <thead>\n",
       "    <tr style=\"text-align: right;\">\n",
       "      <th></th>\n",
       "      <th>business_id</th>\n",
       "      <th>review_id</th>\n",
       "      <th>user_id</th>\n",
       "      <th>useful</th>\n",
       "      <th>funny</th>\n",
       "      <th>cool</th>\n",
       "      <th>text</th>\n",
       "      <th>date</th>\n",
       "    </tr>\n",
       "  </thead>\n",
       "  <tbody>\n",
       "    <tr>\n",
       "      <th>0</th>\n",
       "      <td>MTSW4McQd7CbVtyjqoe9mw</td>\n",
       "      <td>BXQcBN0iAi1lAUxibGLFzA</td>\n",
       "      <td>6_SpY41LIHZuIaiDs5FMKA</td>\n",
       "      <td>0</td>\n",
       "      <td>0</td>\n",
       "      <td>1</td>\n",
       "      <td>This is nice little Chinese bakery in the hear...</td>\n",
       "      <td>2014-05-26 01:09:53</td>\n",
       "    </tr>\n",
       "    <tr>\n",
       "      <th>1</th>\n",
       "      <td>MTSW4McQd7CbVtyjqoe9mw</td>\n",
       "      <td>uduvUCvi9w3T2bSGivCfXg</td>\n",
       "      <td>tCXElwhzekJEH6QJe3xs7Q</td>\n",
       "      <td>3</td>\n",
       "      <td>1</td>\n",
       "      <td>2</td>\n",
       "      <td>This is the bakery I usually go to in Chinatow...</td>\n",
       "      <td>2013-10-05 15:19:06</td>\n",
       "    </tr>\n",
       "    <tr>\n",
       "      <th>2</th>\n",
       "      <td>MTSW4McQd7CbVtyjqoe9mw</td>\n",
       "      <td>a0vwPOqDXXZuJkbBW2356g</td>\n",
       "      <td>WqfKtI-aGMmvbA9pPUxNQQ</td>\n",
       "      <td>0</td>\n",
       "      <td>0</td>\n",
       "      <td>0</td>\n",
       "      <td>A delightful find in Chinatown! Very clean, an...</td>\n",
       "      <td>2013-10-25 01:34:57</td>\n",
       "    </tr>\n",
       "    <tr>\n",
       "      <th>3</th>\n",
       "      <td>MTSW4McQd7CbVtyjqoe9mw</td>\n",
       "      <td>MKNp_CdR2k2202-c8GN5Dw</td>\n",
       "      <td>3-1va0IQfK-9tUMzfHWfTA</td>\n",
       "      <td>5</td>\n",
       "      <td>0</td>\n",
       "      <td>5</td>\n",
       "      <td>I ordered a graduation cake for my niece and i...</td>\n",
       "      <td>2018-05-20 17:58:57</td>\n",
       "    </tr>\n",
       "    <tr>\n",
       "      <th>4</th>\n",
       "      <td>MTSW4McQd7CbVtyjqoe9mw</td>\n",
       "      <td>D1GisLDPe84Rrk_R4X2brQ</td>\n",
       "      <td>EouCKoDfzaVG0klEgdDvCQ</td>\n",
       "      <td>2</td>\n",
       "      <td>1</td>\n",
       "      <td>1</td>\n",
       "      <td>HK-STYLE MILK TEA:  FOUR STARS\\n\\nNot quite su...</td>\n",
       "      <td>2013-10-25 02:31:35</td>\n",
       "    </tr>\n",
       "  </tbody>\n",
       "</table>\n",
       "</div>"
      ],
      "text/plain": [
       "              business_id               review_id                 user_id  \\\n",
       "0  MTSW4McQd7CbVtyjqoe9mw  BXQcBN0iAi1lAUxibGLFzA  6_SpY41LIHZuIaiDs5FMKA   \n",
       "1  MTSW4McQd7CbVtyjqoe9mw  uduvUCvi9w3T2bSGivCfXg  tCXElwhzekJEH6QJe3xs7Q   \n",
       "2  MTSW4McQd7CbVtyjqoe9mw  a0vwPOqDXXZuJkbBW2356g  WqfKtI-aGMmvbA9pPUxNQQ   \n",
       "3  MTSW4McQd7CbVtyjqoe9mw  MKNp_CdR2k2202-c8GN5Dw  3-1va0IQfK-9tUMzfHWfTA   \n",
       "4  MTSW4McQd7CbVtyjqoe9mw  D1GisLDPe84Rrk_R4X2brQ  EouCKoDfzaVG0klEgdDvCQ   \n",
       "\n",
       "   useful  funny  cool                                               text  \\\n",
       "0       0      0     1  This is nice little Chinese bakery in the hear...   \n",
       "1       3      1     2  This is the bakery I usually go to in Chinatow...   \n",
       "2       0      0     0  A delightful find in Chinatown! Very clean, an...   \n",
       "3       5      0     5  I ordered a graduation cake for my niece and i...   \n",
       "4       2      1     1  HK-STYLE MILK TEA:  FOUR STARS\\n\\nNot quite su...   \n",
       "\n",
       "                 date  \n",
       "0 2014-05-26 01:09:53  \n",
       "1 2013-10-05 15:19:06  \n",
       "2 2013-10-25 01:34:57  \n",
       "3 2018-05-20 17:58:57  \n",
       "4 2013-10-25 02:31:35  "
      ]
     },
     "execution_count": 100,
     "metadata": {},
     "output_type": "execute_result"
    }
   ],
   "source": [
    "df_reviews_philly_rest.head()"
   ]
  },
  {
   "attachments": {},
   "cell_type": "markdown",
   "metadata": {},
   "source": [
    "## Users\n",
    "Let's look at the users dataset"
   ]
  },
  {
   "cell_type": "code",
   "execution_count": 101,
   "metadata": {},
   "outputs": [
    {
     "name": "stdout",
     "output_type": "stream",
     "text": [
      "<class 'pandas.core.frame.DataFrame'>\n",
      "RangeIndex: 1987897 entries, 0 to 1987896\n",
      "Data columns (total 22 columns):\n",
      " #   Column              Dtype  \n",
      "---  ------              -----  \n",
      " 0   user_id             object \n",
      " 1   name                object \n",
      " 2   review_count        int64  \n",
      " 3   yelping_since       object \n",
      " 4   useful              int64  \n",
      " 5   funny               int64  \n",
      " 6   cool                int64  \n",
      " 7   elite               object \n",
      " 8   friends             object \n",
      " 9   fans                int64  \n",
      " 10  average_stars       float64\n",
      " 11  compliment_hot      int64  \n",
      " 12  compliment_more     int64  \n",
      " 13  compliment_profile  int64  \n",
      " 14  compliment_cute     int64  \n",
      " 15  compliment_list     int64  \n",
      " 16  compliment_note     int64  \n",
      " 17  compliment_plain    int64  \n",
      " 18  compliment_cool     int64  \n",
      " 19  compliment_funny    int64  \n",
      " 20  compliment_writer   int64  \n",
      " 21  compliment_photos   int64  \n",
      "dtypes: float64(1), int64(16), object(5)\n",
      "memory usage: 333.7+ MB\n"
     ]
    }
   ],
   "source": [
    "df_user.info()"
   ]
  },
  {
   "attachments": {},
   "cell_type": "markdown",
   "metadata": {},
   "source": [
    "Let's look at the columns."
   ]
  },
  {
   "cell_type": "code",
   "execution_count": 83,
   "metadata": {},
   "outputs": [
    {
     "data": {
      "text/plain": [
       "Index(['user_id', 'name', 'review_count', 'yelping_since', 'useful', 'funny',\n",
       "       'cool', 'elite', 'friends', 'fans', 'average_stars', 'compliment_hot',\n",
       "       'compliment_more', 'compliment_profile', 'compliment_cute',\n",
       "       'compliment_list', 'compliment_note', 'compliment_plain',\n",
       "       'compliment_cool', 'compliment_funny', 'compliment_writer',\n",
       "       'compliment_photos'],\n",
       "      dtype='object')"
      ]
     },
     "execution_count": 83,
     "metadata": {},
     "output_type": "execute_result"
    }
   ],
   "source": [
    "df_user.columns"
   ]
  },
  {
   "attachments": {},
   "cell_type": "markdown",
   "metadata": {},
   "source": [
    "Ok, we can filer on `user_id`, which won't necessarly give us ONLY reviews for restaurants in Phildelphia, but could give us additional info on the users."
   ]
  },
  {
   "cell_type": "code",
   "execution_count": 103,
   "metadata": {},
   "outputs": [],
   "source": [
    "# merge df and create indicator column\n",
    "merged_df2 = df_reviews_philly_rest.merge(df_user, on='user_id', \n",
    "                                          how='left', indicator=True)"
   ]
  },
  {
   "cell_type": "code",
   "execution_count": 104,
   "metadata": {},
   "outputs": [],
   "source": [
    "df_user_filtered=merged_df2[merged_df2.columns[merged_df2.columns.isin(df_user.columns)]]"
   ]
  },
  {
   "cell_type": "code",
   "execution_count": 105,
   "metadata": {},
   "outputs": [
    {
     "data": {
      "text/html": [
       "<div>\n",
       "<style scoped>\n",
       "    .dataframe tbody tr th:only-of-type {\n",
       "        vertical-align: middle;\n",
       "    }\n",
       "\n",
       "    .dataframe tbody tr th {\n",
       "        vertical-align: top;\n",
       "    }\n",
       "\n",
       "    .dataframe thead th {\n",
       "        text-align: right;\n",
       "    }\n",
       "</style>\n",
       "<table border=\"1\" class=\"dataframe\">\n",
       "  <thead>\n",
       "    <tr style=\"text-align: right;\">\n",
       "      <th></th>\n",
       "      <th>user_id</th>\n",
       "      <th>name</th>\n",
       "      <th>review_count</th>\n",
       "      <th>yelping_since</th>\n",
       "      <th>elite</th>\n",
       "      <th>friends</th>\n",
       "      <th>fans</th>\n",
       "      <th>average_stars</th>\n",
       "      <th>compliment_hot</th>\n",
       "      <th>compliment_more</th>\n",
       "      <th>compliment_profile</th>\n",
       "      <th>compliment_cute</th>\n",
       "      <th>compliment_list</th>\n",
       "      <th>compliment_note</th>\n",
       "      <th>compliment_plain</th>\n",
       "      <th>compliment_cool</th>\n",
       "      <th>compliment_funny</th>\n",
       "      <th>compliment_writer</th>\n",
       "      <th>compliment_photos</th>\n",
       "    </tr>\n",
       "  </thead>\n",
       "  <tbody>\n",
       "    <tr>\n",
       "      <th>0</th>\n",
       "      <td>6_SpY41LIHZuIaiDs5FMKA</td>\n",
       "      <td>K</td>\n",
       "      <td>38</td>\n",
       "      <td>2009-12-29 09:27:50</td>\n",
       "      <td></td>\n",
       "      <td>w-BH_CEsxR1h7VBbtrxFIA</td>\n",
       "      <td>1</td>\n",
       "      <td>3.08</td>\n",
       "      <td>0</td>\n",
       "      <td>0</td>\n",
       "      <td>0</td>\n",
       "      <td>0</td>\n",
       "      <td>0</td>\n",
       "      <td>0</td>\n",
       "      <td>0</td>\n",
       "      <td>0</td>\n",
       "      <td>0</td>\n",
       "      <td>1</td>\n",
       "      <td>0</td>\n",
       "    </tr>\n",
       "    <tr>\n",
       "      <th>1</th>\n",
       "      <td>tCXElwhzekJEH6QJe3xs7Q</td>\n",
       "      <td>Rob</td>\n",
       "      <td>163</td>\n",
       "      <td>2008-04-09 02:40:37</td>\n",
       "      <td>2008,2009,2013,2014</td>\n",
       "      <td>VAAIsM7fz68gZhvHHyu1Aw, BqBQGyo_kG7yRRrMkpl5rg...</td>\n",
       "      <td>23</td>\n",
       "      <td>3.60</td>\n",
       "      <td>15</td>\n",
       "      <td>5</td>\n",
       "      <td>6</td>\n",
       "      <td>1</td>\n",
       "      <td>0</td>\n",
       "      <td>11</td>\n",
       "      <td>28</td>\n",
       "      <td>46</td>\n",
       "      <td>46</td>\n",
       "      <td>26</td>\n",
       "      <td>20</td>\n",
       "    </tr>\n",
       "    <tr>\n",
       "      <th>2</th>\n",
       "      <td>WqfKtI-aGMmvbA9pPUxNQQ</td>\n",
       "      <td>Kassi</td>\n",
       "      <td>278</td>\n",
       "      <td>2013-03-27 05:46:52</td>\n",
       "      <td></td>\n",
       "      <td>7AAFD2TbTe5rqaFpG_WhTw, Txa_sNMUSHfNzHwaV034fQ...</td>\n",
       "      <td>6</td>\n",
       "      <td>3.72</td>\n",
       "      <td>0</td>\n",
       "      <td>1</td>\n",
       "      <td>0</td>\n",
       "      <td>0</td>\n",
       "      <td>0</td>\n",
       "      <td>3</td>\n",
       "      <td>8</td>\n",
       "      <td>2</td>\n",
       "      <td>2</td>\n",
       "      <td>5</td>\n",
       "      <td>0</td>\n",
       "    </tr>\n",
       "    <tr>\n",
       "      <th>3</th>\n",
       "      <td>3-1va0IQfK-9tUMzfHWfTA</td>\n",
       "      <td>Katherine</td>\n",
       "      <td>28</td>\n",
       "      <td>2011-12-26 17:28:28</td>\n",
       "      <td></td>\n",
       "      <td>lYWmSipq8RFhl_mjr_B_8g, tJWiWoh13ex8x3eblsns6A...</td>\n",
       "      <td>1</td>\n",
       "      <td>3.47</td>\n",
       "      <td>0</td>\n",
       "      <td>0</td>\n",
       "      <td>0</td>\n",
       "      <td>0</td>\n",
       "      <td>0</td>\n",
       "      <td>0</td>\n",
       "      <td>0</td>\n",
       "      <td>0</td>\n",
       "      <td>0</td>\n",
       "      <td>0</td>\n",
       "      <td>0</td>\n",
       "    </tr>\n",
       "    <tr>\n",
       "      <th>4</th>\n",
       "      <td>EouCKoDfzaVG0klEgdDvCQ</td>\n",
       "      <td>Linda</td>\n",
       "      <td>164</td>\n",
       "      <td>2011-08-31 21:39:28</td>\n",
       "      <td>2012,2013,2014,2015</td>\n",
       "      <td>TxaGyXjxNYxtDr1PJFmwtA, 2cMLyjyiz97TkTVSRQ0Tlg...</td>\n",
       "      <td>24</td>\n",
       "      <td>3.78</td>\n",
       "      <td>17</td>\n",
       "      <td>3</td>\n",
       "      <td>0</td>\n",
       "      <td>1</td>\n",
       "      <td>4</td>\n",
       "      <td>24</td>\n",
       "      <td>51</td>\n",
       "      <td>35</td>\n",
       "      <td>35</td>\n",
       "      <td>13</td>\n",
       "      <td>5</td>\n",
       "    </tr>\n",
       "  </tbody>\n",
       "</table>\n",
       "</div>"
      ],
      "text/plain": [
       "                  user_id       name  review_count        yelping_since  \\\n",
       "0  6_SpY41LIHZuIaiDs5FMKA          K            38  2009-12-29 09:27:50   \n",
       "1  tCXElwhzekJEH6QJe3xs7Q        Rob           163  2008-04-09 02:40:37   \n",
       "2  WqfKtI-aGMmvbA9pPUxNQQ      Kassi           278  2013-03-27 05:46:52   \n",
       "3  3-1va0IQfK-9tUMzfHWfTA  Katherine            28  2011-12-26 17:28:28   \n",
       "4  EouCKoDfzaVG0klEgdDvCQ      Linda           164  2011-08-31 21:39:28   \n",
       "\n",
       "                 elite                                            friends  \\\n",
       "0                                                  w-BH_CEsxR1h7VBbtrxFIA   \n",
       "1  2008,2009,2013,2014  VAAIsM7fz68gZhvHHyu1Aw, BqBQGyo_kG7yRRrMkpl5rg...   \n",
       "2                       7AAFD2TbTe5rqaFpG_WhTw, Txa_sNMUSHfNzHwaV034fQ...   \n",
       "3                       lYWmSipq8RFhl_mjr_B_8g, tJWiWoh13ex8x3eblsns6A...   \n",
       "4  2012,2013,2014,2015  TxaGyXjxNYxtDr1PJFmwtA, 2cMLyjyiz97TkTVSRQ0Tlg...   \n",
       "\n",
       "   fans  average_stars  compliment_hot  compliment_more  compliment_profile  \\\n",
       "0     1           3.08               0                0                   0   \n",
       "1    23           3.60              15                5                   6   \n",
       "2     6           3.72               0                1                   0   \n",
       "3     1           3.47               0                0                   0   \n",
       "4    24           3.78              17                3                   0   \n",
       "\n",
       "   compliment_cute  compliment_list  compliment_note  compliment_plain  \\\n",
       "0                0                0                0                 0   \n",
       "1                1                0               11                28   \n",
       "2                0                0                3                 8   \n",
       "3                0                0                0                 0   \n",
       "4                1                4               24                51   \n",
       "\n",
       "   compliment_cool  compliment_funny  compliment_writer  compliment_photos  \n",
       "0                0                 0                  1                  0  \n",
       "1               46                46                 26                 20  \n",
       "2                2                 2                  5                  0  \n",
       "3                0                 0                  0                  0  \n",
       "4               35                35                 13                  5  "
      ]
     },
     "execution_count": 105,
     "metadata": {},
     "output_type": "execute_result"
    }
   ],
   "source": [
    "df_user_filtered.head()"
   ]
  },
  {
   "cell_type": "code",
   "execution_count": 108,
   "metadata": {},
   "outputs": [
    {
     "name": "stdout",
     "output_type": "stream",
     "text": [
      "<class 'pandas.core.frame.DataFrame'>\n",
      "Int64Index: 687289 entries, 0 to 687288\n",
      "Data columns (total 19 columns):\n",
      " #   Column              Non-Null Count   Dtype  \n",
      "---  ------              --------------   -----  \n",
      " 0   user_id             687289 non-null  object \n",
      " 1   name                687289 non-null  object \n",
      " 2   review_count        687289 non-null  int64  \n",
      " 3   yelping_since       687289 non-null  object \n",
      " 4   elite               687289 non-null  object \n",
      " 5   friends             687289 non-null  object \n",
      " 6   fans                687289 non-null  int64  \n",
      " 7   average_stars       687289 non-null  float64\n",
      " 8   compliment_hot      687289 non-null  int64  \n",
      " 9   compliment_more     687289 non-null  int64  \n",
      " 10  compliment_profile  687289 non-null  int64  \n",
      " 11  compliment_cute     687289 non-null  int64  \n",
      " 12  compliment_list     687289 non-null  int64  \n",
      " 13  compliment_note     687289 non-null  int64  \n",
      " 14  compliment_plain    687289 non-null  int64  \n",
      " 15  compliment_cool     687289 non-null  int64  \n",
      " 16  compliment_funny    687289 non-null  int64  \n",
      " 17  compliment_writer   687289 non-null  int64  \n",
      " 18  compliment_photos   687289 non-null  int64  \n",
      "dtypes: float64(1), int64(13), object(5)\n",
      "memory usage: 104.9+ MB\n"
     ]
    }
   ],
   "source": [
    "df_user_filtered.info()"
   ]
  },
  {
   "attachments": {},
   "cell_type": "markdown",
   "metadata": {},
   "source": [
    "## Pickle results\n",
    "Ok, now that we have manageable filtered dataset:\n",
    "- Philadelphia restaurant businesses\n",
    "- Reviews of those restaurants\n",
    "- Profiles of those reviewers\n",
    "\n",
    "We can pickle the df and analyze further in another notebook."
   ]
  },
  {
   "cell_type": "code",
   "execution_count": 109,
   "metadata": {},
   "outputs": [],
   "source": [
    "# pickle df\n",
    "df_business_philly_rest.to_pickle(\"./data/df_business_philly_rest.pkl\")\n",
    "df_reviews_philly_rest.to_pickle(\"./data/df_revews_philly_rest.pkl\")\n",
    "df_user_filtered.to_pickle(\"./data/df_user_filtered.pkl\")"
   ]
  }
 ],
 "metadata": {
  "kernelspec": {
   "display_name": "cuny620",
   "language": "python",
   "name": "python3"
  },
  "language_info": {
   "codemirror_mode": {
    "name": "ipython",
    "version": 3
   },
   "file_extension": ".py",
   "mimetype": "text/x-python",
   "name": "python",
   "nbconvert_exporter": "python",
   "pygments_lexer": "ipython3",
   "version": "3.11.3"
  },
  "orig_nbformat": 4
 },
 "nbformat": 4,
 "nbformat_minor": 2
}
