{
 "cells": [
  {
   "attachments": {},
   "cell_type": "markdown",
   "metadata": {},
   "source": [
    "# Yelp dataset Exploration\n",
    "This notebook will explore the previously downloaded **Yelp** dataset available [here](https://www.yelp.com/dataset).<br>\n",
    "The idea is to find a subset of the dataset that will work for analysis, than save that dataset as a separate set that is easily workable within the jupyter notebook environment."
   ]
  },
  {
   "cell_type": "code",
   "execution_count": 43,
   "metadata": {},
   "outputs": [],
   "source": [
    "# import packages\n",
    "import pandas as pd\n",
    "import numpy as np\n",
    "import os\n",
    "import re\n",
    "import gzip\n",
    "\n",
    "# visualizations\n",
    "import matplotlib.pyplot as plt\n",
    "import seaborn as sns\n",
    "\n",
    "# surpress warnings\n",
    "import warnings\n",
    "warnings.filterwarnings('ignore')"
   ]
  },
  {
   "cell_type": "code",
   "execution_count": 13,
   "metadata": {},
   "outputs": [],
   "source": [
    "# set general data path\n",
    "data_path=\"/Users/justinwilliams/Dropbox/data620/yelp_dataset\""
   ]
  },
  {
   "cell_type": "code",
   "execution_count": 14,
   "metadata": {},
   "outputs": [],
   "source": [
    "# set data paths\n",
    "data_business_path=os.path.join(data_path,'yelp_academic_dataset_business.json')\n",
    "data_reviews_path=os.path.join(data_path,\"yelp_academic_dataset_review.json\")\n",
    "data_user_path=os.path.join(data_path,\"yelp_academic_dataset_user.json\")"
   ]
  },
  {
   "cell_type": "code",
   "execution_count": 15,
   "metadata": {},
   "outputs": [],
   "source": [
    "# import into pandas\n",
    "df_business=pd.read_json(data_business_path, lines=True)\n",
    "df_reviews=pd.read_json(data_reviews_path,lines=True)\n",
    "df_user=pd.read_json(data_user_path,lines=True)"
   ]
  },
  {
   "attachments": {},
   "cell_type": "markdown",
   "metadata": {},
   "source": [
    "## Businesses\n",
    "Let's first look at the `business` dataset to filter by `city`, `state` and `category`."
   ]
  },
  {
   "cell_type": "code",
   "execution_count": 16,
   "metadata": {},
   "outputs": [
    {
     "data": {
      "text/plain": [
       "Index(['business_id', 'name', 'address', 'city', 'state', 'postal_code',\n",
       "       'latitude', 'longitude', 'stars', 'review_count', 'is_open',\n",
       "       'attributes', 'categories', 'hours'],\n",
       "      dtype='object')"
      ]
     },
     "execution_count": 16,
     "metadata": {},
     "output_type": "execute_result"
    }
   ],
   "source": [
    "# column list\n",
    "df_business.columns"
   ]
  },
  {
   "cell_type": "code",
   "execution_count": 17,
   "metadata": {},
   "outputs": [
    {
     "data": {
      "text/plain": [
       "PA     34039\n",
       "FL     26330\n",
       "TN     12056\n",
       "IN     11247\n",
       "MO     10913\n",
       "LA      9924\n",
       "AZ      9912\n",
       "NJ      8536\n",
       "NV      7715\n",
       "AB      5573\n",
       "CA      5203\n",
       "ID      4467\n",
       "DE      2265\n",
       "IL      2145\n",
       "TX         4\n",
       "CO         3\n",
       "WA         2\n",
       "HI         2\n",
       "MA         2\n",
       "NC         1\n",
       "UT         1\n",
       "MT         1\n",
       "MI         1\n",
       "SD         1\n",
       "XMS        1\n",
       "VI         1\n",
       "VT         1\n",
       "Name: state, dtype: int64"
      ]
     },
     "execution_count": 17,
     "metadata": {},
     "output_type": "execute_result"
    }
   ],
   "source": [
    "# what states are in dataset\n",
    "df_business['state'].value_counts()"
   ]
  },
  {
   "attachments": {},
   "cell_type": "markdown",
   "metadata": {},
   "source": [
    "Let's look at `Philadelphia,PA`."
   ]
  },
  {
   "cell_type": "code",
   "execution_count": 18,
   "metadata": {},
   "outputs": [],
   "source": [
    "# filter for philly\n",
    "df_business_philly=df_business[(df_business['state'] == 'PA') & \\\n",
    "                               (df_business['city'] == 'Philadelphia')]"
   ]
  },
  {
   "attachments": {},
   "cell_type": "markdown",
   "metadata": {},
   "source": [
    "Let's look at categories within Philadelphia."
   ]
  },
  {
   "cell_type": "code",
   "execution_count": 19,
   "metadata": {},
   "outputs": [
    {
     "data": {
      "text/plain": [
       "Restaurants, Pizza                                                                                                          154\n",
       "Pizza, Restaurants                                                                                                          124\n",
       "Restaurants, Chinese                                                                                                         89\n",
       "Nail Salons, Beauty & Spas                                                                                                   86\n",
       "Chinese, Restaurants                                                                                                         84\n",
       "                                                                                                                           ... \n",
       "Food, Japanese, Bubble Tea, Poke, Sushi Bars, Ramen, Restaurants                                                              1\n",
       "Food, Sandwiches, Fast Food, Restaurants, Diners, Seafood, Street Vendors                                                     1\n",
       "Restaurants, Italian, Chicken Wings, Pizza                                                                                    1\n",
       "Hair Stylists, Hair Salons, Barbers, Beauty & Spas                                                                            1\n",
       "Health & Medical, Yoga, Shopping, Naturopathic/Holistic, Active Life, Meditation Centers, Doctors, Fitness & Instruction      1\n",
       "Name: categories, Length: 10233, dtype: int64"
      ]
     },
     "execution_count": 19,
     "metadata": {},
     "output_type": "execute_result"
    }
   ],
   "source": [
    "df_business_philly['categories'].value_counts()"
   ]
  },
  {
   "attachments": {},
   "cell_type": "markdown",
   "metadata": {},
   "source": [
    "Looks like `Restaurants, Pizza` is the highest, followed by `Pizza, Restaurant`.<br>\n",
    "Let's use some regex to get anything that has `Restaurants` in the `categories` column."
   ]
  },
  {
   "cell_type": "code",
   "execution_count": 20,
   "metadata": {},
   "outputs": [],
   "source": [
    "# custom function\n",
    "def has_restaurant(string):\n",
    "    \"\"\"\n",
    "    Returns bool if match\n",
    "    \"\"\"\n",
    "    if string and re.match('.*Restaurants.*', string):\n",
    "        return True\n",
    "    else:\n",
    "        return False\n",
    "    \n",
    "# apply function to categories, create bool col\n",
    "df_business_philly['has_restaurant'] = df_business_philly['categories'].apply(has_restaurant)\n",
    "\n",
    "# filter\n",
    "df_business_philly_rest=df_business_philly.loc[df_business_philly['has_restaurant']]\\\n",
    "    .reset_index(drop=True)\n"
   ]
  },
  {
   "cell_type": "code",
   "execution_count": 21,
   "metadata": {},
   "outputs": [
    {
     "data": {
      "text/html": [
       "<div>\n",
       "<style scoped>\n",
       "    .dataframe tbody tr th:only-of-type {\n",
       "        vertical-align: middle;\n",
       "    }\n",
       "\n",
       "    .dataframe tbody tr th {\n",
       "        vertical-align: top;\n",
       "    }\n",
       "\n",
       "    .dataframe thead th {\n",
       "        text-align: right;\n",
       "    }\n",
       "</style>\n",
       "<table border=\"1\" class=\"dataframe\">\n",
       "  <thead>\n",
       "    <tr style=\"text-align: right;\">\n",
       "      <th></th>\n",
       "      <th>business_id</th>\n",
       "      <th>name</th>\n",
       "      <th>address</th>\n",
       "      <th>city</th>\n",
       "      <th>state</th>\n",
       "      <th>postal_code</th>\n",
       "      <th>latitude</th>\n",
       "      <th>longitude</th>\n",
       "      <th>stars</th>\n",
       "      <th>review_count</th>\n",
       "      <th>is_open</th>\n",
       "      <th>attributes</th>\n",
       "      <th>categories</th>\n",
       "      <th>hours</th>\n",
       "      <th>has_restaurant</th>\n",
       "    </tr>\n",
       "  </thead>\n",
       "  <tbody>\n",
       "    <tr>\n",
       "      <th>0</th>\n",
       "      <td>MTSW4McQd7CbVtyjqoe9mw</td>\n",
       "      <td>St Honore Pastries</td>\n",
       "      <td>935 Race St</td>\n",
       "      <td>Philadelphia</td>\n",
       "      <td>PA</td>\n",
       "      <td>19107</td>\n",
       "      <td>39.955505</td>\n",
       "      <td>-75.155564</td>\n",
       "      <td>4.0</td>\n",
       "      <td>80</td>\n",
       "      <td>1</td>\n",
       "      <td>{'RestaurantsDelivery': 'False', 'OutdoorSeati...</td>\n",
       "      <td>Restaurants, Food, Bubble Tea, Coffee &amp; Tea, B...</td>\n",
       "      <td>{'Monday': '7:0-20:0', 'Tuesday': '7:0-20:0', ...</td>\n",
       "      <td>True</td>\n",
       "    </tr>\n",
       "    <tr>\n",
       "      <th>1</th>\n",
       "      <td>MUTTqe8uqyMdBl186RmNeA</td>\n",
       "      <td>Tuna Bar</td>\n",
       "      <td>205 Race St</td>\n",
       "      <td>Philadelphia</td>\n",
       "      <td>PA</td>\n",
       "      <td>19106</td>\n",
       "      <td>39.953949</td>\n",
       "      <td>-75.143226</td>\n",
       "      <td>4.0</td>\n",
       "      <td>245</td>\n",
       "      <td>1</td>\n",
       "      <td>{'RestaurantsReservations': 'True', 'Restauran...</td>\n",
       "      <td>Sushi Bars, Restaurants, Japanese</td>\n",
       "      <td>{'Tuesday': '13:30-22:0', 'Wednesday': '13:30-...</td>\n",
       "      <td>True</td>\n",
       "    </tr>\n",
       "    <tr>\n",
       "      <th>2</th>\n",
       "      <td>ROeacJQwBeh05Rqg7F6TCg</td>\n",
       "      <td>BAP</td>\n",
       "      <td>1224 South St</td>\n",
       "      <td>Philadelphia</td>\n",
       "      <td>PA</td>\n",
       "      <td>19147</td>\n",
       "      <td>39.943223</td>\n",
       "      <td>-75.162568</td>\n",
       "      <td>4.5</td>\n",
       "      <td>205</td>\n",
       "      <td>1</td>\n",
       "      <td>{'NoiseLevel': 'u'quiet'', 'GoodForMeal': '{'d...</td>\n",
       "      <td>Korean, Restaurants</td>\n",
       "      <td>{'Monday': '11:30-20:30', 'Tuesday': '11:30-20...</td>\n",
       "      <td>True</td>\n",
       "    </tr>\n",
       "    <tr>\n",
       "      <th>3</th>\n",
       "      <td>QdN72BWoyFypdGJhhI5r7g</td>\n",
       "      <td>Bar One</td>\n",
       "      <td>767 S 9th St</td>\n",
       "      <td>Philadelphia</td>\n",
       "      <td>PA</td>\n",
       "      <td>19147</td>\n",
       "      <td>39.939825</td>\n",
       "      <td>-75.157447</td>\n",
       "      <td>4.0</td>\n",
       "      <td>65</td>\n",
       "      <td>0</td>\n",
       "      <td>{'Smoking': 'u'no'', 'NoiseLevel': 'u'average'...</td>\n",
       "      <td>Cocktail Bars, Bars, Italian, Nightlife, Resta...</td>\n",
       "      <td>{'Monday': '16:0-0:0', 'Tuesday': '16:0-0:0', ...</td>\n",
       "      <td>True</td>\n",
       "    </tr>\n",
       "    <tr>\n",
       "      <th>4</th>\n",
       "      <td>Mjboz24M9NlBeiOJKLEd_Q</td>\n",
       "      <td>DeSandro on Main</td>\n",
       "      <td>4105 Main St</td>\n",
       "      <td>Philadelphia</td>\n",
       "      <td>PA</td>\n",
       "      <td>19127</td>\n",
       "      <td>40.022466</td>\n",
       "      <td>-75.218314</td>\n",
       "      <td>3.0</td>\n",
       "      <td>41</td>\n",
       "      <td>0</td>\n",
       "      <td>{'RestaurantsReservations': 'False', 'Caters':...</td>\n",
       "      <td>Pizza, Restaurants, Salad, Soup</td>\n",
       "      <td>{'Tuesday': '17:0-21:30', 'Wednesday': '17:0-1...</td>\n",
       "      <td>True</td>\n",
       "    </tr>\n",
       "  </tbody>\n",
       "</table>\n",
       "</div>"
      ],
      "text/plain": [
       "              business_id                name        address          city  \\\n",
       "0  MTSW4McQd7CbVtyjqoe9mw  St Honore Pastries    935 Race St  Philadelphia   \n",
       "1  MUTTqe8uqyMdBl186RmNeA            Tuna Bar    205 Race St  Philadelphia   \n",
       "2  ROeacJQwBeh05Rqg7F6TCg                 BAP  1224 South St  Philadelphia   \n",
       "3  QdN72BWoyFypdGJhhI5r7g             Bar One   767 S 9th St  Philadelphia   \n",
       "4  Mjboz24M9NlBeiOJKLEd_Q    DeSandro on Main   4105 Main St  Philadelphia   \n",
       "\n",
       "  state postal_code   latitude  longitude  stars  review_count  is_open  \\\n",
       "0    PA       19107  39.955505 -75.155564    4.0            80        1   \n",
       "1    PA       19106  39.953949 -75.143226    4.0           245        1   \n",
       "2    PA       19147  39.943223 -75.162568    4.5           205        1   \n",
       "3    PA       19147  39.939825 -75.157447    4.0            65        0   \n",
       "4    PA       19127  40.022466 -75.218314    3.0            41        0   \n",
       "\n",
       "                                          attributes  \\\n",
       "0  {'RestaurantsDelivery': 'False', 'OutdoorSeati...   \n",
       "1  {'RestaurantsReservations': 'True', 'Restauran...   \n",
       "2  {'NoiseLevel': 'u'quiet'', 'GoodForMeal': '{'d...   \n",
       "3  {'Smoking': 'u'no'', 'NoiseLevel': 'u'average'...   \n",
       "4  {'RestaurantsReservations': 'False', 'Caters':...   \n",
       "\n",
       "                                          categories  \\\n",
       "0  Restaurants, Food, Bubble Tea, Coffee & Tea, B...   \n",
       "1                  Sushi Bars, Restaurants, Japanese   \n",
       "2                                Korean, Restaurants   \n",
       "3  Cocktail Bars, Bars, Italian, Nightlife, Resta...   \n",
       "4                    Pizza, Restaurants, Salad, Soup   \n",
       "\n",
       "                                               hours  has_restaurant  \n",
       "0  {'Monday': '7:0-20:0', 'Tuesday': '7:0-20:0', ...            True  \n",
       "1  {'Tuesday': '13:30-22:0', 'Wednesday': '13:30-...            True  \n",
       "2  {'Monday': '11:30-20:30', 'Tuesday': '11:30-20...            True  \n",
       "3  {'Monday': '16:0-0:0', 'Tuesday': '16:0-0:0', ...            True  \n",
       "4  {'Tuesday': '17:0-21:30', 'Wednesday': '17:0-1...            True  "
      ]
     },
     "execution_count": 21,
     "metadata": {},
     "output_type": "execute_result"
    }
   ],
   "source": [
    "# preview\n",
    "df_business_philly_rest.head()"
   ]
  },
  {
   "cell_type": "code",
   "execution_count": 22,
   "metadata": {},
   "outputs": [
    {
     "name": "stdout",
     "output_type": "stream",
     "text": [
      "<class 'pandas.core.frame.DataFrame'>\n",
      "RangeIndex: 5852 entries, 0 to 5851\n",
      "Data columns (total 15 columns):\n",
      " #   Column          Non-Null Count  Dtype  \n",
      "---  ------          --------------  -----  \n",
      " 0   business_id     5852 non-null   object \n",
      " 1   name            5852 non-null   object \n",
      " 2   address         5852 non-null   object \n",
      " 3   city            5852 non-null   object \n",
      " 4   state           5852 non-null   object \n",
      " 5   postal_code     5852 non-null   object \n",
      " 6   latitude        5852 non-null   float64\n",
      " 7   longitude       5852 non-null   float64\n",
      " 8   stars           5852 non-null   float64\n",
      " 9   review_count    5852 non-null   int64  \n",
      " 10  is_open         5852 non-null   int64  \n",
      " 11  attributes      5799 non-null   object \n",
      " 12  categories      5852 non-null   object \n",
      " 13  hours           4854 non-null   object \n",
      " 14  has_restaurant  5852 non-null   bool   \n",
      "dtypes: bool(1), float64(3), int64(2), object(9)\n",
      "memory usage: 645.9+ KB\n"
     ]
    }
   ],
   "source": [
    "df_business_philly_rest.info()"
   ]
  },
  {
   "attachments": {},
   "cell_type": "markdown",
   "metadata": {},
   "source": [
    "The `is_open` column is a int dtype. Let's look at value counts."
   ]
  },
  {
   "cell_type": "code",
   "execution_count": 28,
   "metadata": {},
   "outputs": [
    {
     "data": {
      "text/plain": [
       "1    3525\n",
       "0    2327\n",
       "Name: is_open, dtype: int64"
      ]
     },
     "execution_count": 28,
     "metadata": {},
     "output_type": "execute_result"
    }
   ],
   "source": [
    "df_business_philly_rest['is_open'].value_counts()"
   ]
  },
  {
   "attachments": {},
   "cell_type": "markdown",
   "metadata": {},
   "source": [
    "Let's filter out the 0 which denote the restuarants have since been closed."
   ]
  },
  {
   "cell_type": "code",
   "execution_count": 31,
   "metadata": {},
   "outputs": [],
   "source": [
    "# filter out 0 in is_open column\n",
    "df_business_philly_rest=df_business_philly_rest[df_business_philly_rest['is_open'] == 1]"
   ]
  },
  {
   "cell_type": "code",
   "execution_count": 32,
   "metadata": {},
   "outputs": [
    {
     "name": "stdout",
     "output_type": "stream",
     "text": [
      "<class 'pandas.core.frame.DataFrame'>\n",
      "Int64Index: 3525 entries, 0 to 5851\n",
      "Data columns (total 16 columns):\n",
      " #   Column          Non-Null Count  Dtype  \n",
      "---  ------          --------------  -----  \n",
      " 0   business_id     3525 non-null   object \n",
      " 1   name            3525 non-null   object \n",
      " 2   address         3525 non-null   object \n",
      " 3   city            3525 non-null   object \n",
      " 4   state           3525 non-null   object \n",
      " 5   postal_code     3525 non-null   object \n",
      " 6   latitude        3525 non-null   float64\n",
      " 7   longitude       3525 non-null   float64\n",
      " 8   stars           3525 non-null   float64\n",
      " 9   review_count    3525 non-null   int64  \n",
      " 10  is_open         3525 non-null   int64  \n",
      " 11  attributes      3486 non-null   object \n",
      " 12  categories      3525 non-null   object \n",
      " 13  hours           3049 non-null   object \n",
      " 14  has_restaurant  3525 non-null   bool   \n",
      " 15  has_pizza       3525 non-null   bool   \n",
      "dtypes: bool(2), float64(3), int64(2), object(9)\n",
      "memory usage: 420.0+ KB\n"
     ]
    }
   ],
   "source": [
    "df_business_philly_rest.info()"
   ]
  },
  {
   "attachments": {},
   "cell_type": "markdown",
   "metadata": {},
   "source": [
    "**5,525** rows is still quite a bunch, let's try and segment but food type within restaurants. Ideally would be ~1k rows or so. Reason is once we get to reviews the records balloon considerably."
   ]
  },
  {
   "attachments": {},
   "cell_type": "markdown",
   "metadata": {},
   "source": [
    "### Pizza places in Philly\n",
    "Let's see if we can narrow the restaurants down to pizza places in Philly."
   ]
  },
  {
   "cell_type": "code",
   "execution_count": 33,
   "metadata": {},
   "outputs": [],
   "source": [
    "def has_pizza(string):\n",
    "    \"\"\"\n",
    "    Returns bool if match\n",
    "    \"\"\"\n",
    "    if string and re.match('.*Pizza.*', string):\n",
    "        return True\n",
    "    else:\n",
    "        return False\n",
    "    \n",
    "# apply function to categories, create bool col\n",
    "df_business_philly_rest['has_pizza'] = df_business_philly_rest['categories'].apply(has_pizza)\n",
    "\n",
    "# filter\n",
    "df_business_philly_pizza=df_business_philly_rest.loc[df_business_philly_rest['has_pizza']]\\\n",
    "    .reset_index(drop=True)"
   ]
  },
  {
   "cell_type": "code",
   "execution_count": 34,
   "metadata": {},
   "outputs": [
    {
     "name": "stdout",
     "output_type": "stream",
     "text": [
      "<class 'pandas.core.frame.DataFrame'>\n",
      "RangeIndex: 529 entries, 0 to 528\n",
      "Data columns (total 16 columns):\n",
      " #   Column          Non-Null Count  Dtype  \n",
      "---  ------          --------------  -----  \n",
      " 0   business_id     529 non-null    object \n",
      " 1   name            529 non-null    object \n",
      " 2   address         529 non-null    object \n",
      " 3   city            529 non-null    object \n",
      " 4   state           529 non-null    object \n",
      " 5   postal_code     529 non-null    object \n",
      " 6   latitude        529 non-null    float64\n",
      " 7   longitude       529 non-null    float64\n",
      " 8   stars           529 non-null    float64\n",
      " 9   review_count    529 non-null    int64  \n",
      " 10  is_open         529 non-null    int64  \n",
      " 11  attributes      522 non-null    object \n",
      " 12  categories      529 non-null    object \n",
      " 13  hours           432 non-null    object \n",
      " 14  has_restaurant  529 non-null    bool   \n",
      " 15  has_pizza       529 non-null    bool   \n",
      "dtypes: bool(2), float64(3), int64(2), object(9)\n",
      "memory usage: 59.0+ KB\n"
     ]
    }
   ],
   "source": [
    "df_business_philly_pizza.info()"
   ]
  },
  {
   "cell_type": "code",
   "execution_count": 35,
   "metadata": {},
   "outputs": [
    {
     "data": {
      "text/html": [
       "<div>\n",
       "<style scoped>\n",
       "    .dataframe tbody tr th:only-of-type {\n",
       "        vertical-align: middle;\n",
       "    }\n",
       "\n",
       "    .dataframe tbody tr th {\n",
       "        vertical-align: top;\n",
       "    }\n",
       "\n",
       "    .dataframe thead th {\n",
       "        text-align: right;\n",
       "    }\n",
       "</style>\n",
       "<table border=\"1\" class=\"dataframe\">\n",
       "  <thead>\n",
       "    <tr style=\"text-align: right;\">\n",
       "      <th></th>\n",
       "      <th>business_id</th>\n",
       "      <th>name</th>\n",
       "      <th>address</th>\n",
       "      <th>city</th>\n",
       "      <th>state</th>\n",
       "      <th>postal_code</th>\n",
       "      <th>latitude</th>\n",
       "      <th>longitude</th>\n",
       "      <th>stars</th>\n",
       "      <th>review_count</th>\n",
       "      <th>is_open</th>\n",
       "      <th>attributes</th>\n",
       "      <th>categories</th>\n",
       "      <th>hours</th>\n",
       "      <th>has_restaurant</th>\n",
       "      <th>has_pizza</th>\n",
       "    </tr>\n",
       "  </thead>\n",
       "  <tbody>\n",
       "    <tr>\n",
       "      <th>0</th>\n",
       "      <td>HuDNHqKv9n1mWpe4BqCnwA</td>\n",
       "      <td>Minas Pizza</td>\n",
       "      <td>6151 Ridge Ave</td>\n",
       "      <td>Philadelphia</td>\n",
       "      <td>PA</td>\n",
       "      <td>19128</td>\n",
       "      <td>40.035235</td>\n",
       "      <td>-75.216793</td>\n",
       "      <td>3.0</td>\n",
       "      <td>54</td>\n",
       "      <td>1</td>\n",
       "      <td>{'BikeParking': 'False', 'Ambience': '{'romant...</td>\n",
       "      <td>Restaurants, Pizza</td>\n",
       "      <td>{'Monday': '0:0-0:0', 'Tuesday': '11:0-21:45',...</td>\n",
       "      <td>True</td>\n",
       "      <td>True</td>\n",
       "    </tr>\n",
       "    <tr>\n",
       "      <th>1</th>\n",
       "      <td>Pb5agnsD9EdCl6yuZp2jJA</td>\n",
       "      <td>O Sole Mio</td>\n",
       "      <td>250 Catharine St</td>\n",
       "      <td>Philadelphia</td>\n",
       "      <td>PA</td>\n",
       "      <td>19147</td>\n",
       "      <td>39.937829</td>\n",
       "      <td>-75.148263</td>\n",
       "      <td>4.5</td>\n",
       "      <td>85</td>\n",
       "      <td>1</td>\n",
       "      <td>{'RestaurantsGoodForGroups': 'True', 'Restaura...</td>\n",
       "      <td>Food, Seafood, Sardinian, Gelato, Restaurants,...</td>\n",
       "      <td>{'Tuesday': '11:0-22:0', 'Wednesday': '11:0-22...</td>\n",
       "      <td>True</td>\n",
       "      <td>True</td>\n",
       "    </tr>\n",
       "    <tr>\n",
       "      <th>2</th>\n",
       "      <td>cLlBDZxYJ1dt1JgMuZnXew</td>\n",
       "      <td>Olly</td>\n",
       "      <td>700 S 5th St</td>\n",
       "      <td>Philadelphia</td>\n",
       "      <td>PA</td>\n",
       "      <td>19147</td>\n",
       "      <td>39.940878</td>\n",
       "      <td>-75.151106</td>\n",
       "      <td>4.0</td>\n",
       "      <td>51</td>\n",
       "      <td>1</td>\n",
       "      <td>{'BusinessAcceptsCreditCards': 'True', 'Outdoo...</td>\n",
       "      <td>Pizza, Food, Bagels, Sandwiches, Comfort Food,...</td>\n",
       "      <td>{'Monday': '0:0-0:0', 'Wednesday': '16:0-21:0'...</td>\n",
       "      <td>True</td>\n",
       "      <td>True</td>\n",
       "    </tr>\n",
       "    <tr>\n",
       "      <th>3</th>\n",
       "      <td>bKppmYKQ_-9cpp2yziB-Qw</td>\n",
       "      <td>Lincoln Chicken Pizza And Grill</td>\n",
       "      <td>2614 W Girard Ave</td>\n",
       "      <td>Philadelphia</td>\n",
       "      <td>PA</td>\n",
       "      <td>19130</td>\n",
       "      <td>39.973875</td>\n",
       "      <td>-75.179424</td>\n",
       "      <td>2.5</td>\n",
       "      <td>20</td>\n",
       "      <td>1</td>\n",
       "      <td>{'Ambience': '{'romantic': False, 'intimate': ...</td>\n",
       "      <td>Cheesesteaks, Chicken Wings, Restaurants, Pizza</td>\n",
       "      <td>{'Monday': '11:0-0:0', 'Tuesday': '11:0-0:0', ...</td>\n",
       "      <td>True</td>\n",
       "      <td>True</td>\n",
       "    </tr>\n",
       "    <tr>\n",
       "      <th>4</th>\n",
       "      <td>o4_cgIKWgvJ09TZeSzARmg</td>\n",
       "      <td>Quality Pizza</td>\n",
       "      <td>6438 Rising Sun Ave</td>\n",
       "      <td>Philadelphia</td>\n",
       "      <td>PA</td>\n",
       "      <td>19111</td>\n",
       "      <td>40.050921</td>\n",
       "      <td>-75.094581</td>\n",
       "      <td>3.0</td>\n",
       "      <td>19</td>\n",
       "      <td>1</td>\n",
       "      <td>{'OutdoorSeating': 'False', 'RestaurantsTakeOu...</td>\n",
       "      <td>Restaurants, Pizza</td>\n",
       "      <td>None</td>\n",
       "      <td>True</td>\n",
       "      <td>True</td>\n",
       "    </tr>\n",
       "  </tbody>\n",
       "</table>\n",
       "</div>"
      ],
      "text/plain": [
       "              business_id                             name  \\\n",
       "0  HuDNHqKv9n1mWpe4BqCnwA                      Minas Pizza   \n",
       "1  Pb5agnsD9EdCl6yuZp2jJA                       O Sole Mio   \n",
       "2  cLlBDZxYJ1dt1JgMuZnXew                             Olly   \n",
       "3  bKppmYKQ_-9cpp2yziB-Qw  Lincoln Chicken Pizza And Grill   \n",
       "4  o4_cgIKWgvJ09TZeSzARmg                    Quality Pizza   \n",
       "\n",
       "               address          city state postal_code   latitude  longitude  \\\n",
       "0       6151 Ridge Ave  Philadelphia    PA       19128  40.035235 -75.216793   \n",
       "1     250 Catharine St  Philadelphia    PA       19147  39.937829 -75.148263   \n",
       "2         700 S 5th St  Philadelphia    PA       19147  39.940878 -75.151106   \n",
       "3    2614 W Girard Ave  Philadelphia    PA       19130  39.973875 -75.179424   \n",
       "4  6438 Rising Sun Ave  Philadelphia    PA       19111  40.050921 -75.094581   \n",
       "\n",
       "   stars  review_count  is_open  \\\n",
       "0    3.0            54        1   \n",
       "1    4.5            85        1   \n",
       "2    4.0            51        1   \n",
       "3    2.5            20        1   \n",
       "4    3.0            19        1   \n",
       "\n",
       "                                          attributes  \\\n",
       "0  {'BikeParking': 'False', 'Ambience': '{'romant...   \n",
       "1  {'RestaurantsGoodForGroups': 'True', 'Restaura...   \n",
       "2  {'BusinessAcceptsCreditCards': 'True', 'Outdoo...   \n",
       "3  {'Ambience': '{'romantic': False, 'intimate': ...   \n",
       "4  {'OutdoorSeating': 'False', 'RestaurantsTakeOu...   \n",
       "\n",
       "                                          categories  \\\n",
       "0                                 Restaurants, Pizza   \n",
       "1  Food, Seafood, Sardinian, Gelato, Restaurants,...   \n",
       "2  Pizza, Food, Bagels, Sandwiches, Comfort Food,...   \n",
       "3    Cheesesteaks, Chicken Wings, Restaurants, Pizza   \n",
       "4                                 Restaurants, Pizza   \n",
       "\n",
       "                                               hours  has_restaurant  \\\n",
       "0  {'Monday': '0:0-0:0', 'Tuesday': '11:0-21:45',...            True   \n",
       "1  {'Tuesday': '11:0-22:0', 'Wednesday': '11:0-22...            True   \n",
       "2  {'Monday': '0:0-0:0', 'Wednesday': '16:0-21:0'...            True   \n",
       "3  {'Monday': '11:0-0:0', 'Tuesday': '11:0-0:0', ...            True   \n",
       "4                                               None            True   \n",
       "\n",
       "   has_pizza  \n",
       "0       True  \n",
       "1       True  \n",
       "2       True  \n",
       "3       True  \n",
       "4       True  "
      ]
     },
     "execution_count": 35,
     "metadata": {},
     "output_type": "execute_result"
    }
   ],
   "source": [
    "df_business_philly_pizza.head()"
   ]
  },
  {
   "attachments": {},
   "cell_type": "markdown",
   "metadata": {},
   "source": [
    "Ok, now we have all the rows with that have `Pizza` in the `categories` column.<br>\n",
    "Let's filter the other datasets by the `business_id` column."
   ]
  },
  {
   "attachments": {},
   "cell_type": "markdown",
   "metadata": {},
   "source": [
    "## Reviews\n",
    "Let's take a look at the reviews dataset."
   ]
  },
  {
   "cell_type": "code",
   "execution_count": 92,
   "metadata": {},
   "outputs": [
    {
     "name": "stdout",
     "output_type": "stream",
     "text": [
      "<class 'pandas.core.frame.DataFrame'>\n",
      "RangeIndex: 6990280 entries, 0 to 6990279\n",
      "Data columns (total 9 columns):\n",
      " #   Column       Dtype         \n",
      "---  ------       -----         \n",
      " 0   review_id    object        \n",
      " 1   user_id      object        \n",
      " 2   business_id  object        \n",
      " 3   stars        int64         \n",
      " 4   useful       int64         \n",
      " 5   funny        int64         \n",
      " 6   cool         int64         \n",
      " 7   text         object        \n",
      " 8   date         datetime64[ns]\n",
      "dtypes: datetime64[ns](1), int64(4), object(4)\n",
      "memory usage: 480.0+ MB\n"
     ]
    }
   ],
   "source": [
    "df_reviews.info()"
   ]
  },
  {
   "cell_type": "code",
   "execution_count": 82,
   "metadata": {},
   "outputs": [
    {
     "data": {
      "text/plain": [
       "Index(['review_id', 'user_id', 'business_id', 'stars', 'useful', 'funny',\n",
       "       'cool', 'text', 'date'],\n",
       "      dtype='object')"
      ]
     },
     "execution_count": 82,
     "metadata": {},
     "output_type": "execute_result"
    }
   ],
   "source": [
    "# columns\n",
    "df_reviews.columns"
   ]
  },
  {
   "attachments": {},
   "cell_type": "markdown",
   "metadata": {},
   "source": [
    "Ok, there is a `business_id` column, we need to filter all the rows in `df_reviews` by the business id from `df_business_philly_pizza`"
   ]
  },
  {
   "cell_type": "code",
   "execution_count": 36,
   "metadata": {},
   "outputs": [],
   "source": [
    "# merge df and create indicator column\n",
    "merged_df = df_business_philly_pizza.merge(df_reviews, on='business_id', \n",
    "                                          how='left', indicator=True)\n"
   ]
  },
  {
   "attachments": {},
   "cell_type": "markdown",
   "metadata": {},
   "source": [
    "Filter by columns in `df_review`."
   ]
  },
  {
   "cell_type": "code",
   "execution_count": 37,
   "metadata": {},
   "outputs": [],
   "source": [
    "df_reviews_philly_pizza=merged_df[merged_df.columns[merged_df.columns.isin(df_reviews.columns)]]"
   ]
  },
  {
   "cell_type": "code",
   "execution_count": 39,
   "metadata": {},
   "outputs": [
    {
     "name": "stdout",
     "output_type": "stream",
     "text": [
      "<class 'pandas.core.frame.DataFrame'>\n",
      "Int64Index: 50760 entries, 0 to 50759\n",
      "Data columns (total 8 columns):\n",
      " #   Column       Non-Null Count  Dtype         \n",
      "---  ------       --------------  -----         \n",
      " 0   business_id  50760 non-null  object        \n",
      " 1   review_id    50760 non-null  object        \n",
      " 2   user_id      50760 non-null  object        \n",
      " 3   useful       50760 non-null  int64         \n",
      " 4   funny        50760 non-null  int64         \n",
      " 5   cool         50760 non-null  int64         \n",
      " 6   text         50760 non-null  object        \n",
      " 7   date         50760 non-null  datetime64[ns]\n",
      "dtypes: datetime64[ns](1), int64(3), object(4)\n",
      "memory usage: 3.5+ MB\n"
     ]
    }
   ],
   "source": [
    "df_reviews_philly_pizza.info()"
   ]
  },
  {
   "cell_type": "code",
   "execution_count": 40,
   "metadata": {},
   "outputs": [
    {
     "data": {
      "text/html": [
       "<div>\n",
       "<style scoped>\n",
       "    .dataframe tbody tr th:only-of-type {\n",
       "        vertical-align: middle;\n",
       "    }\n",
       "\n",
       "    .dataframe tbody tr th {\n",
       "        vertical-align: top;\n",
       "    }\n",
       "\n",
       "    .dataframe thead th {\n",
       "        text-align: right;\n",
       "    }\n",
       "</style>\n",
       "<table border=\"1\" class=\"dataframe\">\n",
       "  <thead>\n",
       "    <tr style=\"text-align: right;\">\n",
       "      <th></th>\n",
       "      <th>business_id</th>\n",
       "      <th>review_id</th>\n",
       "      <th>user_id</th>\n",
       "      <th>useful</th>\n",
       "      <th>funny</th>\n",
       "      <th>cool</th>\n",
       "      <th>text</th>\n",
       "      <th>date</th>\n",
       "    </tr>\n",
       "  </thead>\n",
       "  <tbody>\n",
       "    <tr>\n",
       "      <th>0</th>\n",
       "      <td>HuDNHqKv9n1mWpe4BqCnwA</td>\n",
       "      <td>ihWWn8QcIm0WH4VnXnqY3Q</td>\n",
       "      <td>fg3ed8OnD28mT_Zx7K8wlA</td>\n",
       "      <td>0</td>\n",
       "      <td>0</td>\n",
       "      <td>0</td>\n",
       "      <td>Let me tell you mina's is the place i always g...</td>\n",
       "      <td>2017-05-13 10:08:43</td>\n",
       "    </tr>\n",
       "    <tr>\n",
       "      <th>1</th>\n",
       "      <td>HuDNHqKv9n1mWpe4BqCnwA</td>\n",
       "      <td>-0PWvSBx58D2EEXrcbZ5wg</td>\n",
       "      <td>h2LtQ1s5X20d0yrdqUMJ0Q</td>\n",
       "      <td>0</td>\n",
       "      <td>1</td>\n",
       "      <td>0</td>\n",
       "      <td>That dough!!!  PHENOMENAL!!!!  Veal stromboli?...</td>\n",
       "      <td>2014-10-13 16:16:27</td>\n",
       "    </tr>\n",
       "    <tr>\n",
       "      <th>2</th>\n",
       "      <td>HuDNHqKv9n1mWpe4BqCnwA</td>\n",
       "      <td>1KW2iQW8yCN8iPrs4LbACQ</td>\n",
       "      <td>Od2Ev0b92eKrciDJIRVNpQ</td>\n",
       "      <td>2</td>\n",
       "      <td>0</td>\n",
       "      <td>0</td>\n",
       "      <td>In my quest to find the best pizza in Roxborou...</td>\n",
       "      <td>2013-05-14 12:30:35</td>\n",
       "    </tr>\n",
       "    <tr>\n",
       "      <th>3</th>\n",
       "      <td>HuDNHqKv9n1mWpe4BqCnwA</td>\n",
       "      <td>egGteVOJdK7UMvNqvaRA9A</td>\n",
       "      <td>uBowLGrAIif1DvWLMDCD2g</td>\n",
       "      <td>1</td>\n",
       "      <td>0</td>\n",
       "      <td>0</td>\n",
       "      <td>We love their pizza.. it's crispy and not grea...</td>\n",
       "      <td>2015-01-10 18:13:22</td>\n",
       "    </tr>\n",
       "    <tr>\n",
       "      <th>4</th>\n",
       "      <td>HuDNHqKv9n1mWpe4BqCnwA</td>\n",
       "      <td>azkw15ZxXdi-xKu4YiRxLQ</td>\n",
       "      <td>LvJaWVpuGvladxwgi0UoWA</td>\n",
       "      <td>0</td>\n",
       "      <td>0</td>\n",
       "      <td>0</td>\n",
       "      <td>Just started checking this place out. The food...</td>\n",
       "      <td>2012-04-08 13:46:59</td>\n",
       "    </tr>\n",
       "  </tbody>\n",
       "</table>\n",
       "</div>"
      ],
      "text/plain": [
       "              business_id               review_id                 user_id  \\\n",
       "0  HuDNHqKv9n1mWpe4BqCnwA  ihWWn8QcIm0WH4VnXnqY3Q  fg3ed8OnD28mT_Zx7K8wlA   \n",
       "1  HuDNHqKv9n1mWpe4BqCnwA  -0PWvSBx58D2EEXrcbZ5wg  h2LtQ1s5X20d0yrdqUMJ0Q   \n",
       "2  HuDNHqKv9n1mWpe4BqCnwA  1KW2iQW8yCN8iPrs4LbACQ  Od2Ev0b92eKrciDJIRVNpQ   \n",
       "3  HuDNHqKv9n1mWpe4BqCnwA  egGteVOJdK7UMvNqvaRA9A  uBowLGrAIif1DvWLMDCD2g   \n",
       "4  HuDNHqKv9n1mWpe4BqCnwA  azkw15ZxXdi-xKu4YiRxLQ  LvJaWVpuGvladxwgi0UoWA   \n",
       "\n",
       "   useful  funny  cool                                               text  \\\n",
       "0       0      0     0  Let me tell you mina's is the place i always g...   \n",
       "1       0      1     0  That dough!!!  PHENOMENAL!!!!  Veal stromboli?...   \n",
       "2       2      0     0  In my quest to find the best pizza in Roxborou...   \n",
       "3       1      0     0  We love their pizza.. it's crispy and not grea...   \n",
       "4       0      0     0  Just started checking this place out. The food...   \n",
       "\n",
       "                 date  \n",
       "0 2017-05-13 10:08:43  \n",
       "1 2014-10-13 16:16:27  \n",
       "2 2013-05-14 12:30:35  \n",
       "3 2015-01-10 18:13:22  \n",
       "4 2012-04-08 13:46:59  "
      ]
     },
     "execution_count": 40,
     "metadata": {},
     "output_type": "execute_result"
    }
   ],
   "source": [
    "df_reviews_philly_pizza.head()"
   ]
  },
  {
   "attachments": {},
   "cell_type": "markdown",
   "metadata": {},
   "source": [
    "Let's see how far back in time these reviews go."
   ]
  },
  {
   "cell_type": "code",
   "execution_count": 41,
   "metadata": {},
   "outputs": [
    {
     "data": {
      "text/plain": [
       "Timestamp('2005-08-18 17:15:34')"
      ]
     },
     "execution_count": 41,
     "metadata": {},
     "output_type": "execute_result"
    }
   ],
   "source": [
    "min(df_reviews_philly_pizza['date'])"
   ]
  },
  {
   "attachments": {},
   "cell_type": "markdown",
   "metadata": {},
   "source": [
    "Ok, reviews go as far back as 2005, let's see if we can get a distribution of reviews per year for the Pizza places in Philadelphia."
   ]
  },
  {
   "cell_type": "code",
   "execution_count": 42,
   "metadata": {},
   "outputs": [],
   "source": [
    "# create a year column\n",
    "df_reviews_philly_pizza['year']=df_reviews_philly_pizza['date'].dt.year"
   ]
  },
  {
   "cell_type": "code",
   "execution_count": 82,
   "metadata": {},
   "outputs": [
    {
     "data": {
      "image/png": "[encoded data removed]",
      "text/plain": [
       "<Figure size 1000x700 with 1 Axes>"
      ]
     },
     "metadata": {},
     "output_type": "display_data"
    }
   ],
   "source": [
    "# plot frequency by year\n",
    "plt.figure(figsize=(10,7))\n",
    "sns.set_theme('notebook', 'darkgrid')\n",
    "sns.countplot(y='year',data=df_reviews_philly_pizza, color=\"MediumBlue\", alpha=0.7)\n",
    "plt.ylabel(\"Year\")\n",
    "plt.xlabel(\"Count\")\n",
    "plt.title(\"Philadelphia Pizza Restaurant Reviews by Year\")\n",
    "plt.show()"
   ]
  },
  {
   "attachments": {},
   "cell_type": "markdown",
   "metadata": {},
   "source": [
    "## Users\n",
    "Let's look at the users dataset"
   ]
  },
  {
   "cell_type": "code",
   "execution_count": 101,
   "metadata": {},
   "outputs": [
    {
     "name": "stdout",
     "output_type": "stream",
     "text": [
      "<class 'pandas.core.frame.DataFrame'>\n",
      "RangeIndex: 1987897 entries, 0 to 1987896\n",
      "Data columns (total 22 columns):\n",
      " #   Column              Dtype  \n",
      "---  ------              -----  \n",
      " 0   user_id             object \n",
      " 1   name                object \n",
      " 2   review_count        int64  \n",
      " 3   yelping_since       object \n",
      " 4   useful              int64  \n",
      " 5   funny               int64  \n",
      " 6   cool                int64  \n",
      " 7   elite               object \n",
      " 8   friends             object \n",
      " 9   fans                int64  \n",
      " 10  average_stars       float64\n",
      " 11  compliment_hot      int64  \n",
      " 12  compliment_more     int64  \n",
      " 13  compliment_profile  int64  \n",
      " 14  compliment_cute     int64  \n",
      " 15  compliment_list     int64  \n",
      " 16  compliment_note     int64  \n",
      " 17  compliment_plain    int64  \n",
      " 18  compliment_cool     int64  \n",
      " 19  compliment_funny    int64  \n",
      " 20  compliment_writer   int64  \n",
      " 21  compliment_photos   int64  \n",
      "dtypes: float64(1), int64(16), object(5)\n",
      "memory usage: 333.7+ MB\n"
     ]
    }
   ],
   "source": [
    "df_user.info()"
   ]
  },
  {
   "attachments": {},
   "cell_type": "markdown",
   "metadata": {},
   "source": [
    "Let's look at the columns."
   ]
  },
  {
   "cell_type": "code",
   "execution_count": 83,
   "metadata": {},
   "outputs": [
    {
     "data": {
      "text/plain": [
       "Index(['user_id', 'name', 'review_count', 'yelping_since', 'useful', 'funny',\n",
       "       'cool', 'elite', 'friends', 'fans', 'average_stars', 'compliment_hot',\n",
       "       'compliment_more', 'compliment_profile', 'compliment_cute',\n",
       "       'compliment_list', 'compliment_note', 'compliment_plain',\n",
       "       'compliment_cool', 'compliment_funny', 'compliment_writer',\n",
       "       'compliment_photos'],\n",
       "      dtype='object')"
      ]
     },
     "execution_count": 83,
     "metadata": {},
     "output_type": "execute_result"
    }
   ],
   "source": [
    "df_user.columns"
   ]
  },
  {
   "attachments": {},
   "cell_type": "markdown",
   "metadata": {},
   "source": [
    "Ok, we can filer on `user_id`, which won't necessarly give us ONLY reviews for restaurants in Phildelphia, but could give us additional info on the users."
   ]
  },
  {
   "cell_type": "code",
   "execution_count": 83,
   "metadata": {},
   "outputs": [],
   "source": [
    "# merge df and create indicator column\n",
    "merged_df2 = df_reviews_philly_pizza.merge(df_user, on='user_id', \n",
    "                                          how='left', indicator=True)"
   ]
  },
  {
   "cell_type": "code",
   "execution_count": 84,
   "metadata": {},
   "outputs": [],
   "source": [
    "df_user_filtered=merged_df2[merged_df2.columns[merged_df2.columns.isin(df_user.columns)]]"
   ]
  },
  {
   "cell_type": "code",
   "execution_count": 85,
   "metadata": {},
   "outputs": [
    {
     "data": {
      "text/html": [
       "<div>\n",
       "<style scoped>\n",
       "    .dataframe tbody tr th:only-of-type {\n",
       "        vertical-align: middle;\n",
       "    }\n",
       "\n",
       "    .dataframe tbody tr th {\n",
       "        vertical-align: top;\n",
       "    }\n",
       "\n",
       "    .dataframe thead th {\n",
       "        text-align: right;\n",
       "    }\n",
       "</style>\n",
       "<table border=\"1\" class=\"dataframe\">\n",
       "  <thead>\n",
       "    <tr style=\"text-align: right;\">\n",
       "      <th></th>\n",
       "      <th>user_id</th>\n",
       "      <th>name</th>\n",
       "      <th>review_count</th>\n",
       "      <th>yelping_since</th>\n",
       "      <th>elite</th>\n",
       "      <th>friends</th>\n",
       "      <th>fans</th>\n",
       "      <th>average_stars</th>\n",
       "      <th>compliment_hot</th>\n",
       "      <th>compliment_more</th>\n",
       "      <th>compliment_profile</th>\n",
       "      <th>compliment_cute</th>\n",
       "      <th>compliment_list</th>\n",
       "      <th>compliment_note</th>\n",
       "      <th>compliment_plain</th>\n",
       "      <th>compliment_cool</th>\n",
       "      <th>compliment_funny</th>\n",
       "      <th>compliment_writer</th>\n",
       "      <th>compliment_photos</th>\n",
       "    </tr>\n",
       "  </thead>\n",
       "  <tbody>\n",
       "    <tr>\n",
       "      <th>0</th>\n",
       "      <td>fg3ed8OnD28mT_Zx7K8wlA</td>\n",
       "      <td>Ashton</td>\n",
       "      <td>11</td>\n",
       "      <td>2017-04-16 23:59:40</td>\n",
       "      <td></td>\n",
       "      <td>None</td>\n",
       "      <td>0</td>\n",
       "      <td>4.18</td>\n",
       "      <td>0</td>\n",
       "      <td>0</td>\n",
       "      <td>0</td>\n",
       "      <td>0</td>\n",
       "      <td>0</td>\n",
       "      <td>0</td>\n",
       "      <td>0</td>\n",
       "      <td>0</td>\n",
       "      <td>0</td>\n",
       "      <td>0</td>\n",
       "      <td>0</td>\n",
       "    </tr>\n",
       "    <tr>\n",
       "      <th>1</th>\n",
       "      <td>h2LtQ1s5X20d0yrdqUMJ0Q</td>\n",
       "      <td>Christopher</td>\n",
       "      <td>1728</td>\n",
       "      <td>2010-03-23 17:13:25</td>\n",
       "      <td>2010,2011,2012,2013,2014,2015,2016,2017,2018,2...</td>\n",
       "      <td>arpUY2-cgsTq2QufV1Ij_g, WCLcAsRhp8dfdsZU_p_msA...</td>\n",
       "      <td>165</td>\n",
       "      <td>3.36</td>\n",
       "      <td>70</td>\n",
       "      <td>12</td>\n",
       "      <td>10</td>\n",
       "      <td>3</td>\n",
       "      <td>2</td>\n",
       "      <td>62</td>\n",
       "      <td>157</td>\n",
       "      <td>177</td>\n",
       "      <td>177</td>\n",
       "      <td>129</td>\n",
       "      <td>27</td>\n",
       "    </tr>\n",
       "    <tr>\n",
       "      <th>2</th>\n",
       "      <td>Od2Ev0b92eKrciDJIRVNpQ</td>\n",
       "      <td>Matt</td>\n",
       "      <td>552</td>\n",
       "      <td>2010-02-19 04:39:38</td>\n",
       "      <td>2013,2014,2015,2016,2017,2018,2019,20,20,2021</td>\n",
       "      <td>goQo1w4iozF4WoalvQV9iA, _YuTCRA6fH753tQaVGXlBg...</td>\n",
       "      <td>21</td>\n",
       "      <td>3.86</td>\n",
       "      <td>6</td>\n",
       "      <td>3</td>\n",
       "      <td>2</td>\n",
       "      <td>0</td>\n",
       "      <td>0</td>\n",
       "      <td>15</td>\n",
       "      <td>14</td>\n",
       "      <td>8</td>\n",
       "      <td>8</td>\n",
       "      <td>11</td>\n",
       "      <td>3</td>\n",
       "    </tr>\n",
       "    <tr>\n",
       "      <th>3</th>\n",
       "      <td>uBowLGrAIif1DvWLMDCD2g</td>\n",
       "      <td>Gina</td>\n",
       "      <td>43</td>\n",
       "      <td>2011-04-21 19:39:36</td>\n",
       "      <td></td>\n",
       "      <td>OI3dy9QK6NE2KOs0RAP3JQ, vho3rur8sdVMJwpWpKFakg...</td>\n",
       "      <td>2</td>\n",
       "      <td>4.26</td>\n",
       "      <td>1</td>\n",
       "      <td>0</td>\n",
       "      <td>0</td>\n",
       "      <td>1</td>\n",
       "      <td>0</td>\n",
       "      <td>1</td>\n",
       "      <td>2</td>\n",
       "      <td>0</td>\n",
       "      <td>0</td>\n",
       "      <td>0</td>\n",
       "      <td>0</td>\n",
       "    </tr>\n",
       "    <tr>\n",
       "      <th>4</th>\n",
       "      <td>LvJaWVpuGvladxwgi0UoWA</td>\n",
       "      <td>Liam</td>\n",
       "      <td>23</td>\n",
       "      <td>2011-11-14 22:41:45</td>\n",
       "      <td></td>\n",
       "      <td>6SEZ3ePgtGkiAnhYJvUJyw, rWq3jPXb-3nALFk_xtGE2A...</td>\n",
       "      <td>0</td>\n",
       "      <td>2.68</td>\n",
       "      <td>0</td>\n",
       "      <td>0</td>\n",
       "      <td>0</td>\n",
       "      <td>0</td>\n",
       "      <td>0</td>\n",
       "      <td>1</td>\n",
       "      <td>0</td>\n",
       "      <td>0</td>\n",
       "      <td>0</td>\n",
       "      <td>0</td>\n",
       "      <td>0</td>\n",
       "    </tr>\n",
       "  </tbody>\n",
       "</table>\n",
       "</div>"
      ],
      "text/plain": [
       "                  user_id         name  review_count        yelping_since  \\\n",
       "0  fg3ed8OnD28mT_Zx7K8wlA       Ashton            11  2017-04-16 23:59:40   \n",
       "1  h2LtQ1s5X20d0yrdqUMJ0Q  Christopher          1728  2010-03-23 17:13:25   \n",
       "2  Od2Ev0b92eKrciDJIRVNpQ         Matt           552  2010-02-19 04:39:38   \n",
       "3  uBowLGrAIif1DvWLMDCD2g         Gina            43  2011-04-21 19:39:36   \n",
       "4  LvJaWVpuGvladxwgi0UoWA         Liam            23  2011-11-14 22:41:45   \n",
       "\n",
       "                                               elite  \\\n",
       "0                                                      \n",
       "1  2010,2011,2012,2013,2014,2015,2016,2017,2018,2...   \n",
       "2      2013,2014,2015,2016,2017,2018,2019,20,20,2021   \n",
       "3                                                      \n",
       "4                                                      \n",
       "\n",
       "                                             friends  fans  average_stars  \\\n",
       "0                                               None     0           4.18   \n",
       "1  arpUY2-cgsTq2QufV1Ij_g, WCLcAsRhp8dfdsZU_p_msA...   165           3.36   \n",
       "2  goQo1w4iozF4WoalvQV9iA, _YuTCRA6fH753tQaVGXlBg...    21           3.86   \n",
       "3  OI3dy9QK6NE2KOs0RAP3JQ, vho3rur8sdVMJwpWpKFakg...     2           4.26   \n",
       "4  6SEZ3ePgtGkiAnhYJvUJyw, rWq3jPXb-3nALFk_xtGE2A...     0           2.68   \n",
       "\n",
       "   compliment_hot  compliment_more  compliment_profile  compliment_cute  \\\n",
       "0               0                0                   0                0   \n",
       "1              70               12                  10                3   \n",
       "2               6                3                   2                0   \n",
       "3               1                0                   0                1   \n",
       "4               0                0                   0                0   \n",
       "\n",
       "   compliment_list  compliment_note  compliment_plain  compliment_cool  \\\n",
       "0                0                0                 0                0   \n",
       "1                2               62               157              177   \n",
       "2                0               15                14                8   \n",
       "3                0                1                 2                0   \n",
       "4                0                1                 0                0   \n",
       "\n",
       "   compliment_funny  compliment_writer  compliment_photos  \n",
       "0                 0                  0                  0  \n",
       "1               177                129                 27  \n",
       "2                 8                 11                  3  \n",
       "3                 0                  0                  0  \n",
       "4                 0                  0                  0  "
      ]
     },
     "execution_count": 85,
     "metadata": {},
     "output_type": "execute_result"
    }
   ],
   "source": [
    "df_user_filtered.head()"
   ]
  },
  {
   "cell_type": "code",
   "execution_count": 86,
   "metadata": {},
   "outputs": [
    {
     "name": "stdout",
     "output_type": "stream",
     "text": [
      "<class 'pandas.core.frame.DataFrame'>\n",
      "Int64Index: 50760 entries, 0 to 50759\n",
      "Data columns (total 19 columns):\n",
      " #   Column              Non-Null Count  Dtype  \n",
      "---  ------              --------------  -----  \n",
      " 0   user_id             50760 non-null  object \n",
      " 1   name                50760 non-null  object \n",
      " 2   review_count        50760 non-null  int64  \n",
      " 3   yelping_since       50760 non-null  object \n",
      " 4   elite               50760 non-null  object \n",
      " 5   friends             50760 non-null  object \n",
      " 6   fans                50760 non-null  int64  \n",
      " 7   average_stars       50760 non-null  float64\n",
      " 8   compliment_hot      50760 non-null  int64  \n",
      " 9   compliment_more     50760 non-null  int64  \n",
      " 10  compliment_profile  50760 non-null  int64  \n",
      " 11  compliment_cute     50760 non-null  int64  \n",
      " 12  compliment_list     50760 non-null  int64  \n",
      " 13  compliment_note     50760 non-null  int64  \n",
      " 14  compliment_plain    50760 non-null  int64  \n",
      " 15  compliment_cool     50760 non-null  int64  \n",
      " 16  compliment_funny    50760 non-null  int64  \n",
      " 17  compliment_writer   50760 non-null  int64  \n",
      " 18  compliment_photos   50760 non-null  int64  \n",
      "dtypes: float64(1), int64(13), object(5)\n",
      "memory usage: 7.7+ MB\n"
     ]
    }
   ],
   "source": [
    "df_user_filtered.info()"
   ]
  },
  {
   "attachments": {},
   "cell_type": "markdown",
   "metadata": {},
   "source": [
    "## Pickle results\n",
    "Ok, now that we have manageable filtered dataset:\n",
    "- Philadelphia restaurant businesses\n",
    "- Reviews of those restaurants\n",
    "- Profiles of those reviewers\n",
    "\n",
    "We can pickle the df and analyze further in another notebook.<br>\n",
    "We will have to compress the dataframes due to size limitations of pushing to github."
   ]
  },
  {
   "cell_type": "code",
   "execution_count": 87,
   "metadata": {},
   "outputs": [],
   "source": [
    "# create dataframe list\n",
    "dfs=[df_business_philly_pizza,df_reviews_philly_pizza,df_user_filtered]\n",
    "\n",
    "# df names list\n",
    "df_names=['df_business_philly_pizza','df_reviews_philly_pizza','df_user_filtered_pizza']"
   ]
  },
  {
   "cell_type": "code",
   "execution_count": 89,
   "metadata": {},
   "outputs": [],
   "source": [
    "# Compress the DataFrame using gzip and pickle it\n",
    "for df, name in zip(dfs,df_names):\n",
    "  # with gzip.open(os.path.join('./data',name + '.pkl.gz'), 'wb') as f:\n",
    "  #     pd.to_pickle(df, f)\n",
    "  with open(os.path.join('./data', name + '.pkl'), 'wb') as f:\n",
    "    pd.to_pickle(df,f)"
   ]
  }
 ],
 "metadata": {
  "kernelspec": {
   "display_name": "cuny620",
   "language": "python",
   "name": "python3"
  },
  "language_info": {
   "codemirror_mode": {
    "name": "ipython",
    "version": 3
   },
   "file_extension": ".py",
   "mimetype": "text/x-python",
   "name": "python",
   "nbconvert_exporter": "python",
   "pygments_lexer": "ipython3",
   "version": "3.11.3"
  },
  "orig_nbformat": 4
 },
 "nbformat": 4,
 "nbformat_minor": 2
}
