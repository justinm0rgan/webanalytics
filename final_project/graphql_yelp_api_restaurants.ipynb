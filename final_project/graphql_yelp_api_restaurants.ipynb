{
 "cells": [
  {
   "cell_type": "markdown",
   "metadata": {},
   "source": [
    "# Querying NYC Restaurants with Yelp using GraphQL\n",
    "This is a beta program, but contrary to the other Yelp APIs, allows us to completely customize our querys, only obtaining the data we'll need for our analysis.\n",
    "\n",
    "Below is an example of how to utilize the `GraphQL` Yelp API to query 100 restaurants in multiple locations within NYC.\n",
    "\n",
    "For detailed instructions please reference [Getting Started with Yelp GraphQL](https://docs.developer.yelp.com/docs/graphql-intro)"
   ]
  },
  {
   "cell_type": "code",
   "execution_count": 14,
   "metadata": {},
   "outputs": [],
   "source": [
    "# import packages\n",
    "import requests\n",
    "import pandas as pd\n",
    "import time\n",
    "import sys\n",
    "sys.path.append('src') # add src folder to path\n",
    "\n",
    "# import api key\n",
    "from config import YELP_API"
   ]
  },
  {
   "cell_type": "markdown",
   "metadata": {},
   "source": [
    "First we need to set our `headers` and `url`.<br>\n",
    "The API key needs to be approved for beta use, so prior to making any queries, goto the `Manage Account` section of your Yelp profile and approve for beta use."
   ]
  },
  {
   "cell_type": "code",
   "execution_count": 15,
   "metadata": {},
   "outputs": [],
   "source": [
    "# set up headers and access token\n",
    "headers = {\n",
    "    \"Authorization\": f\"Bearer {YELP_API}\",\n",
    "    \"Content-Type\": \"application/json\"\n",
    "}\n",
    "\n",
    "# set url\n",
    "url = \"https://api.yelp.com/v3/graphql\"\n"
   ]
  },
  {
   "cell_type": "markdown",
   "metadata": {},
   "source": [
    "Next lets set the:\n",
    "\n",
    "- locations\n",
    "- categories\n",
    "- total businesses and query limit for each location\n",
    "- total reviews and query limit for each location\n",
    "\n",
    "We will also set empty lists for both business and review data."
   ]
  },
  {
   "cell_type": "code",
   "execution_count": 55,
   "metadata": {},
   "outputs": [],
   "source": [
    "# data storage lists\n",
    "business_data = []\n",
    "review_data = []\n",
    "\n",
    "# locations and limits\n",
    "locations = [\"Brooklyn 11222\", \"Queens 111104\", \"Bronx 10463\"]\n",
    "categories = [\"restaurant\"]\n",
    "business_total = 100\n",
    "business_limit = 50\n",
    "review_limit = 3\n",
    "review_total = 6\n"
   ]
  },
  {
   "cell_type": "markdown",
   "metadata": {},
   "source": [
    "Next we perform the business querys.<br>\n",
    "We have a **one-to-many relationship**, with businesses to reviews, so we will need to query the businesses first, than use those business ids to query the reviews.<br>\n",
    "In addition, there is a <=50 businesses and <= reviews per query, so we will need to offset.<br>\n",
    "Let's loop through each location to apply the query."
   ]
  },
  {
   "cell_type": "code",
   "execution_count": null,
   "metadata": {},
   "outputs": [],
   "source": [
    "\n",
    "for location in locations:\n",
    "    # Fetch businesses\n",
    "    business_count = 0\n",
    "    offset = 0\n",
    "    while business_count < business_total:\n",
    "        # Calculate the number of businesses to retrieve in the current iteration\n",
    "        businesses_to_retrieve = min(business_total - business_count, business_limit)\n",
    "\n",
    "        # query for the businesses in the current location with offset and limit\n",
    "        businesses_query = f\"\"\"\n",
    "        {{\n",
    "          search(location: \"{location}\", categories: \"{categories}\", \n",
    "          limit: {businesses_to_retrieve}, offset: {offset}) {{\n",
    "            business {{\n",
    "              id\n",
    "              name\n",
    "              rating\n",
    "              review_count\n",
    "              is_closed\n",
    "              coordinates {{\n",
    "                  latitude\n",
    "                  longitude\n",
    "              }}\n",
    "              location {{\n",
    "                city\n",
    "                address1\n",
    "                address2\n",
    "                postal_code\n",
    "              }}\n",
    "            }}\n",
    "          }}\n",
    "        }}\n",
    "        \"\"\"\n",
    "\n",
    "        # api call to fetch businesses\n",
    "        response = requests.post(url, json={\"query\": businesses_query}, headers=headers)\n",
    "        data = response.json()\n",
    "\n",
    "        # extract info\n",
    "        businesses = data[\"data\"][\"search\"][\"business\"]\n",
    "\n",
    "        if not businesses:\n",
    "            # No more businesses found for the current location, break the loop\n",
    "            break\n",
    "\n",
    "        # iterate over the businesses and fetch their reviews\n",
    "        for business in businesses:\n",
    "            # fetch reviews for the current business\n",
    "            fetched_reviews = []\n",
    "            offset_reviews = 0\n",
    "            while len(fetched_reviews) < review_total:\n",
    "                reviews_query = f\"\"\"\n",
    "                {{\n",
    "                  business(id: \"{business['id']}\") {{\n",
    "                    reviews(limit: {review_limit}, offset: {offset_reviews}) {{\n",
    "                      user {{\n",
    "                        name\n",
    "                        id\n",
    "                      }}\n",
    "                      rating\n",
    "                      text\n",
    "                    }}\n",
    "                  }}\n",
    "                }}\n",
    "                \"\"\"\n",
    "                # api call to fetch reviews\n",
    "                reviews_response = requests.post(url, json={\"query\": reviews_query}, headers=headers)\n",
    "                reviews_data = reviews_response.json()\n",
    "\n",
    "                # extract info\n",
    "                reviews = reviews_data[\"data\"][\"business\"][\"reviews\"]\n",
    "\n",
    "                fetched_reviews.extend(reviews)\n",
    "                offset_reviews += review_limit\n",
    "\n",
    "            # store business data\n",
    "            business_data.append({\n",
    "                \"business_id\": business[\"id\"],\n",
    "                \"name\": business[\"name\"],\n",
    "                \"address1\": business[\"location\"][\"address1\"],\n",
    "                \"address2\": business[\"location\"][\"address2\"],\n",
    "                \"city\": business[\"location\"][\"city\"],\n",
    "                \"postal_code\": business[\"location\"][\"postal_code\"],\n",
    "                \"rating\": business[\"rating\"],\n",
    "                \"review_count\": business[\"review_count\"],\n",
    "                \"is_cloused\": business[\"is_closed\"],\n",
    "                \"latitude\": business[\"coordinates\"][\"latitude\"],\n",
    "                \"longitude\": business[\"coordinates\"][\"longitude\"]\n",
    "\n",
    "            })\n",
    "\n",
    "            # store review data\n",
    "            for review in fetched_reviews[:review_total]:\n",
    "                review_data.append({\n",
    "                    \"business_id\": business[\"id\"],\n",
    "                    \"review_user_id\": review[\"user\"][\"id\"],\n",
    "                    \"review_user\": review[\"user\"][\"name\"],\n",
    "                    \"review_rating\": review[\"rating\"],\n",
    "                    \"review_text\": review[\"text\"]\n",
    "                })\n",
    "\n",
    "            business_count += 1\n",
    "\n",
    "        offset += business_limit"
   ]
  },
  {
   "cell_type": "markdown",
   "metadata": {},
   "source": [
    "Create two dataframes:\n",
    "- one for businesses\n",
    "- one for reviews\n",
    "\n",
    "Having separate dataframes will allow us to explore the **one-to-many** relationship between business and reviews."
   ]
  },
  {
   "cell_type": "code",
   "execution_count": 56,
   "metadata": {},
   "outputs": [],
   "source": [
    "\n",
    "# business df\n",
    "business_df = pd.DataFrame(business_data)\n",
    "\n",
    "# reviews df\n",
    "review_df = pd.DataFrame(review_data)"
   ]
  },
  {
   "cell_type": "markdown",
   "metadata": {},
   "source": [
    "Look at datatypes and preview."
   ]
  },
  {
   "cell_type": "code",
   "execution_count": 59,
   "metadata": {},
   "outputs": [
    {
     "name": "stdout",
     "output_type": "stream",
     "text": [
      "<class 'pandas.core.frame.DataFrame'>\n",
      "RangeIndex: 300 entries, 0 to 299\n",
      "Data columns (total 11 columns):\n",
      " #   Column        Non-Null Count  Dtype  \n",
      "---  ------        --------------  -----  \n",
      " 0   business_id   300 non-null    object \n",
      " 1   name          300 non-null    object \n",
      " 2   address1      300 non-null    object \n",
      " 3   address2      216 non-null    object \n",
      " 4   city          300 non-null    object \n",
      " 5   postal_code   300 non-null    object \n",
      " 6   rating        300 non-null    float64\n",
      " 7   review_count  300 non-null    int64  \n",
      " 8   is_cloused    300 non-null    bool   \n",
      " 9   latitude      300 non-null    float64\n",
      " 10  longitude     300 non-null    float64\n",
      "dtypes: bool(1), float64(3), int64(1), object(6)\n",
      "memory usage: 23.9+ KB\n"
     ]
    }
   ],
   "source": [
    "business_df.info()"
   ]
  },
  {
   "cell_type": "code",
   "execution_count": 60,
   "metadata": {},
   "outputs": [
    {
     "data": {
      "text/html": [
       "<div>\n",
       "<style scoped>\n",
       "    .dataframe tbody tr th:only-of-type {\n",
       "        vertical-align: middle;\n",
       "    }\n",
       "\n",
       "    .dataframe tbody tr th {\n",
       "        vertical-align: top;\n",
       "    }\n",
       "\n",
       "    .dataframe thead th {\n",
       "        text-align: right;\n",
       "    }\n",
       "</style>\n",
       "<table border=\"1\" class=\"dataframe\">\n",
       "  <thead>\n",
       "    <tr style=\"text-align: right;\">\n",
       "      <th></th>\n",
       "      <th>business_id</th>\n",
       "      <th>name</th>\n",
       "      <th>address1</th>\n",
       "      <th>address2</th>\n",
       "      <th>city</th>\n",
       "      <th>postal_code</th>\n",
       "      <th>rating</th>\n",
       "      <th>review_count</th>\n",
       "      <th>is_cloused</th>\n",
       "      <th>latitude</th>\n",
       "      <th>longitude</th>\n",
       "    </tr>\n",
       "  </thead>\n",
       "  <tbody>\n",
       "    <tr>\n",
       "      <th>0</th>\n",
       "      <td>qLLxS7RwNEjP_jq_KQrPfA</td>\n",
       "      <td>Traif</td>\n",
       "      <td>229 S 4th St</td>\n",
       "      <td></td>\n",
       "      <td>Brooklyn</td>\n",
       "      <td>11211</td>\n",
       "      <td>4.5</td>\n",
       "      <td>2024</td>\n",
       "      <td>False</td>\n",
       "      <td>40.710658</td>\n",
       "      <td>-73.958872</td>\n",
       "    </tr>\n",
       "    <tr>\n",
       "      <th>1</th>\n",
       "      <td>zwOAiVT4pAmpNGXzj-t5MA</td>\n",
       "      <td>Lilia</td>\n",
       "      <td>567 Union Ave</td>\n",
       "      <td></td>\n",
       "      <td>Brooklyn</td>\n",
       "      <td>11211</td>\n",
       "      <td>4.0</td>\n",
       "      <td>1176</td>\n",
       "      <td>False</td>\n",
       "      <td>40.717570</td>\n",
       "      <td>-73.952360</td>\n",
       "    </tr>\n",
       "    <tr>\n",
       "      <th>2</th>\n",
       "      <td>jAaVnUKLITkuhzwXIe0vLQ</td>\n",
       "      <td>Cafe Mogador</td>\n",
       "      <td>133 Wythe Ave</td>\n",
       "      <td></td>\n",
       "      <td>Brooklyn</td>\n",
       "      <td>11211</td>\n",
       "      <td>4.5</td>\n",
       "      <td>1400</td>\n",
       "      <td>False</td>\n",
       "      <td>40.719747</td>\n",
       "      <td>-73.959993</td>\n",
       "    </tr>\n",
       "    <tr>\n",
       "      <th>3</th>\n",
       "      <td>hthvpEL7JEbfxfD6iP9axQ</td>\n",
       "      <td>DeStefano's Steakhouse</td>\n",
       "      <td>593 Lorimer St</td>\n",
       "      <td></td>\n",
       "      <td>Brooklyn</td>\n",
       "      <td>11211</td>\n",
       "      <td>4.5</td>\n",
       "      <td>1020</td>\n",
       "      <td>False</td>\n",
       "      <td>40.714624</td>\n",
       "      <td>-73.949740</td>\n",
       "    </tr>\n",
       "    <tr>\n",
       "      <th>4</th>\n",
       "      <td>6gzQLjzJk25ePm_JS7ZAug</td>\n",
       "      <td>Esme</td>\n",
       "      <td>999 Manhattan Ave</td>\n",
       "      <td>None</td>\n",
       "      <td>Brooklyn</td>\n",
       "      <td>11222</td>\n",
       "      <td>4.5</td>\n",
       "      <td>400</td>\n",
       "      <td>False</td>\n",
       "      <td>40.733226</td>\n",
       "      <td>-73.954927</td>\n",
       "    </tr>\n",
       "  </tbody>\n",
       "</table>\n",
       "</div>"
      ],
      "text/plain": [
       "              business_id                    name           address1 address2  \\\n",
       "0  qLLxS7RwNEjP_jq_KQrPfA                   Traif       229 S 4th St            \n",
       "1  zwOAiVT4pAmpNGXzj-t5MA                   Lilia      567 Union Ave            \n",
       "2  jAaVnUKLITkuhzwXIe0vLQ            Cafe Mogador      133 Wythe Ave            \n",
       "3  hthvpEL7JEbfxfD6iP9axQ  DeStefano's Steakhouse     593 Lorimer St            \n",
       "4  6gzQLjzJk25ePm_JS7ZAug                    Esme  999 Manhattan Ave     None   \n",
       "\n",
       "       city postal_code  rating  review_count  is_cloused   latitude  \\\n",
       "0  Brooklyn       11211     4.5          2024       False  40.710658   \n",
       "1  Brooklyn       11211     4.0          1176       False  40.717570   \n",
       "2  Brooklyn       11211     4.5          1400       False  40.719747   \n",
       "3  Brooklyn       11211     4.5          1020       False  40.714624   \n",
       "4  Brooklyn       11222     4.5           400       False  40.733226   \n",
       "\n",
       "   longitude  \n",
       "0 -73.958872  \n",
       "1 -73.952360  \n",
       "2 -73.959993  \n",
       "3 -73.949740  \n",
       "4 -73.954927  "
      ]
     },
     "execution_count": 60,
     "metadata": {},
     "output_type": "execute_result"
    }
   ],
   "source": [
    "# preview\n",
    "business_df.head()"
   ]
  },
  {
   "cell_type": "code",
   "execution_count": 64,
   "metadata": {},
   "outputs": [
    {
     "name": "stdout",
     "output_type": "stream",
     "text": [
      "<class 'pandas.core.frame.DataFrame'>\n",
      "RangeIndex: 1800 entries, 0 to 1799\n",
      "Data columns (total 5 columns):\n",
      " #   Column          Non-Null Count  Dtype \n",
      "---  ------          --------------  ----- \n",
      " 0   business_id     1800 non-null   object\n",
      " 1   review_user_id  1800 non-null   object\n",
      " 2   review_user     1800 non-null   object\n",
      " 3   review_rating   1800 non-null   int64 \n",
      " 4   review_text     1800 non-null   object\n",
      "dtypes: int64(1), object(4)\n",
      "memory usage: 70.4+ KB\n"
     ]
    }
   ],
   "source": [
    "# dtypes\n",
    "review_df.info()"
   ]
  },
  {
   "cell_type": "code",
   "execution_count": 61,
   "metadata": {},
   "outputs": [
    {
     "data": {
      "text/html": [
       "<div>\n",
       "<style scoped>\n",
       "    .dataframe tbody tr th:only-of-type {\n",
       "        vertical-align: middle;\n",
       "    }\n",
       "\n",
       "    .dataframe tbody tr th {\n",
       "        vertical-align: top;\n",
       "    }\n",
       "\n",
       "    .dataframe thead th {\n",
       "        text-align: right;\n",
       "    }\n",
       "</style>\n",
       "<table border=\"1\" class=\"dataframe\">\n",
       "  <thead>\n",
       "    <tr style=\"text-align: right;\">\n",
       "      <th></th>\n",
       "      <th>business_id</th>\n",
       "      <th>review_user_id</th>\n",
       "      <th>review_user</th>\n",
       "      <th>review_rating</th>\n",
       "      <th>review_text</th>\n",
       "    </tr>\n",
       "  </thead>\n",
       "  <tbody>\n",
       "    <tr>\n",
       "      <th>0</th>\n",
       "      <td>qLLxS7RwNEjP_jq_KQrPfA</td>\n",
       "      <td>MfsHZG8YsH5S_8b_NR6rVw</td>\n",
       "      <td>Thomas H.</td>\n",
       "      <td>5</td>\n",
       "      <td>food is excellent. I love that they don't rush...</td>\n",
       "    </tr>\n",
       "    <tr>\n",
       "      <th>1</th>\n",
       "      <td>qLLxS7RwNEjP_jq_KQrPfA</td>\n",
       "      <td>jv4iczCaaKne1tJA-Qd55A</td>\n",
       "      <td>Ashley K.</td>\n",
       "      <td>5</td>\n",
       "      <td>WOW. This was one of the best meals I've had i...</td>\n",
       "    </tr>\n",
       "    <tr>\n",
       "      <th>2</th>\n",
       "      <td>qLLxS7RwNEjP_jq_KQrPfA</td>\n",
       "      <td>LBCZ6Tw1Na6U9kfqXsZo8Q</td>\n",
       "      <td>Dennis W.</td>\n",
       "      <td>4</td>\n",
       "      <td>Traif is SO good. The menu is reasonably price...</td>\n",
       "    </tr>\n",
       "    <tr>\n",
       "      <th>3</th>\n",
       "      <td>qLLxS7RwNEjP_jq_KQrPfA</td>\n",
       "      <td>MfsHZG8YsH5S_8b_NR6rVw</td>\n",
       "      <td>Thomas H.</td>\n",
       "      <td>5</td>\n",
       "      <td>food is excellent. I love that they don't rush...</td>\n",
       "    </tr>\n",
       "    <tr>\n",
       "      <th>4</th>\n",
       "      <td>qLLxS7RwNEjP_jq_KQrPfA</td>\n",
       "      <td>jv4iczCaaKne1tJA-Qd55A</td>\n",
       "      <td>Ashley K.</td>\n",
       "      <td>5</td>\n",
       "      <td>WOW. This was one of the best meals I've had i...</td>\n",
       "    </tr>\n",
       "  </tbody>\n",
       "</table>\n",
       "</div>"
      ],
      "text/plain": [
       "              business_id          review_user_id review_user  review_rating  \\\n",
       "0  qLLxS7RwNEjP_jq_KQrPfA  MfsHZG8YsH5S_8b_NR6rVw   Thomas H.              5   \n",
       "1  qLLxS7RwNEjP_jq_KQrPfA  jv4iczCaaKne1tJA-Qd55A   Ashley K.              5   \n",
       "2  qLLxS7RwNEjP_jq_KQrPfA  LBCZ6Tw1Na6U9kfqXsZo8Q   Dennis W.              4   \n",
       "3  qLLxS7RwNEjP_jq_KQrPfA  MfsHZG8YsH5S_8b_NR6rVw   Thomas H.              5   \n",
       "4  qLLxS7RwNEjP_jq_KQrPfA  jv4iczCaaKne1tJA-Qd55A   Ashley K.              5   \n",
       "\n",
       "                                         review_text  \n",
       "0  food is excellent. I love that they don't rush...  \n",
       "1  WOW. This was one of the best meals I've had i...  \n",
       "2  Traif is SO good. The menu is reasonably price...  \n",
       "3  food is excellent. I love that they don't rush...  \n",
       "4  WOW. This was one of the best meals I've had i...  "
      ]
     },
     "execution_count": 61,
     "metadata": {},
     "output_type": "execute_result"
    }
   ],
   "source": [
    "# preview\n",
    "review_df.head()"
   ]
  },
  {
   "cell_type": "markdown",
   "metadata": {},
   "source": [
    "Let's groupby `reviewer_user_id` and see if we have reviewers with multiple reviews."
   ]
  },
  {
   "cell_type": "code",
   "execution_count": 66,
   "metadata": {},
   "outputs": [
    {
     "data": {
      "text/plain": [
       "review_user_id\n",
       "MxtKj5GFmCvijWOLQ1pjdg    20\n",
       "rT502dRc8jUxcIdIu0JTLA    14\n",
       "uaAJzWR1iipChDerr_hFkg    12\n",
       "uySR3jDEk_DrvUt9fAThYg    10\n",
       "ux418S1kkyYQzUyvYc8mqQ    10\n",
       "X9VCpNQoEz8D20N_OsSg2w    10\n",
       "JPH-WOKa6EBMlpBGLIPuiw     8\n",
       "LBCZ6Tw1Na6U9kfqXsZo8Q     8\n",
       "QEvgjD61Dy3tynbPN8z88A     8\n",
       "Sjx_y-T0fTXO2M5TiDCWsw     6\n",
       "dtype: int64"
      ]
     },
     "execution_count": 66,
     "metadata": {},
     "output_type": "execute_result"
    }
   ],
   "source": [
    "review_df.groupby('review_user_id').size().sort_values(ascending=False).head(10)"
   ]
  },
  {
   "cell_type": "markdown",
   "metadata": {},
   "source": [
    "Pickle dataframes for future analysis."
   ]
  },
  {
   "cell_type": "code",
   "execution_count": 25,
   "metadata": {},
   "outputs": [],
   "source": [
    "# pickle df\n",
    "business_df.to_pickle(\"./data/business_df_300.pkl\")\n",
    "review_df.to_pickle(\"./data/reviews_df_1800.pkl\")"
   ]
  }
 ],
 "metadata": {
  "kernelspec": {
   "display_name": "Python 3 (ipykernel)",
   "language": "python",
   "name": "python3"
  },
  "language_info": {
   "codemirror_mode": {
    "name": "ipython",
    "version": 3
   },
   "file_extension": ".py",
   "mimetype": "text/x-python",
   "name": "python",
   "nbconvert_exporter": "python",
   "pygments_lexer": "ipython3",
   "version": "3.10.9"
  }
 },
 "nbformat": 4,
 "nbformat_minor": 2
}
